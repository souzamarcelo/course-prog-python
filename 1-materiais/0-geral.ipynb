{
 "cells": [
  {
   "cell_type": "markdown",
   "id": "social-weapon",
   "metadata": {},
   "source": [
    "<div align=\"right\" style=\"text-align:right\"><a rel=\"license\" href=\"http://creativecommons.org/licenses/by-nc-nd/4.0/\"><img alt=\"Licença Creative Commons\" style=\"border-width:0; float:right\" src=\"https://i.creativecommons.org/l/by-nc-nd/4.0/88x31.png\" /></a><br><br><i>Prof. Marcelo de Souza</i><br>marcelo.desouza@udesc.br</div>"
   ]
  },
  {
   "cell_type": "markdown",
   "id": "communist-colors",
   "metadata": {},
   "source": [
    "# Geral\n",
    "\n",
    "Comandos básicos em Python."
   ]
  },
  {
   "cell_type": "markdown",
   "id": "mental-advance",
   "metadata": {},
   "source": [
    "## Imprimir conteúdo na tela"
   ]
  },
  {
   "cell_type": "code",
   "execution_count": 2,
   "id": "endangered-spain",
   "metadata": {
    "scrolled": false
   },
   "outputs": [
    {
     "name": "stdout",
     "output_type": "stream",
     "text": [
      "Imprimindo um texto usando áspas simples\n",
      "Imprimindo um texto usando áspas duplas\n",
      "4\n",
      "Imprimindo um texto seguido de um número  3\n"
     ]
    }
   ],
   "source": [
    "print('Imprimindo um texto usando áspas simples')\n",
    "print(\"Imprimindo um texto usando áspas duplas\")\n",
    "print(4)\n",
    "print('Imprimindo um texto seguido de um número ', 3)"
   ]
  },
  {
   "cell_type": "markdown",
   "id": "marked-albany",
   "metadata": {},
   "source": [
    "**Note:**\n",
    "+ Os comandos são executados em sequência (de cima para baixo).\n",
    "\n",
    "---"
   ]
  }
 ],
 "metadata": {
  "kernelspec": {
   "display_name": "Python 3",
   "language": "python",
   "name": "python3"
  },
  "language_info": {
   "codemirror_mode": {
    "name": "ipython",
    "version": 3
   },
   "file_extension": ".py",
   "mimetype": "text/x-python",
   "name": "python",
   "nbconvert_exporter": "python",
   "pygments_lexer": "ipython3",
   "version": "3.8.5"
  }
 },
 "nbformat": 4,
 "nbformat_minor": 5
}
