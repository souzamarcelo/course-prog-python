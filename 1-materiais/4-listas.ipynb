{
 "cells": [
  {
   "cell_type": "markdown",
   "id": "461e41e3",
   "metadata": {},
   "source": [
    "<div align=\"right\" style=\"text-align:right\"><a rel=\"license\" href=\"http://creativecommons.org/licenses/by-nc-nd/4.0/\"><img alt=\"Licença Creative Commons\" style=\"border-width:0; float:right\" src=\"https://i.creativecommons.org/l/by-nc-nd/4.0/88x31.png\" /></a><br><br><i>Prof. Marcelo de Souza</i><br>marcelo.desouza@udesc.br</div>"
   ]
  },
  {
   "cell_type": "markdown",
   "id": "3c383b49",
   "metadata": {},
   "source": [
    "# Listas\n",
    "\n",
    "(também chamadas de vetores e matrizes)\n",
    "\n",
    "Uma lista é uma variável (ou seja, é um tipo do Python) que permite armazenar vários valores, em vez de um único valor. Ou seja, podemos criar uma lista de números e armazenar diversos números nessa mesma variável.\n",
    "\n",
    "---"
   ]
  },
  {
   "cell_type": "markdown",
   "id": "36691539",
   "metadata": {},
   "source": [
    "## 1. Conceitos básicos\n",
    "\n",
    "Para criar uma lista, basta definir uma variável e usar colchetes (``[]``) para definir seus elementos. Cada elemento é separado por uma vírgula."
   ]
  },
  {
   "cell_type": "code",
   "execution_count": 2,
   "id": "8207f0b9",
   "metadata": {},
   "outputs": [
    {
     "name": "stdout",
     "output_type": "stream",
     "text": [
      "[1, 5, 2, 6, 8, 9]\n",
      "['João', 'Maria', 'Ana', 'José']\n",
      "[]\n",
      "<class 'list'>\n",
      "<class 'list'>\n",
      "<class 'list'>\n"
     ]
    }
   ],
   "source": [
    "lista = [1, 5, 2, 6, 8, 9]   # uma lista de números\n",
    "print(lista)\n",
    "\n",
    "textos = ['João', 'Maria', 'Ana', 'José']   # uma lista de strings\n",
    "print(textos)\n",
    "\n",
    "L = []   # uma lista vazia (sem elementos)\n",
    "print(L)\n",
    "\n",
    "# uma lista é um tipo específico do Python\n",
    "print(type(lista))\n",
    "print(type(textos))\n",
    "print(type(L))"
   ]
  },
  {
   "cell_type": "markdown",
   "id": "duplicate-brook",
   "metadata": {},
   "source": [
    "O tamanho de uma lista é o número de elementos que ela armazena, podendo ser verificado com o comando ``len``."
   ]
  },
  {
   "cell_type": "code",
   "execution_count": 4,
   "id": "previous-straight",
   "metadata": {},
   "outputs": [
    {
     "name": "stdout",
     "output_type": "stream",
     "text": [
      "5\n",
      "4\n",
      "0\n"
     ]
    }
   ],
   "source": [
    "idades = [1, 5, 3, 2, 8]\n",
    "alturas = [1.76, 1.91, 1.55, 1.68]\n",
    "nomes = []\n",
    "\n",
    "print(len(idades))\n",
    "print(len(alturas))\n",
    "print(len(nomes))"
   ]
  },
  {
   "cell_type": "markdown",
   "id": "worldwide-injection",
   "metadata": {},
   "source": [
    "Podemos criar uma lista com $n$ elementos e preencher com um valor $i$ predeterminado."
   ]
  },
  {
   "cell_type": "code",
   "execution_count": 14,
   "id": "regular-merchandise",
   "metadata": {},
   "outputs": [
    {
     "name": "stdout",
     "output_type": "stream",
     "text": [
      "[0, 0, 0, 0, 0, 0, 0, 0, 0, 0]\n",
      "[1, 1, 1, 1, 1]\n"
     ]
    }
   ],
   "source": [
    "n = 10\n",
    "i = 0\n",
    "\n",
    "lista = [i] * n\n",
    "print(lista)\n",
    "\n",
    "lista = [1] * 5\n",
    "print(lista)"
   ]
  },
  {
   "cell_type": "markdown",
   "id": "miniature-musician",
   "metadata": {},
   "source": [
    "***\n",
    "\n",
    "## 1. Acesso\n",
    "\n",
    "Acessamos os elementos de uma lista pela sua posição, e chamamos a posição de índice. A primeira posição da lista é identificada pelo índice 0; a segunda posição da lista é identificada pelo índice 1; e assim por diante. Logo, uma lista é indexada de 0 até seu tamanho - 1."
   ]
  },
  {
   "cell_type": "code",
   "execution_count": 15,
   "id": "unlikely-reward",
   "metadata": {},
   "outputs": [
    {
     "name": "stdout",
     "output_type": "stream",
     "text": [
      "6\n",
      "3\n",
      "1\n",
      "4\n",
      "8\n",
      "8\n"
     ]
    }
   ],
   "source": [
    "lista = [6, 3, 1, 4, 8]\n",
    "\n",
    "print(lista[0])\n",
    "print(lista[1])\n",
    "print(lista[2])\n",
    "print(lista[3])\n",
    "print(lista[4])\n",
    "print(lista[len(lista) - 1])   # mesmo efeito de acessar lista[4], pois len(lista) é 5\n",
    "\n",
    "#print(lista[5])   # erro, pois o índice 5 (sexto elemento) não existe\n",
    "#print(lista[len(lista)])   # mesmo efeito de acessar lista[5], gerando erro na execução"
   ]
  },
  {
   "cell_type": "markdown",
   "id": "lyric-remedy",
   "metadata": {},
   "source": [
    "Podemos (e devemos) usar laços de repetição para percorrer os elementos armazenados em uma lista, especialmente em listas grandes ou com número de elementos desconhecido."
   ]
  },
  {
   "cell_type": "code",
   "execution_count": 19,
   "id": "controversial-finland",
   "metadata": {},
   "outputs": [
    {
     "name": "stdout",
     "output_type": "stream",
     "text": [
      "15\n",
      "3  5  1  6  7  3  1  2  7  8  9  3  4  6  7  "
     ]
    }
   ],
   "source": [
    "lista = [3, 5, 1, 6, 7, 3, 1, 2, 7, 8, 9, 3, 4, 6, 7]\n",
    "print(len(lista))\n",
    "\n",
    "for indice in range(len(lista)):\n",
    "    print(lista[indice], end = '  ')"
   ]
  },
  {
   "cell_type": "markdown",
   "id": "decent-smoke",
   "metadata": {},
   "source": [
    "Podemos usar uma sintaxe mais enxuta do ``for``, que nos permite percorrer cada elemento de uma dada lista, armazenando o elemento visitado em cada iteração na variável de controle do laço."
   ]
  },
  {
   "cell_type": "code",
   "execution_count": 20,
   "id": "median-communist",
   "metadata": {},
   "outputs": [
    {
     "name": "stdout",
     "output_type": "stream",
     "text": [
      "3  5  1  6  7  3  1  2  7  8  9  3  4  6  7  "
     ]
    }
   ],
   "source": [
    "lista = [3, 5, 1, 6, 7, 3, 1, 2, 7, 8, 9, 3, 4, 6, 7]\n",
    "\n",
    "for elemento in lista:\n",
    "    print(elemento, end = '  ')"
   ]
  },
  {
   "cell_type": "markdown",
   "id": "tough-being",
   "metadata": {},
   "source": [
    "***\n",
    "\n",
    "**Exercício:** dada uma lista de notas, calcule a média final."
   ]
  },
  {
   "cell_type": "code",
   "execution_count": 21,
   "id": "complex-fifty",
   "metadata": {},
   "outputs": [
    {
     "name": "stdout",
     "output_type": "stream",
     "text": [
      "7.78\n"
     ]
    }
   ],
   "source": [
    "notas = [8, 7.5, 9.6, 5.5, 6.8, 9.3]\n",
    "soma = 0\n",
    "for nota in notas:\n",
    "    soma = soma + nota\n",
    "media = soma / len(notas)\n",
    "print(round(media, 2))"
   ]
  },
  {
   "cell_type": "markdown",
   "id": "acquired-armenia",
   "metadata": {},
   "source": [
    "***\n",
    "\n",
    "**Exercício:** dada uma lista de inteiros, mostre:\n",
    "+ a quantidade de valores negativos;\n",
    "+ a quantidade de valores pares;\n",
    "+ o somatório dos valores entre 5 e 15, inclusive."
   ]
  },
  {
   "cell_type": "code",
   "execution_count": 22,
   "id": "initial-accordance",
   "metadata": {},
   "outputs": [
    {
     "name": "stdout",
     "output_type": "stream",
     "text": [
      "Valores negativos: 2\n",
      "Valores pares: 4\n",
      "Somatório entre 5 e 15: 24\n"
     ]
    }
   ],
   "source": [
    "numeros = [2, 7, 4, -8, 5, -3, 12]\n",
    "\n",
    "negativos = 0\n",
    "pares = 0\n",
    "somatorio = 0\n",
    "\n",
    "for n in numeros:\n",
    "    if n < 0:\n",
    "        negativos += 1\n",
    "    if n % 2 == 0:\n",
    "        pares += 1\n",
    "    if n >= 5 and n <= 15:\n",
    "        somatorio += n\n",
    "\n",
    "print('Valores negativos: ' + str(negativos))\n",
    "print('Valores pares: ' + str(pares))\n",
    "print('Somatório entre 5 e 15: ' + str(somatorio))"
   ]
  },
  {
   "cell_type": "markdown",
   "id": "fossil-casting",
   "metadata": {},
   "source": [
    "***\n",
    "\n",
    "## 2. Modificação\n",
    "\n",
    "Para atribuir valores aos elementos de uma lista, usamos o índice ao qual queremos atribuir um novo valor."
   ]
  },
  {
   "cell_type": "code",
   "execution_count": 23,
   "id": "banned-ending",
   "metadata": {},
   "outputs": [
    {
     "name": "stdout",
     "output_type": "stream",
     "text": [
      "[5, 2, 3, 1, 7]\n",
      "[-1, 2, 3, 0, 7]\n"
     ]
    }
   ],
   "source": [
    "lista = [5, 2, 3, 1, 7]\n",
    "print(lista)\n",
    "\n",
    "lista[3] = 0\n",
    "lista[0] = -1\n",
    "print(lista)"
   ]
  },
  {
   "cell_type": "markdown",
   "id": "systematic-karen",
   "metadata": {},
   "source": [
    "Podemos preencher uma lista com 5 elementos informados pelo usuário."
   ]
  },
  {
   "cell_type": "code",
   "execution_count": 25,
   "id": "supposed-sweet",
   "metadata": {},
   "outputs": [
    {
     "name": "stdout",
     "output_type": "stream",
     "text": [
      "Informe um nome: Maria\n",
      "Informe um nome: Ana\n",
      "Informe um nome: Pedro\n",
      "Informe um nome: José\n",
      "Informe um nome: João\n",
      "['Maria', 'Ana', 'Pedro', 'José', 'João']\n"
     ]
    }
   ],
   "source": [
    "nomes = ['', '', '', '', '']   # primeiro, temos que criar a lista com o tamanho necessário\n",
    "\n",
    "nomes[0] = input('Informe um nome: ')\n",
    "nomes[1] = input('Informe um nome: ')\n",
    "nomes[2] = input('Informe um nome: ')\n",
    "nomes[3] = input('Informe um nome: ')\n",
    "nomes[4] = input('Informe um nome: ')\n",
    "\n",
    "print(nomes)"
   ]
  },
  {
   "cell_type": "markdown",
   "id": "baking-format",
   "metadata": {},
   "source": [
    "***\n",
    "\n",
    "**Exercício:** solicitar ao usuário o número de elementos que ele deseja armazenar; criar uma lista com esse tamanho e solicitar cada elemento ao usuário; exibir a lista com todos os elementos."
   ]
  },
  {
   "cell_type": "code",
   "execution_count": 29,
   "id": "selected-vertical",
   "metadata": {},
   "outputs": [
    {
     "name": "stdout",
     "output_type": "stream",
     "text": [
      "Informe o número de elementos: 5\n",
      "Informe o valor da posição 0: 4\n",
      "Informe o valor da posição 1: 1\n",
      "Informe o valor da posição 2: 3\n",
      "Informe o valor da posição 3: 6\n",
      "Informe o valor da posição 4: 8\n",
      "[4, 1, 3, 6, 8]\n",
      "4\n",
      "1\n",
      "3\n",
      "6\n",
      "8\n",
      "\n",
      "Maiores que o primeiro elemento:\n",
      "6\n",
      "8\n"
     ]
    }
   ],
   "source": [
    "n = int(input('Informe o número de elementos: '))\n",
    "lista = [0] * n\n",
    "for i in range(0, n):\n",
    "    lista[i] = int(input('Informe o valor da posição ' + str(i) + ': '))\n",
    "print(lista)\n",
    "\n",
    "for elemento in lista:\n",
    "    print(elemento)\n",
    "    \n",
    "    \n",
    "# ADICIONAL: exibir os elementos da lista maiores que o primeiro elemento da lista\n",
    "print('\\nMaiores que o primeiro elemento:')\n",
    "for elemento in lista:\n",
    "    if elemento > lista[0]:\n",
    "        print(elemento)"
   ]
  },
  {
   "cell_type": "markdown",
   "id": "worth-setting",
   "metadata": {},
   "source": [
    "***\n",
    "\n",
    "**Exercício:** ler as alturas dos 5 jogadores de um time de basquete, e mostrar as alturas abaixo da média de alturas."
   ]
  },
  {
   "cell_type": "code",
   "execution_count": 30,
   "id": "alpha-medicaid",
   "metadata": {},
   "outputs": [
    {
     "name": "stdout",
     "output_type": "stream",
     "text": [
      "Informe altura: 1.93\n",
      "Informe altura: 1.71\n",
      "Informe altura: 1.99\n",
      "Informe altura: 2.06\n",
      "Informe altura: 1.84\n",
      "1.71\n",
      "1.84\n"
     ]
    }
   ],
   "source": [
    "alturas = [0] * 5\n",
    "for i in range(len(alturas)):\n",
    "    alturas[i] = float(input('Informe altura: '))\n",
    "\n",
    "soma = 0\n",
    "for altura in alturas:\n",
    "    soma += altura\n",
    "\n",
    "media = soma / len(alturas)\n",
    "\n",
    "for altura in alturas:\n",
    "    if altura < media:\n",
    "        print(altura)"
   ]
  },
  {
   "cell_type": "markdown",
   "id": "complimentary-territory",
   "metadata": {},
   "source": [
    "***\n",
    "\n",
    "**Exercício:** ler uma lista com 12 elementos (inteiros) e dois valores, $x$ e $y$ correspondendo a posições da lista. Apresentar:\n",
    "+ a soma dos elementos entre as posições x e y (inclusive);\n",
    "+ substituir os elementos das posições menores que x por -1 e das posições maiores que y por 99."
   ]
  },
  {
   "cell_type": "code",
   "execution_count": 32,
   "id": "electric-gross",
   "metadata": {},
   "outputs": [
    {
     "name": "stdout",
     "output_type": "stream",
     "text": [
      "Informe um inteiro: 3\n",
      "Informe um inteiro: 2\n",
      "Informe um inteiro: 4\n",
      "Informe um inteiro: 5\n",
      "Informe um inteiro: 6\n",
      "Informe um inteiro: 2\n",
      "Informe um inteiro: 3\n",
      "Informe um inteiro: 8\n",
      "Informe um inteiro: 9\n",
      "Informe um inteiro: 0\n",
      "Informe um inteiro: 1\n",
      "Informe um inteiro: 2\n",
      "Informe a posição x: 4\n",
      "Informe a posição y (> x): 9\n",
      "\n",
      "Lista: [3, 2, 4, 5, 6, 2, 3, 8, 9, 0, 1, 2]\n",
      "Soma entre x e y (inclusive): 28\n",
      "Lista nova: [-1, -1, -1, -1, 6, 2, 3, 8, 9, 0, 99, 99]\n"
     ]
    }
   ],
   "source": [
    "tamanho = 12\n",
    "lista = [0] * tamanho\n",
    "for i in range(tamanho):\n",
    "    lista[i] = int(input('Informe um inteiro: '))\n",
    "\n",
    "x = int(input('Informe a posição x: '))\n",
    "y = int(input('Informe a posição y (> x): '))\n",
    "\n",
    "print('\\nLista: ' + str(lista))\n",
    "soma = 0\n",
    "for i in range(x, y + 1):\n",
    "    soma += lista[i]\n",
    "print('Soma entre x e y (inclusive): %d'% soma)\n",
    "\n",
    "for i in range(x):\n",
    "    lista[i] = -1\n",
    "\n",
    "for i in range(y + 1, len(lista)):\n",
    "    lista[i] = 99\n",
    "\n",
    "print('Lista nova: ' + str(lista))"
   ]
  },
  {
   "cell_type": "markdown",
   "id": "1c1fcbaf",
   "metadata": {},
   "source": [
    "## 3. Cópia de listas\n",
    "\n",
    "Quando copiamos uma variável simples, uma cópia do seu valor é atribuída à nova variável. Em um primeiro momento, ambas as variáveis apontam para o mesmo endereço em memória. No entanto, basta alterar uma das variáveis para que elas apontem para endereços distintos em memória, cada uma armazenando seu valor (diferentes valores). Ou seja, se alteramos o valor de uma das variáveis, o valor da outra variável não é alterado.\n",
    "\n",
    "Exemplo:"
   ]
  },
  {
   "cell_type": "code",
   "execution_count": 1,
   "id": "baking-poultry",
   "metadata": {},
   "outputs": [
    {
     "name": "stdout",
     "output_type": "stream",
     "text": [
      "5\n",
      "5\n",
      "7\n",
      "5\n"
     ]
    }
   ],
   "source": [
    "a = 5\n",
    "b = a\n",
    "print(a)\n",
    "print(b)\n",
    "a = 7\n",
    "print(a)\n",
    "print(b)"
   ]
  },
  {
   "cell_type": "markdown",
   "id": "69941a63",
   "metadata": {},
   "source": [
    "Ao copiar listas, no entanto, não é feita uma cópia do conteúdo de uma lista à nova variável. A nova variável passa a apontar para o mesmo espaço em memória. Com isso, se alteramos algum elemento da lista (tanto usando a variável quanto a nova), ambas as variáveis têm seu conteúdo alterado, visto que em memória trata-se do mesmo registro.\n",
    "\n",
    "Em resumo, dizemos que as variáveis simples do Python são copiadas **por valor**, enquanto listas (e também outros tipos de dados) são copiadas **por referência**."
   ]
  },
  {
   "cell_type": "code",
   "execution_count": 2,
   "id": "733463d3",
   "metadata": {},
   "outputs": [
    {
     "name": "stdout",
     "output_type": "stream",
     "text": [
      "['Maria', 'João', 'Ana']\n",
      "['Maria', 'João', 'Ana']\n",
      "['Maria', 'X', 'Ana']\n",
      "['Maria', 'X', 'Ana']\n"
     ]
    }
   ],
   "source": [
    "lista1 = ['Maria', 'João', 'Ana']\n",
    "lista2 = lista1\n",
    "print(lista1)\n",
    "print(lista2)\n",
    "lista2[1] = 'X'\n",
    "print(lista1)\n",
    "print(lista2)"
   ]
  },
  {
   "cell_type": "markdown",
   "id": "b00a9c7b",
   "metadata": {},
   "source": [
    "Podemos usar o comando ``id`` para verificar o endereço de memória de uma variável. Também podemos usar o comando ``is`` para saber se duas variáveis são as mesmas, ou seja, se apontam para o mesmo endereço de memória. Note que duas variáveis que apontam para diferentes endereços de memória não são as mesmas, mesmo que os conteúdos armazenados nesses endereços sejam iguais."
   ]
  },
  {
   "cell_type": "code",
   "execution_count": 6,
   "id": "fdf1ebe3",
   "metadata": {},
   "outputs": [
    {
     "name": "stdout",
     "output_type": "stream",
     "text": [
      "Apresentando os IDs das variáveis a e b:\n",
      "9789152\n",
      "9789088\n",
      "\n",
      "Apresentando os IDs das variáveis lista1 e lista2\n",
      "140032176925376\n",
      "140032176925376\n",
      "\n",
      "Verificando se as variáveis são as mesmas\n",
      "False\n",
      "True\n"
     ]
    }
   ],
   "source": [
    "a = 5\n",
    "b = a\n",
    "a = 7\n",
    "lista1 = ['Maria', 'João', 'Ana']\n",
    "lista2 = lista1\n",
    "lista2[1] = 'X'\n",
    "\n",
    "print('Apresentando os IDs das variáveis a e b:')\n",
    "print(id(a))\n",
    "print(id(b))\n",
    "print()\n",
    "\n",
    "print('Apresentando os IDs das variáveis lista1 e lista2')\n",
    "print(id(lista1))\n",
    "print(id(lista2))\n",
    "print()\n",
    "\n",
    "print('Verificando se as variáveis são as mesmas')\n",
    "print(a is b)\n",
    "print(lista1 is lista2)"
   ]
  },
  {
   "cell_type": "markdown",
   "id": "d124248a",
   "metadata": {},
   "source": [
    "Se quisermos copiar listas por valor (para que a alteração em uma das listas não altere a outra), devemos acessar a lista e copiar cada um dos valores para a outra."
   ]
  },
  {
   "cell_type": "code",
   "execution_count": 8,
   "id": "fca06679",
   "metadata": {},
   "outputs": [
    {
     "name": "stdout",
     "output_type": "stream",
     "text": [
      "[1, 4, 6, 8] [1, 4, 6, 8]\n",
      "[1, 4, 6, 8] [1, 999, 6, 8]\n",
      "False\n"
     ]
    }
   ],
   "source": [
    "lista1 = [1, 4, 6, 8]\n",
    "lista2 = [0] * len(lista1)\n",
    "\n",
    "for i in range(len(lista1)):\n",
    "    lista2[i] = lista1[i]\n",
    "    \n",
    "print(lista1, lista2)\n",
    "lista2[1] = 999\n",
    "print(lista1, lista2)\n",
    "\n",
    "print(lista1 is lista2)"
   ]
  },
  {
   "cell_type": "markdown",
   "id": "055145f8",
   "metadata": {},
   "source": [
    "***\n",
    "\n",
    "**Exercício:** crie uma lista de números inteiros; crie uma segunda lista que armazene os mesmos elementos que a primeira, porém multiplicados por um número digitado pelo usuário."
   ]
  },
  {
   "cell_type": "code",
   "execution_count": 10,
   "id": "3fa0b895",
   "metadata": {},
   "outputs": [
    {
     "name": "stdout",
     "output_type": "stream",
     "text": [
      "Informe o multiplicador: 2\n",
      "[1, 4, 6, 3, 2, 8]\n",
      "[2, 8, 12, 6, 4, 16]\n"
     ]
    }
   ],
   "source": [
    "numeros = [1, 4, 6, 3, 2, 8]\n",
    "multiplicador = int(input('Informe o multiplicador: '))\n",
    "multiplicados = [0] * len(numeros)\n",
    "\n",
    "for i in range(len(numeros)):\n",
    "    multiplicados[i] = numeros[i] * multiplicador\n",
    "    \n",
    "print(numeros)\n",
    "print(multiplicados)"
   ]
  },
  {
   "cell_type": "markdown",
   "id": "edb9ed82",
   "metadata": {},
   "source": [
    "Listas podem ser fatiadas, tal como strings. Abaixo estão alguns exemplos de fatiamento em listas."
   ]
  },
  {
   "cell_type": "code",
   "execution_count": 14,
   "id": "273bf0f0",
   "metadata": {},
   "outputs": [
    {
     "name": "stdout",
     "output_type": "stream",
     "text": [
      "[0, 1]\n",
      "[2, 3, 4, 5]\n",
      "[0, 1, 2, 3, 4, 5, 6, 7]\n",
      "[5, 6, 7, 8, 9]\n",
      "\n",
      "[0, 1, 2, 3, 4, 5, 6, 7]\n",
      "[9]\n",
      "[7, 8, 9]\n",
      "[4, 5, 6]\n"
     ]
    }
   ],
   "source": [
    "lista = [0, 1, 2, 3, 4, 5, 6, 7, 8, 9]\n",
    "\n",
    "print(lista[0:2])\n",
    "print(lista[2:6])\n",
    "print(lista[:8])\n",
    "print(lista[5:])\n",
    "print()\n",
    "\n",
    "# Fatiamento com índices negativos\n",
    "print(lista[0:-2]) # Removendo os dois últimos caracteres\n",
    "print(lista[-1:])  # Fatiando do último caractere até o final da string\n",
    "print(lista[-3:])  # Mesma operação com os três últimos caracteres\n",
    "print(lista[-6:7])"
   ]
  },
  {
   "cell_type": "markdown",
   "id": "4bd357e0",
   "metadata": {},
   "source": [
    "Com isso, podemos criar uma cópia (por valor) de uma lista a outra fatiando a lista completa, i.e. todos os seus valores."
   ]
  },
  {
   "cell_type": "code",
   "execution_count": 15,
   "id": "b69fb98b",
   "metadata": {},
   "outputs": [
    {
     "name": "stdout",
     "output_type": "stream",
     "text": [
      "['Maria', 'João', 'Ana']\n",
      "['Maria', 'João', 'Ana']\n",
      "['Maria', 'João', 'Ana']\n",
      "['Maria', 'X', 'Ana']\n",
      "False\n",
      "140031568869824\n",
      "140031568870464\n"
     ]
    }
   ],
   "source": [
    "lista1 = ['Maria', 'João', 'Ana']\n",
    "lista2 = lista1[:]\n",
    "print(lista1)\n",
    "print(lista2)\n",
    "lista2[1] = 'X'\n",
    "print(lista1)\n",
    "print(lista2)\n",
    "\n",
    "print(lista1 is lista2)\n",
    "print(id(lista1))\n",
    "print(id(lista2))"
   ]
  },
  {
   "cell_type": "markdown",
   "id": "b90c337b",
   "metadata": {},
   "source": [
    "## 5. Adição e remoção elementos\n",
    "\n",
    "Podemos adicionar novos elementos a uma lista, aumentando assim o seu tamanho. Para isso, usamos o comando ``append``. O novo elemento é inserido no final da lista, que tem seu tamanho aumentado em 1."
   ]
  },
  {
   "cell_type": "code",
   "execution_count": 17,
   "id": "furnished-confirmation",
   "metadata": {},
   "outputs": [
    {
     "name": "stdout",
     "output_type": "stream",
     "text": [
      "['A', 'B']\n",
      "2\n",
      "['A', 'B', 'C', 'D']\n",
      "4\n"
     ]
    }
   ],
   "source": [
    "L = []   # uma lista inicialmente vazia\n",
    "L.append('A')\n",
    "L.append('B')\n",
    "\n",
    "print(L)\n",
    "print(len(L))\n",
    "\n",
    "L.append('C')\n",
    "L.append('D')\n",
    "\n",
    "print(L)\n",
    "print(len(L))"
   ]
  },
  {
   "cell_type": "markdown",
   "id": "6aa940a1",
   "metadata": {},
   "source": [
    "Também podemos adicionar vários elementos (i.e. uma lista de elementos) a uma lista usando o comando ``extend``. Os novos elementos são inseridos no final da lista e seu temanho é aumentado no número de elementos adicionados."
   ]
  },
  {
   "cell_type": "code",
   "execution_count": 18,
   "id": "a0ec2891",
   "metadata": {},
   "outputs": [
    {
     "name": "stdout",
     "output_type": "stream",
     "text": [
      "['A', 'B']\n",
      "2\n",
      "['A', 'B', 'C', 'D', 'E']\n",
      "5\n",
      "['A', 'B', 'C', 'D', 'E', 'F', 'G']\n",
      "7\n"
     ]
    }
   ],
   "source": [
    "L = ['A', 'B']\n",
    "print(L)\n",
    "print(len(L))\n",
    "\n",
    "L.extend(['C', 'D', 'E'])\n",
    "print(L)\n",
    "print(len(L))\n",
    "\n",
    "x = ['F', 'G']\n",
    "L.extend(x)\n",
    "print(L)\n",
    "print(len(L))"
   ]
  },
  {
   "cell_type": "markdown",
   "id": "ef4c9d18",
   "metadata": {},
   "source": [
    "Analogamente, podemos remover elementos da lista. O comando ``remove`` remove um elemento da lista (a primeira ocorrência desse elemento na lista). O comando ``del`` remove o elemento de uma dada posição da lista. Em vez de uma posição específica, podemos passar uma fatia da lista para ser removida."
   ]
  },
  {
   "cell_type": "code",
   "execution_count": 24,
   "id": "f2113997",
   "metadata": {},
   "outputs": [
    {
     "name": "stdout",
     "output_type": "stream",
     "text": [
      "['B', 'A', 'C', 'D', 'E']\n",
      "5\n",
      "['B', 'C', 'D', 'E']\n",
      "4\n",
      "['D', 'E']\n",
      "2\n"
     ]
    }
   ],
   "source": [
    "L = ['A', 'B', 'A', 'C', 'D', 'E']\n",
    "L.remove('A')\n",
    "print(L)\n",
    "print(len(L))\n",
    "\n",
    "del L[1]\n",
    "print(L)\n",
    "print(len(L))\n",
    "\n",
    "del L[0:2]\n",
    "print(L)\n",
    "print(len(L))"
   ]
  },
  {
   "cell_type": "markdown",
   "id": "4477deaf",
   "metadata": {},
   "source": [
    "***\n",
    "\n",
    "**Exercício:** crie uma lista de números inteiros. Percorra a lista e identifique os números ímpares armazenados na lista (você pode armazená-los em uma lista separada). Após isso, remova todos os números ímpares da lista."
   ]
  },
  {
   "cell_type": "code",
   "execution_count": 29,
   "id": "47dbde73",
   "metadata": {},
   "outputs": [
    {
     "name": "stdout",
     "output_type": "stream",
     "text": [
      "[1, 7, 3, 5]\n",
      "[4, 2, 6, 8, 4]\n"
     ]
    }
   ],
   "source": [
    "numeros = [1, 4, 2, 6, 7, 8, 3, 4, 5]\n",
    "remover = []\n",
    "\n",
    "for numero in numeros:\n",
    "    if numero % 2 > 0:\n",
    "        remover.append(numero)\n",
    "        \n",
    "print(remover)\n",
    "for numero in remover:\n",
    "    numeros.remove(numero)\n",
    "    \n",
    "print(numeros)"
   ]
  },
  {
   "cell_type": "markdown",
   "id": "f4e4f292",
   "metadata": {},
   "source": [
    "***\n",
    "\n",
    "**Exercício:** considere uma lista de números inteiros em que nas posições (índices) ímpares estão armazenados valores iguais a -1. Por exemplo, para uma lista de 10 posições temos ``[3, -1, 3, -1, 7, -1, 4, -1, 6, -1]``. Queremos remover todos os elementos de posições ímpares. Já que a lista pode ter tamanho variado, use um laço de repetição para percorrer as posições ímpares e então use o comando ``del`` par fazer a remoção dos elementos.\n",
    "+ Note que você precisará remover do final até o início, pois a remoção de um elemento altera as posições dos elementos subsequentes da lista."
   ]
  },
  {
   "cell_type": "code",
   "execution_count": 31,
   "id": "c65aaa3d",
   "metadata": {},
   "outputs": [
    {
     "name": "stdout",
     "output_type": "stream",
     "text": [
      "[3, 3, 7, 4, 6]\n"
     ]
    }
   ],
   "source": [
    "inteiros = [3, -1, 3, -1, 7, -1, 4, -1, 6, -1]\n",
    "\n",
    "for i in range(len(inteiros), 0, -1):\n",
    "    if i % 2 != 0:\n",
    "        del inteiros[i]\n",
    "        \n",
    "print(inteiros)"
   ]
  },
  {
   "cell_type": "markdown",
   "id": "b41b2604",
   "metadata": {},
   "source": [
    "***\n",
    "\n",
    "**Exercício:** considere duas listas ``A`` e ``B``com números inteiros. Crie uma terceira lista ``soma`` contendo em cada posição, a soma dos elementos das posições correspondentes nas listas ``A`` e ``B``. Faça o mesmo procedimento, armazenando a subtração dos elementos em uma lista ``subtracao``. Ao final, crie uma grande lista contendo todos os elementos das quatro listas."
   ]
  },
  {
   "cell_type": "code",
   "execution_count": 35,
   "id": "bce13111",
   "metadata": {},
   "outputs": [
    {
     "name": "stdout",
     "output_type": "stream",
     "text": [
      "[3, 5, 1, 7, 8, 9, 4]\n",
      "[5, 2, 3, 1, 8, 5, 6]\n",
      "[8, 7, 4, 8, 16, 14, 10]\n",
      "[-2, 3, -2, 6, 0, 4, -2]\n",
      "[3, 5, 1, 7, 8, 9, 4, 5, 2, 3, 1, 8, 5, 6, 8, 7, 4, 8, 16, 14, 10, -2, 3, -2, 6, 0, 4, -2]\n"
     ]
    }
   ],
   "source": [
    "A = [3, 5, 1, 7, 8, 9, 4]\n",
    "B = [5, 2, 3, 1, 8, 5, 6]\n",
    "soma = []\n",
    "subtracao = []\n",
    "\n",
    "print(A)\n",
    "print(B)\n",
    "\n",
    "for i in range(len(A)):\n",
    "    soma.append(A[i] + B[i])\n",
    "    subtracao.append(A[i] - B[i])\n",
    "\n",
    "print(soma)\n",
    "print(subtracao)\n",
    "\n",
    "todos = []\n",
    "todos.extend(A)\n",
    "todos.extend(B)\n",
    "todos.extend(soma)\n",
    "todos.extend(subtracao)\n",
    "print(todos)"
   ]
  },
  {
   "cell_type": "markdown",
   "id": "d4660b8f",
   "metadata": {},
   "source": [
    "## 6. Listas com tipos variados\n",
    "\n",
    "Em Python, uma lista pode armazenar valores de diferentes tipos. Abaixo estão alguns exemplos."
   ]
  },
  {
   "cell_type": "code",
   "execution_count": 38,
   "id": "bd510150",
   "metadata": {},
   "outputs": [
    {
     "name": "stdout",
     "output_type": "stream",
     "text": [
      "[1, 2, 3, 'a', 'b', 'c', 7.5, 3.3, 4.7, True, False, True]\n",
      "12\n",
      "86\n",
      "José, Maria, João\n"
     ]
    }
   ],
   "source": [
    "lista = [1, 2, 3, 'a', 'b', 'c', 7.5, 3.3, 4.7, True, False, True]\n",
    "print(lista)\n",
    "print(len(lista))\n",
    "\n",
    "pessoas = ['José', 12, 'Maria', 34, 'João', 40]\n",
    "soma_idades = pessoas[1] + pessoas[3] + pessoas[5]\n",
    "nomes = pessoas[0] + ', ' + pessoas[2] + ', ' + pessoas[4]\n",
    "\n",
    "print(soma_idades)\n",
    "print(nomes)"
   ]
  }
 ],
 "metadata": {
  "kernelspec": {
   "display_name": "Python 3 (ipykernel)",
   "language": "python",
   "name": "python3"
  },
  "language_info": {
   "codemirror_mode": {
    "name": "ipython",
    "version": 3
   },
   "file_extension": ".py",
   "mimetype": "text/x-python",
   "name": "python",
   "nbconvert_exporter": "python",
   "pygments_lexer": "ipython3",
   "version": "3.8.10"
  }
 },
 "nbformat": 4,
 "nbformat_minor": 5
}
