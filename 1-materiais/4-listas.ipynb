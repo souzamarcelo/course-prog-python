{
 "cells": [
  {
   "cell_type": "markdown",
   "id": "461e41e3",
   "metadata": {},
   "source": [
    "<div align=\"right\" style=\"text-align:right\"><a rel=\"license\" href=\"http://creativecommons.org/licenses/by-nc-nd/4.0/\"><img alt=\"Licença Creative Commons\" style=\"border-width:0; float:right\" src=\"https://i.creativecommons.org/l/by-nc-nd/4.0/88x31.png\" /></a><br><br><i>Prof. Marcelo de Souza</i><br>marcelo.desouza@udesc.br</div>"
   ]
  },
  {
   "cell_type": "markdown",
   "id": "3c383b49",
   "metadata": {},
   "source": [
    "# Listas\n",
    "\n",
    "(também chamadas de vetores e matrizes)\n",
    "\n",
    "Uma lista é uma variável (ou seja, é um tipo do Python) que permite armazenar vários valores, em vez de um único valor. Ou seja, podemos criar uma lista de números e armazenar diversos números nessa mesma variável.\n",
    "\n",
    "---"
   ]
  },
  {
   "cell_type": "markdown",
   "id": "36691539",
   "metadata": {},
   "source": [
    "## 1. Conceitos básicos\n",
    "\n",
    "Para criar uma lista, basta definir uma variável e usar colchetes (``[]``) para definir seus elementos. Cada elemento é separado por uma vírgula."
   ]
  },
  {
   "cell_type": "code",
   "execution_count": 2,
   "id": "8207f0b9",
   "metadata": {},
   "outputs": [
    {
     "name": "stdout",
     "output_type": "stream",
     "text": [
      "[1, 5, 2, 6, 8, 9]\n",
      "['João', 'Maria', 'Ana', 'José']\n",
      "[]\n",
      "<class 'list'>\n",
      "<class 'list'>\n",
      "<class 'list'>\n"
     ]
    }
   ],
   "source": [
    "lista = [1, 5, 2, 6, 8, 9]   # uma lista de números\n",
    "print(lista)\n",
    "\n",
    "textos = ['João', 'Maria', 'Ana', 'José']   # uma lista de strings\n",
    "print(textos)\n",
    "\n",
    "L = []   # uma lista vazia (sem elementos)\n",
    "print(L)\n",
    "\n",
    "# uma lista é um tipo específico do Python\n",
    "print(type(lista))\n",
    "print(type(textos))\n",
    "print(type(L))"
   ]
  },
  {
   "cell_type": "markdown",
   "id": "absolute-surgeon",
   "metadata": {},
   "source": [
    "O tamanho de uma lista é o número de elementos que ela armazena, podendo ser verificado com o comando ``len``."
   ]
  },
  {
   "cell_type": "code",
   "execution_count": 4,
   "id": "annual-memphis",
   "metadata": {},
   "outputs": [
    {
     "name": "stdout",
     "output_type": "stream",
     "text": [
      "5\n",
      "4\n",
      "0\n"
     ]
    }
   ],
   "source": [
    "idades = [1, 5, 3, 2, 8]\n",
    "alturas = [1.76, 1.91, 1.55, 1.68]\n",
    "nomes = []\n",
    "\n",
    "print(len(idades))\n",
    "print(len(alturas))\n",
    "print(len(nomes))"
   ]
  },
  {
   "cell_type": "markdown",
   "id": "alien-margin",
   "metadata": {},
   "source": [
    "Podemos criar uma lista com $n$ elementos e preencher com um valor $i$ predeterminado."
   ]
  },
  {
   "cell_type": "code",
   "execution_count": 14,
   "id": "purple-kitchen",
   "metadata": {},
   "outputs": [
    {
     "name": "stdout",
     "output_type": "stream",
     "text": [
      "[0, 0, 0, 0, 0, 0, 0, 0, 0, 0]\n",
      "[1, 1, 1, 1, 1]\n"
     ]
    }
   ],
   "source": [
    "n = 10\n",
    "i = 0\n",
    "\n",
    "lista = [i] * n\n",
    "print(lista)\n",
    "\n",
    "lista = [1] * 5\n",
    "print(lista)"
   ]
  },
  {
   "cell_type": "markdown",
   "id": "established-reply",
   "metadata": {},
   "source": [
    "***\n",
    "\n",
    "## 1. Acesso\n",
    "\n",
    "Acessamos os elementos de uma lista pela sua posição, e chamamos a posição de índice. A primeira posição da lista é identificada pelo índice 0; a segunda posição da lista é identificada pelo índice 1; e assim por diante. Logo, uma lista é indexada de 0 até seu tamanho - 1."
   ]
  },
  {
   "cell_type": "code",
   "execution_count": 15,
   "id": "impaired-rendering",
   "metadata": {},
   "outputs": [
    {
     "name": "stdout",
     "output_type": "stream",
     "text": [
      "6\n",
      "3\n",
      "1\n",
      "4\n",
      "8\n",
      "8\n"
     ]
    }
   ],
   "source": [
    "lista = [6, 3, 1, 4, 8]\n",
    "\n",
    "print(lista[0])\n",
    "print(lista[1])\n",
    "print(lista[2])\n",
    "print(lista[3])\n",
    "print(lista[4])\n",
    "print(lista[len(lista) - 1])   # mesmo efeito de acessar lista[4], pois len(lista) é 5\n",
    "\n",
    "#print(lista[5])   # erro, pois o índice 5 (sexto elemento) não existe\n",
    "#print(lista[len(lista)])   # mesmo efeito de acessar lista[5], gerando erro na execução"
   ]
  },
  {
   "cell_type": "markdown",
   "id": "entire-recorder",
   "metadata": {},
   "source": [
    "Podemos (e devemos) usar laços de repetição para percorrer os elementos armazenados em uma lista, especialmente em listas grandes ou com número de elementos desconhecido."
   ]
  },
  {
   "cell_type": "code",
   "execution_count": 19,
   "id": "indonesian-peoples",
   "metadata": {},
   "outputs": [
    {
     "name": "stdout",
     "output_type": "stream",
     "text": [
      "15\n",
      "3  5  1  6  7  3  1  2  7  8  9  3  4  6  7  "
     ]
    }
   ],
   "source": [
    "lista = [3, 5, 1, 6, 7, 3, 1, 2, 7, 8, 9, 3, 4, 6, 7]\n",
    "print(len(lista))\n",
    "\n",
    "for indice in range(len(lista)):\n",
    "    print(lista[indice], end = '  ')"
   ]
  },
  {
   "cell_type": "markdown",
   "id": "personalized-indonesian",
   "metadata": {},
   "source": [
    "Podemos usar uma sintaxe mais enxuta do ``for``, que nos permite percorrer cada elemento de uma dada lista, armazenando o elemento visitado em cada iteração na variável de controle do laço."
   ]
  },
  {
   "cell_type": "code",
   "execution_count": 20,
   "id": "fifteen-leadership",
   "metadata": {},
   "outputs": [
    {
     "name": "stdout",
     "output_type": "stream",
     "text": [
      "3  5  1  6  7  3  1  2  7  8  9  3  4  6  7  "
     ]
    }
   ],
   "source": [
    "lista = [3, 5, 1, 6, 7, 3, 1, 2, 7, 8, 9, 3, 4, 6, 7]\n",
    "\n",
    "for elemento in lista:\n",
    "    print(elemento, end = '  ')"
   ]
  },
  {
   "cell_type": "markdown",
   "id": "special-tension",
   "metadata": {},
   "source": [
    "***\n",
    "\n",
    "**Exercício:** dada uma lista de notas, calcule a média final."
   ]
  },
  {
   "cell_type": "code",
   "execution_count": 21,
   "id": "premium-chain",
   "metadata": {},
   "outputs": [
    {
     "name": "stdout",
     "output_type": "stream",
     "text": [
      "7.78\n"
     ]
    }
   ],
   "source": [
    "notas = [8, 7.5, 9.6, 5.5, 6.8, 9.3]\n",
    "soma = 0\n",
    "for nota in notas:\n",
    "    soma = soma + nota\n",
    "media = soma / len(notas)\n",
    "print(round(media, 2))"
   ]
  },
  {
   "cell_type": "markdown",
   "id": "precious-royalty",
   "metadata": {},
   "source": [
    "***\n",
    "\n",
    "**Exercício:** dada uma lista de inteiros, mostre:\n",
    "+ a quantidade de valores negativos;\n",
    "+ a quantidade de valores pares;\n",
    "+ o somatório dos valores entre 5 e 15, inclusive."
   ]
  },
  {
   "cell_type": "code",
   "execution_count": 22,
   "id": "structural-congo",
   "metadata": {},
   "outputs": [
    {
     "name": "stdout",
     "output_type": "stream",
     "text": [
      "Valores negativos: 2\n",
      "Valores pares: 4\n",
      "Somatório entre 5 e 15: 24\n"
     ]
    }
   ],
   "source": [
    "numeros = [2, 7, 4, -8, 5, -3, 12]\n",
    "\n",
    "negativos = 0\n",
    "pares = 0\n",
    "somatorio = 0\n",
    "\n",
    "for n in numeros:\n",
    "    if n < 0:\n",
    "        negativos += 1\n",
    "    if n % 2 == 0:\n",
    "        pares += 1\n",
    "    if n >= 5 and n <= 15:\n",
    "        somatorio += n\n",
    "\n",
    "print('Valores negativos: ' + str(negativos))\n",
    "print('Valores pares: ' + str(pares))\n",
    "print('Somatório entre 5 e 15: ' + str(somatorio))"
   ]
  },
  {
   "cell_type": "markdown",
   "id": "japanese-license",
   "metadata": {},
   "source": [
    "***\n",
    "\n",
    "## 2. Atribuição\n",
    "\n",
    "Para atribuir valores aos elementos de uma lista, usamos o índice ao qual queremos atribuir um novo valor."
   ]
  },
  {
   "cell_type": "code",
   "execution_count": 23,
   "id": "warming-marriage",
   "metadata": {},
   "outputs": [
    {
     "name": "stdout",
     "output_type": "stream",
     "text": [
      "[5, 2, 3, 1, 7]\n",
      "[-1, 2, 3, 0, 7]\n"
     ]
    }
   ],
   "source": [
    "lista = [5, 2, 3, 1, 7]\n",
    "print(lista)\n",
    "\n",
    "lista[3] = 0\n",
    "lista[0] = -1\n",
    "print(lista)"
   ]
  },
  {
   "cell_type": "markdown",
   "id": "naughty-creator",
   "metadata": {},
   "source": [
    "Podemos preencher uma lista com 5 elementos informados pelo usuário."
   ]
  },
  {
   "cell_type": "code",
   "execution_count": 25,
   "id": "psychological-steps",
   "metadata": {},
   "outputs": [
    {
     "name": "stdout",
     "output_type": "stream",
     "text": [
      "Informe um nome: Maria\n",
      "Informe um nome: Ana\n",
      "Informe um nome: Pedro\n",
      "Informe um nome: José\n",
      "Informe um nome: João\n",
      "['Maria', 'Ana', 'Pedro', 'José', 'João']\n"
     ]
    }
   ],
   "source": [
    "nomes = ['', '', '', '', '']   # primeiro, temos que criar a lista com o tamanho necessário\n",
    "\n",
    "nomes[0] = input('Informe um nome: ')\n",
    "nomes[1] = input('Informe um nome: ')\n",
    "nomes[2] = input('Informe um nome: ')\n",
    "nomes[3] = input('Informe um nome: ')\n",
    "nomes[4] = input('Informe um nome: ')\n",
    "\n",
    "print(nomes)"
   ]
  },
  {
   "cell_type": "markdown",
   "id": "informational-illinois",
   "metadata": {},
   "source": [
    "***\n",
    "\n",
    "**Exercício:** solicitar ao usuário o número de elementos que ele deseja armazenar; criar uma lista com esse tamanho e solicitar cada elemento ao usuário; exibir a lista com todos os elementos."
   ]
  },
  {
   "cell_type": "code",
   "execution_count": 29,
   "id": "imposed-journalist",
   "metadata": {},
   "outputs": [
    {
     "name": "stdout",
     "output_type": "stream",
     "text": [
      "Informe o número de elementos: 5\n",
      "Informe o valor da posição 0: 4\n",
      "Informe o valor da posição 1: 1\n",
      "Informe o valor da posição 2: 3\n",
      "Informe o valor da posição 3: 6\n",
      "Informe o valor da posição 4: 8\n",
      "[4, 1, 3, 6, 8]\n",
      "4\n",
      "1\n",
      "3\n",
      "6\n",
      "8\n",
      "\n",
      "Maiores que o primeiro elemento:\n",
      "6\n",
      "8\n"
     ]
    }
   ],
   "source": [
    "n = int(input('Informe o número de elementos: '))\n",
    "lista = [0] * n\n",
    "for i in range(0, n):\n",
    "    lista[i] = int(input('Informe o valor da posição ' + str(i) + ': '))\n",
    "print(lista)\n",
    "\n",
    "for elemento in lista:\n",
    "    print(elemento)\n",
    "    \n",
    "    \n",
    "# ADICIONAL: exibir os elementos da lista maiores que o primeiro elemento da lista\n",
    "print('\\nMaiores que o primeiro elemento:')\n",
    "for elemento in lista:\n",
    "    if elemento > lista[0]:\n",
    "        print(elemento)"
   ]
  },
  {
   "cell_type": "markdown",
   "id": "aggressive-packet",
   "metadata": {},
   "source": [
    "***\n",
    "\n",
    "**Exercício:** ler as alturas dos 5 jogadores de um time de basquete, e mostrar as alturas abaixo da média de alturas."
   ]
  },
  {
   "cell_type": "code",
   "execution_count": 30,
   "id": "guilty-kingston",
   "metadata": {},
   "outputs": [
    {
     "name": "stdout",
     "output_type": "stream",
     "text": [
      "Informe altura: 1.93\n",
      "Informe altura: 1.71\n",
      "Informe altura: 1.99\n",
      "Informe altura: 2.06\n",
      "Informe altura: 1.84\n",
      "1.71\n",
      "1.84\n"
     ]
    }
   ],
   "source": [
    "alturas = [0] * 5\n",
    "for i in range(len(alturas)):\n",
    "    alturas[i] = float(input('Informe altura: '))\n",
    "\n",
    "soma = 0\n",
    "for altura in alturas:\n",
    "    soma += altura\n",
    "\n",
    "media = soma / len(alturas)\n",
    "\n",
    "for altura in alturas:\n",
    "    if altura < media:\n",
    "        print(altura)"
   ]
  },
  {
   "cell_type": "markdown",
   "id": "athletic-metro",
   "metadata": {},
   "source": [
    "***\n",
    "\n",
    "**Exercício:** ler uma lista com 12 elementos (inteiros) e dois valores, $x$ e $y$ correspondendo a posições da lista. Apresentar:\n",
    "+ a soma dos elementos entre as posições x e y (inclusive);\n",
    "+ substituir os elementos das posições menores que x por -1 e das posições maiores que y por 99."
   ]
  },
  {
   "cell_type": "code",
   "execution_count": 32,
   "id": "authorized-afternoon",
   "metadata": {},
   "outputs": [
    {
     "name": "stdout",
     "output_type": "stream",
     "text": [
      "Informe um inteiro: 3\n",
      "Informe um inteiro: 2\n",
      "Informe um inteiro: 4\n",
      "Informe um inteiro: 5\n",
      "Informe um inteiro: 6\n",
      "Informe um inteiro: 2\n",
      "Informe um inteiro: 3\n",
      "Informe um inteiro: 8\n",
      "Informe um inteiro: 9\n",
      "Informe um inteiro: 0\n",
      "Informe um inteiro: 1\n",
      "Informe um inteiro: 2\n",
      "Informe a posição x: 4\n",
      "Informe a posição y (> x): 9\n",
      "\n",
      "Lista: [3, 2, 4, 5, 6, 2, 3, 8, 9, 0, 1, 2]\n",
      "Soma entre x e y (inclusive): 28\n",
      "Lista nova: [-1, -1, -1, -1, 6, 2, 3, 8, 9, 0, 99, 99]\n"
     ]
    }
   ],
   "source": [
    "tamanho = 12\n",
    "lista = [0] * tamanho\n",
    "for i in range(tamanho):\n",
    "    lista[i] = int(input('Informe um inteiro: '))\n",
    "\n",
    "x = int(input('Informe a posição x: '))\n",
    "y = int(input('Informe a posição y (> x): '))\n",
    "\n",
    "print('\\nLista: ' + str(lista))\n",
    "soma = 0\n",
    "for i in range(x, y + 1):\n",
    "    soma += lista[i]\n",
    "print('Soma entre x e y (inclusive): %d'% soma)\n",
    "\n",
    "for i in range(x):\n",
    "    lista[i] = -1\n",
    "\n",
    "for i in range(y + 1, len(lista)):\n",
    "    lista[i] = 99\n",
    "\n",
    "print('Lista nova: ' + str(lista))"
   ]
  }
 ],
 "metadata": {
  "kernelspec": {
   "display_name": "Python 3",
   "language": "python",
   "name": "python3"
  },
  "language_info": {
   "codemirror_mode": {
    "name": "ipython",
    "version": 3
   },
   "file_extension": ".py",
   "mimetype": "text/x-python",
   "name": "python",
   "nbconvert_exporter": "python",
   "pygments_lexer": "ipython3",
   "version": "3.8.10"
  }
 },
 "nbformat": 4,
 "nbformat_minor": 5
}
