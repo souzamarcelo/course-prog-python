{
 "cells": [
  {
   "cell_type": "markdown",
   "id": "461e41e3",
   "metadata": {},
   "source": [
    "<div align=\"right\" style=\"text-align:right\"><a rel=\"license\" href=\"http://creativecommons.org/licenses/by-nc-nd/4.0/\"><img alt=\"Licença Creative Commons\" style=\"border-width:0; float:right\" src=\"https://i.creativecommons.org/l/by-nc-nd/4.0/88x31.png\" /></a><br><br><i>Prof. Marcelo de Souza</i><br>marcelo.desouza@udesc.br</div>"
   ]
  },
  {
   "cell_type": "markdown",
   "id": "3c383b49",
   "metadata": {},
   "source": [
    "# Matrizes\n",
    "\n",
    "Uma matriz é uma estrutura de dados composta com duas dimensões (enquanto o vetor é uma estrutura de dados de uma única dimensão). Na matemática, uma matriz com $n$ linhas e $m$ colunas é expressada da seguinte forma:\n",
    "\n",
    "$$\n",
    "\\hspace{-4cm}A_{n \\times m} = \n",
    "\\begin{bmatrix}\n",
    "a_{1,1} & a_{1,2} & \\cdots & a_{1,m}\\\\\n",
    "a_{2,1} & a_{2,2} & \\cdots & a_{2,m}\\\\\n",
    "a_{3,1} & a_{3,2} & \\cdots & a_{3,m}\\\\\n",
    "\\vdots & \\vdots &  & \\vdots \\\\\n",
    "a_{n,1} & a_{n,2} & \\cdots & a_{n,m}\\\\\n",
    "\\end{bmatrix}\n",
    "$$\n",
    "\n",
    "Implementamos vetores como listas, e matrizes como listas de listas. Ou seja, cada uma das $n$ linhas da matriz conterá uma lista de $m$ elementos. Consideremos a seguinte matriz com 3 linhas e 4 colunas:\n",
    "\n",
    "$$\n",
    "\\hspace{-4cm}M = \n",
    "\\begin{bmatrix}\n",
    "1 & 2 & 3 & 4 \\\\\n",
    "5 & 6 & 7 & 8 \\\\\n",
    "9 & 10 & 11 & 12 \\\\\n",
    "\\end{bmatrix}\n",
    "$$\n",
    "\n",
    "Para criar essa matriz em python, definimos uma lista com as linhas, onde cada linha é uma lista com os respectivos elementos:"
   ]
  },
  {
   "cell_type": "code",
   "execution_count": 7,
   "id": "3847e3a6",
   "metadata": {},
   "outputs": [
    {
     "name": "stdout",
     "output_type": "stream",
     "text": [
      "[[1, 2, 3, 4], [5, 6, 7, 8], [9, 10, 11, 12]]\n",
      "\n",
      "[1, 2, 3, 4]\n",
      "[5, 6, 7, 8]\n",
      "[9, 10, 11, 12]\n"
     ]
    }
   ],
   "source": [
    "M = [\n",
    "    [1, 2, 3, 4],\n",
    "    [5, 6, 7, 8],\n",
    "    [9, 10, 11, 12]\n",
    "]\n",
    "\n",
    "print(M)\n",
    "print()\n",
    "\n",
    "for linha in M:\n",
    "    print(linha)"
   ]
  },
  {
   "cell_type": "markdown",
   "id": "1d3ac35b",
   "metadata": {},
   "source": [
    "Podemos acessar elementos dessa matriz usando dois índices, um que define a linha e outro que define a coluna desejadas, acessando assim um elemento específico. Note que os índices iniciam de 0 (zero)."
   ]
  },
  {
   "cell_type": "code",
   "execution_count": 8,
   "id": "0fe51c45",
   "metadata": {},
   "outputs": [
    {
     "name": "stdout",
     "output_type": "stream",
     "text": [
      "8\n",
      "9\n",
      "Linha 0, coluna 0: 1\n",
      "Linha 0, coluna 1: 2\n",
      "Linha 0, coluna 2: 3\n",
      "Linha 1, coluna 0: 5\n",
      "Linha 1, coluna 1: 6\n",
      "Linha 1, coluna 2: 7\n"
     ]
    }
   ],
   "source": [
    "M = [\n",
    "    [1, 2, 3, 4],\n",
    "    [5, 6, 7, 8],\n",
    "    [9, 10, 11, 12]\n",
    "]\n",
    "\n",
    "print(M[1][3])\n",
    "print(M[2][0])\n",
    "\n",
    "for linha in range(2):\n",
    "    for coluna in range(3):\n",
    "        print('Linha %d, coluna %d: %d' % (linha, coluna, M[linha][coluna]))"
   ]
  },
  {
   "cell_type": "markdown",
   "id": "996e0dc8",
   "metadata": {},
   "source": [
    "Da mesma forma, usamos os índices para modificar elementos de uma matriz."
   ]
  },
  {
   "cell_type": "code",
   "execution_count": 18,
   "id": "1e3e597f",
   "metadata": {},
   "outputs": [
    {
     "name": "stdout",
     "output_type": "stream",
     "text": [
      "[[0, 2, 3, 4], [5, 6, 7, -1], [99, 10, 11, 12]]\n",
      "\n",
      "0\t2\t3\t4\t\n",
      "5\t6\t7\t-1\t\n",
      "99\t10\t11\t12\t\n"
     ]
    }
   ],
   "source": [
    "M = [\n",
    "    [1, 2, 3, 4],\n",
    "    [5, 6, 7, 8],\n",
    "    [9, 10, 11, 12]\n",
    "]\n",
    "\n",
    "M[1][3] = -1\n",
    "M[2][0] = 99\n",
    "l = 0\n",
    "c = 0\n",
    "M[l][c] = 0\n",
    "\n",
    "print(M)\n",
    "print()\n",
    "\n",
    "for linha in range(3):\n",
    "    for coluna in range(4):\n",
    "        print(M[linha][coluna], end = '\\t')\n",
    "    print()"
   ]
  },
  {
   "cell_type": "markdown",
   "id": "36691539",
   "metadata": {},
   "source": [
    "Podemos criar uma matriz com valores predeterminados, conforme feito acima, ou então criar uma matriz com valores iniciais. Por exemplo, para criar uma matriz de $n$ linhas e $m$ colunas com todos os valores iguais a 0, usamos laços de repetição."
   ]
  },
  {
   "cell_type": "code",
   "execution_count": 10,
   "id": "a0438766",
   "metadata": {},
   "outputs": [
    {
     "name": "stdout",
     "output_type": "stream",
     "text": [
      "[[0, 0, 0], [0, 0, 0], [0, 0, 0]]\n"
     ]
    }
   ],
   "source": [
    "n = 3\n",
    "m = 3\n",
    "matriz = []\n",
    "for linha in range(n):\n",
    "    matriz.append([])   # insere uma linha vazia na matriz, ou seja, uma lista vazia\n",
    "    for coluna in range(m):\n",
    "        matriz[linha].append(0)   # insere o valor 0 para cada coluna da linha atual\n",
    "        \n",
    "# ao final, temos uma matriz com n=3 linhas e m=3 colunas preenchida com 0\n",
    "print(matriz)"
   ]
  },
  {
   "cell_type": "markdown",
   "id": "7343eb8d",
   "metadata": {},
   "source": [
    "Você pode criar uma matriz de diversas outras formas. Veja abaixo duas delas."
   ]
  },
  {
   "cell_type": "code",
   "execution_count": 11,
   "id": "70e27f91",
   "metadata": {},
   "outputs": [
    {
     "name": "stdout",
     "output_type": "stream",
     "text": [
      "[[0, 0, 0], [0, 0, 0], [0, 0, 0]]\n"
     ]
    }
   ],
   "source": [
    "n = 3\n",
    "m = 3\n",
    "matriz = []\n",
    "for linha in range(n):\n",
    "    nova_linha = []\n",
    "    for coluna in range(m):\n",
    "        nova_linha.append(0)\n",
    "    matriz.append(nova_linha)\n",
    "    \n",
    "print(matriz)"
   ]
  },
  {
   "cell_type": "code",
   "execution_count": 13,
   "id": "5473f68a",
   "metadata": {},
   "outputs": [
    {
     "name": "stdout",
     "output_type": "stream",
     "text": [
      "[[0, 0, 0], [0, 0, 0], [0, 0, 0]]\n"
     ]
    }
   ],
   "source": [
    "n = 3\n",
    "m = 3\n",
    "linha = [0] * m\n",
    "matriz = [linha] * n\n",
    "print(matriz)"
   ]
  },
  {
   "cell_type": "markdown",
   "id": "16113a62",
   "metadata": {},
   "source": [
    "Finalmente, podemos criar uma matriz com os valores digitados pelo usuário."
   ]
  },
  {
   "cell_type": "code",
   "execution_count": 15,
   "id": "b8626d28",
   "metadata": {},
   "outputs": [
    {
     "name": "stdout",
     "output_type": "stream",
     "text": [
      "Informe o número de linhas da matriz: 2\n",
      "Informe o número de colunas da matriz: 3\n",
      "\n",
      "Criando uma matriz com 2 linhas e 3 colunas...\n",
      "\n",
      "Informe o valor da célula (0, 0): 1\n",
      "Informe o valor da célula (0, 1): 2\n",
      "Informe o valor da célula (0, 2): 3\n",
      "Informe o valor da célula (1, 0): 4\n",
      "Informe o valor da célula (1, 1): 5\n",
      "Informe o valor da célula (1, 2): 6\n",
      "[[1, 2, 3], [4, 5, 6]]\n"
     ]
    }
   ],
   "source": [
    "n = int(input('Informe o número de linhas da matriz: '))\n",
    "m = int(input('Informe o número de colunas da matriz: '))\n",
    "\n",
    "print('\\nCriando uma matriz com %d linhas e %d colunas...\\n' % (n, m))\n",
    "matriz = []\n",
    "for linha in range(n):\n",
    "    matriz.append([])\n",
    "    for coluna in range(m):\n",
    "        matriz[linha].append(int(input('Informe o valor da célula (%d, %d): ' % (linha, coluna))))\n",
    "        \n",
    "print(matriz)"
   ]
  },
  {
   "cell_type": "markdown",
   "id": "f3d9a509",
   "metadata": {},
   "source": [
    "***\n",
    "\n",
    "**Exercício:** crie uma matriz de 4 linhas e 2 colunas contendo os 8 primeiros números ímpares. A linha 1 conterá os valores 1 e 3; a linha 2 conterá os valores 5 e 7; e assim por diante. Ao final, mostre a soma de cada linha e a soma de cada coluna."
   ]
  },
  {
   "cell_type": "code",
   "execution_count": 24,
   "id": "23f18203",
   "metadata": {},
   "outputs": [
    {
     "name": "stdout",
     "output_type": "stream",
     "text": [
      "[[1, 3], [5, 7], [9, 11], [13, 15]]\n",
      "Soma da linha 0: 4\n",
      "Soma da linha 1: 12\n",
      "Soma da linha 2: 20\n",
      "Soma da linha 3: 28\n",
      "Soma da coluna 0: 28\n",
      "Soma da coluna 1: 36\n"
     ]
    }
   ],
   "source": [
    "matriz = []\n",
    "linhas = 4\n",
    "colunas = 2\n",
    "\n",
    "valor = 1\n",
    "for l in range(linhas):\n",
    "    matriz.append([])\n",
    "    for c in range(colunas):\n",
    "        matriz[l].append(valor)\n",
    "        valor += 2\n",
    "        \n",
    "print(matriz)\n",
    "\n",
    "for l in range(linhas):\n",
    "    soma_linha = 0\n",
    "    for c in range(colunas):\n",
    "        soma_linha += matriz[l][c]\n",
    "    print('Soma da linha %d: %d' % (l, soma_linha))\n",
    "\n",
    "for c in range(colunas):\n",
    "    soma_coluna = 0\n",
    "    for l in range(linhas):\n",
    "        soma_coluna += matriz[l][c]\n",
    "    print('Soma da coluna %d: %d' % (c, soma_coluna))"
   ]
  },
  {
   "cell_type": "markdown",
   "id": "bd04f13c",
   "metadata": {},
   "source": [
    "***\n",
    "\n",
    "**Exercício:** crie uma matriz com 2 linhas e 3 colunas e preencha com números inteiros digitados pelo usuário. Modifique essa matriz da seguinte forma: as posições que contenham valores pares devem ser multiplicadas por 3, e as posições que contenham valores ímpares devem ser somadas com 12."
   ]
  },
  {
   "cell_type": "code",
   "execution_count": 25,
   "id": "e68a43d1",
   "metadata": {},
   "outputs": [
    {
     "name": "stdout",
     "output_type": "stream",
     "text": [
      "Digite um valor inteiro (pos: 0, 0): 1\n",
      "Digite um valor inteiro (pos: 0, 1): 2\n",
      "Digite um valor inteiro (pos: 0, 2): 3\n",
      "Digite um valor inteiro (pos: 1, 0): 4\n",
      "Digite um valor inteiro (pos: 1, 1): 5\n",
      "Digite um valor inteiro (pos: 1, 2): 6\n",
      "[[1, 2, 3], [4, 5, 6]]\n",
      "\n",
      "Modificando a matriz...\n",
      "\n",
      "Matriz modificada:\n",
      "[[13, 6, 15], [12, 17, 18]]\n"
     ]
    }
   ],
   "source": [
    "matriz = []\n",
    "linhas = 2\n",
    "colunas = 3\n",
    "\n",
    "for l in range(linhas):\n",
    "    matriz.append([])\n",
    "    for c in range(colunas):\n",
    "        matriz[l].append(int(input('Digite um valor inteiro (pos: %d, %d): ' % (l, c))))\n",
    "        \n",
    "print(matriz)\n",
    "print('\\nModificando a matriz...\\n')\n",
    "\n",
    "for l in range(linhas):\n",
    "    for c in range(colunas):\n",
    "        if matriz[l][c] %2 == 0:\n",
    "            matriz[l][c] = matriz[l][c] * 3\n",
    "        else:\n",
    "            matriz[l][c] = matriz[l][c] + 12\n",
    "\n",
    "print('Matriz modificada:')\n",
    "print(matriz)"
   ]
  }
 ],
 "metadata": {
  "kernelspec": {
   "display_name": "Python 3 (ipykernel)",
   "language": "python",
   "name": "python3"
  },
  "language_info": {
   "codemirror_mode": {
    "name": "ipython",
    "version": 3
   },
   "file_extension": ".py",
   "mimetype": "text/x-python",
   "name": "python",
   "nbconvert_exporter": "python",
   "pygments_lexer": "ipython3",
   "version": "3.8.10"
  }
 },
 "nbformat": 4,
 "nbformat_minor": 5
}
