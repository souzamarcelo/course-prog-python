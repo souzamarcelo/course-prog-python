{
 "cells": [
  {
   "cell_type": "markdown",
   "id": "461e41e3",
   "metadata": {},
   "source": [
    "<div align=\"right\" style=\"text-align:right\"><a rel=\"license\" href=\"http://creativecommons.org/licenses/by-nc-nd/4.0/\"><img alt=\"Licença Creative Commons\" style=\"border-width:0; float:right\" src=\"https://i.creativecommons.org/l/by-nc-nd/4.0/88x31.png\" /></a><br><br><i>Prof. Marcelo de Souza</i><br>marcelo.desouza@udesc.br</div>"
   ]
  },
  {
   "cell_type": "markdown",
   "id": "3c383b49",
   "metadata": {},
   "source": [
    "# Manipulação de strings\n",
    "\n",
    "Neste material, veremos diversas operações úteis sobre strings.\n",
    "\n",
    "---"
   ]
  },
  {
   "cell_type": "markdown",
   "id": "36691539",
   "metadata": {},
   "source": [
    "## Verificação parcial de strings"
   ]
  },
  {
   "cell_type": "code",
   "execution_count": 1,
   "id": "8207f0b9",
   "metadata": {},
   "outputs": [
    {
     "name": "stdout",
     "output_type": "stream",
     "text": [
      "True\n",
      "False\n",
      "False\n",
      "True\n"
     ]
    }
   ],
   "source": [
    "nome = 'Maria da Silva'\n",
    "\n",
    "print(nome.startswith('Mari'))\n",
    "print(nome.startswith('mari'))\n",
    "print(nome.endswith('Silv'))\n",
    "print(nome.endswith('Silva'))"
   ]
  },
  {
   "cell_type": "markdown",
   "id": "c2a5859f",
   "metadata": {},
   "source": [
    "## Conversão de maiúsculas a minúsculas"
   ]
  },
  {
   "cell_type": "code",
   "execution_count": 2,
   "id": "0df2b105",
   "metadata": {},
   "outputs": [
    {
     "name": "stdout",
     "output_type": "stream",
     "text": [
      "O CÉU É AZUL\n",
      "o céu é azul\n",
      "True\n",
      "False\n"
     ]
    }
   ],
   "source": [
    "texto = 'O céu é azul'\n",
    "\n",
    "print(texto.upper())\n",
    "print(texto.lower())\n",
    "\n",
    "print(texto.upper().startswith('O CÉU'))\n",
    "print(texto.lower().startswith('O céu'))"
   ]
  },
  {
   "cell_type": "markdown",
   "id": "creative-excuse",
   "metadata": {},
   "source": [
    "## Verificação de conteúdo"
   ]
  },
  {
   "cell_type": "code",
   "execution_count": 3,
   "id": "7c74dd6a",
   "metadata": {},
   "outputs": [
    {
     "name": "stdout",
     "output_type": "stream",
     "text": [
      "True\n",
      "False\n",
      "True\n",
      "A palavra azul aparece no texto!\n",
      "True\n",
      "False\n",
      "True\n"
     ]
    }
   ],
   "source": [
    "texto = 'O céu é azul'\n",
    "\n",
    "print('céu' in texto)\n",
    "print('Céu' in texto)\n",
    "print('a' in texto)\n",
    "\n",
    "palavra = 'azul'\n",
    "if palavra in texto:\n",
    "    print('A palavra %s aparece no texto!' % palavra)\n",
    "    \n",
    "print('verde' not in texto)\n",
    "print(palavra not in texto)\n",
    "print('Céu'.upper() in texto.upper())"
   ]
  },
  {
   "cell_type": "markdown",
   "id": "lyric-catalog",
   "metadata": {},
   "source": [
    "## Contagem de conteúdo"
   ]
  },
  {
   "cell_type": "code",
   "execution_count": 4,
   "id": "554004f3",
   "metadata": {},
   "outputs": [
    {
     "name": "stdout",
     "output_type": "stream",
     "text": [
      "1\n",
      "2\n",
      "0\n",
      "Existem 2 ocorrências da letra u no texto\n",
      "1\n",
      "2\n"
     ]
    }
   ],
   "source": [
    "texto = 'O céu é azul'\n",
    "print(texto.count('a'))\n",
    "print(texto.count('é'))\n",
    "print(texto.count('e'))\n",
    "\n",
    "num = texto.count('u')\n",
    "print('Existem %d ocorrências da letra u no texto' % num)\n",
    "\n",
    "palavra = 'azul'\n",
    "print(texto.count('azul'))\n",
    "texto = 'O céu é azul. O planeta terra é azul!'\n",
    "print(texto.count('azul'))"
   ]
  },
  {
   "cell_type": "markdown",
   "id": "paperback-module",
   "metadata": {},
   "source": [
    "## Busca de conteúdo"
   ]
  },
  {
   "cell_type": "code",
   "execution_count": 6,
   "id": "26c1b12f",
   "metadata": {},
   "outputs": [
    {
     "name": "stdout",
     "output_type": "stream",
     "text": [
      "2\n",
      "-1\n",
      "2\n",
      "16\n",
      "16\n",
      "-1\n",
      "Palavra encontrada na posição 2.\n",
      "Palavra encontrada na posição 16.\n",
      "Palavra encontrada na posição 32.\n"
     ]
    }
   ],
   "source": [
    "texto = 'O céu é azul'\n",
    "print(texto.find('céu'))   # retorna o índice onde o conteúdo (string) foi encontrado\n",
    "print(texto.find('Céu'))   # retorna -1 se o conteúdo (string) não foi encontrado\n",
    "\n",
    "texto = 'O céu é azul. O céu é bonito.'\n",
    "print(texto.find('céu'))   # retorna o índice da primeira ocorrência do conteúdo\n",
    "\n",
    "# podemos iniciar a busca pelo fim (direita), encontrando a última ocorrência do conteúdo\n",
    "print(texto.rfind('céu'))\n",
    "\n",
    "# podemos limitar a busca, informando uma posição de início\n",
    "print(texto.find('céu', 3))\n",
    "\n",
    "# podemos limitar a busca, informando uma posição de início e outra de fim\n",
    "print(texto.find('céu', 3, 15))\n",
    "\n",
    "# se quisermos buscar todas as ocorrências, usamos os comandos acima com um laço de repetição\n",
    "texto = 'O céu é azul. O céu é bonito. O céu é demais!'\n",
    "indice = 0\n",
    "while indice != -1:\n",
    "    indice = texto.find('céu', indice)\n",
    "    if indice >= 0:\n",
    "        print('Palavra encontrada na posição %d.' % indice)\n",
    "        indice += 1"
   ]
  },
  {
   "cell_type": "markdown",
   "id": "downtown-puppy",
   "metadata": {},
   "source": [
    "## Alinhamento de strings"
   ]
  },
  {
   "cell_type": "code",
   "execution_count": 12,
   "id": "cf2679b7",
   "metadata": {},
   "outputs": [
    {
     "name": "stdout",
     "output_type": "stream",
     "text": [
      "|  UDESC   |\n",
      "|UDESC     |\n",
      "|     UDESC|\n",
      "Universidade:..........UDESC\n"
     ]
    }
   ],
   "source": [
    "palavra = 'UDESC'\n",
    "centralizado = palavra.center(10)\n",
    "esquerda = palavra.ljust(10)\n",
    "direita = palavra.rjust(10)\n",
    "print('|' + centralizado + '|')\n",
    "print('|' + esquerda + '|')\n",
    "print('|' + direita + '|')\n",
    "\n",
    "# podemos preencher os espaços em branco com um caractere desejado\n",
    "print('Universidade:' + palavra.rjust(15, '.'))"
   ]
  },
  {
   "cell_type": "markdown",
   "id": "placed-hayes",
   "metadata": {},
   "source": [
    "## Quebra/separação de strings"
   ]
  },
  {
   "cell_type": "code",
   "execution_count": 26,
   "id": "e379302c",
   "metadata": {},
   "outputs": [
    {
     "name": "stdout",
     "output_type": "stream",
     "text": [
      "['O', 'céu', 'é', 'azul']\n",
      "['O', 'céu', 'é', 'azul']\n",
      "\n",
      "['O', 'céu', 'é', 'azul']\n",
      "O\n",
      "é\n",
      "\n",
      "O céu\n",
      "é azul\n",
      "e bonito!\n",
      "['O céu', 'é azul', 'e bonito!']\n",
      "['O céu', 'é azul', 'e bonito!']\n",
      "\n",
      "['José: 43', 'Maria: 38', 'Ana: 21']\n",
      "José 43\n",
      "Maria 38\n",
      "Ana 21\n"
     ]
    }
   ],
   "source": [
    "texto = 'O céu é azul'\n",
    "separado = texto.split(' ')\n",
    "print(separado)\n",
    "separado = texto.split()\n",
    "print(separado)\n",
    "print()\n",
    "\n",
    "texto = 'O@céu@é@azul'\n",
    "separado = texto.split('@')\n",
    "print(separado)\n",
    "print(separado[0])\n",
    "print(separado[2])\n",
    "print()\n",
    "\n",
    "texto = 'O céu\\né azul\\ne bonito!'\n",
    "print(texto)\n",
    "linhas = texto.split('\\n')\n",
    "print(linhas)\n",
    "linhas = texto.splitlines()\n",
    "print(linhas)\n",
    "print()\n",
    "\n",
    "# considere a seguinte string contendo idades de pessoas 'José: 43; Maria: 38; Ana: 21'\n",
    "dados = 'José: 43; Maria: 38; Ana: 21'\n",
    "dados = dados.split('; ')\n",
    "print(dados)\n",
    "for dado in dados:\n",
    "    dado = dado.split(': ')\n",
    "    nome = dado[0]\n",
    "    idade = int(dado[1])\n",
    "    print(dado[0], dado[1])"
   ]
  },
  {
   "cell_type": "markdown",
   "id": "wired-translator",
   "metadata": {},
   "source": [
    "## Substituição de strings"
   ]
  },
  {
   "cell_type": "code",
   "execution_count": 36,
   "id": "furnished-mainstream",
   "metadata": {},
   "outputs": [
    {
     "name": "stdout",
     "output_type": "stream",
     "text": [
      "O mar é azul\n",
      "O céu é azul\n",
      "O mar é azul\n",
      "\n",
      "O m*r é *zul\n",
      "The mar é azul\n",
      "O mar é azul\n",
      "\n",
      "O --- é azul. O céu é bonito. O céu é demais!\n",
      "O --- é azul. O --- é bonito. O céu é demais!\n",
      "O --- é azul. O --- é bonito. O --- é demais!\n",
      "O --- é azul. O --- é bonito. O --- é demais!\n"
     ]
    }
   ],
   "source": [
    "texto = 'O céu é azul'\n",
    "print(texto.replace('céu', 'mar'))\n",
    "print(texto)   # perceba que a variável não é alterada\n",
    "texto = texto.replace('céu', 'mar')\n",
    "print(texto)   # agora sobrescrevemos o conteúdo da variável, alterando-a\n",
    "print()\n",
    "\n",
    "print(texto.replace('a', '*'))\n",
    "print(texto.replace('O', 'The'))\n",
    "print(texto)\n",
    "print()\n",
    "\n",
    "# podemos definir quantas ocorrências serão substituídas\n",
    "texto = 'O céu é azul. O céu é bonito. O céu é demais!'\n",
    "print(texto.replace('céu', '---', 1))\n",
    "print(texto.replace('céu', '---', 2))\n",
    "print(texto.replace('céu', '---', 3))\n",
    "print(texto.replace('céu', '---', 4))"
   ]
  },
  {
   "cell_type": "markdown",
   "id": "prescription-doubt",
   "metadata": {},
   "source": [
    "## Remoção de caracteres das extremidades"
   ]
  },
  {
   "cell_type": "code",
   "execution_count": 53,
   "id": "straight-honor",
   "metadata": {},
   "outputs": [
    {
     "name": "stdout",
     "output_type": "stream",
     "text": [
      "|   UDESC  |\n",
      "|UDESC|\n",
      "|UDESC  |\n",
      "|   UDESC|\n",
      "|   UDESC  |\n",
      "\n",
      "---...UDESC---...\n",
      "---...UDESC---\n",
      "...UDESC---...\n",
      "UDESC\n",
      "UDESC---...\n",
      "---...UDESC\n"
     ]
    }
   ],
   "source": [
    "# remoção de espaços em branco\n",
    "texto = '   UDESC  '\n",
    "print('|' + texto + '|')\n",
    "print('|' + texto.strip() + '|')\n",
    "print('|' + texto.lstrip() + '|')\n",
    "print('|' + texto.rstrip() + '|')\n",
    "print('|' + texto + '|')\n",
    "print()\n",
    "\n",
    "# remoção de outros caracteres\n",
    "texto = '---...UDESC---...'\n",
    "print(texto)\n",
    "print(texto.strip('.'))\n",
    "print(texto.strip('-'))\n",
    "print(texto.strip('-.'))\n",
    "print(texto.lstrip('-.'))\n",
    "print(texto.rstrip('-.'))"
   ]
  },
  {
   "cell_type": "markdown",
   "id": "original-kentucky",
   "metadata": {},
   "source": [
    "## Validação de conteúdo"
   ]
  },
  {
   "cell_type": "code",
   "execution_count": 14,
   "id": "confidential-beverage",
   "metadata": {},
   "outputs": [
    {
     "name": "stdout",
     "output_type": "stream",
     "text": [
      "False True False True \n",
      "False False False True \n",
      "False True False False \n",
      "False True False \n",
      "False False True \n",
      "True False \n",
      "False True "
     ]
    }
   ],
   "source": [
    "vazio = ''\n",
    "numero = '132'\n",
    "numero_ponto = '132.7'\n",
    "frase = 'O céu é azul'\n",
    "palavra = 'Pacífico'\n",
    "\n",
    "# verificar se todos os caracteres são letras ou números\n",
    "print(vazio.isalnum(), end = ' ')\n",
    "print(numero.isalnum(), end = ' ')\n",
    "print(frase.isalnum(), end = ' ')\n",
    "print(palavra.isalnum(), end = ' ')\n",
    "print()\n",
    "\n",
    "# verificar se todos os caracteres são letras (incluindo acentuadas)\n",
    "print(vazio.isalpha(), end = ' ')\n",
    "print(numero.isalpha(), end = ' ')\n",
    "print(frase.isalpha(), end = ' ')\n",
    "print(palavra.isalpha(), end = ' ')\n",
    "print()\n",
    "\n",
    "# verificar se todos os caracteres são números\n",
    "print(vazio.isdigit(), end = ' ')\n",
    "print(numero.isdigit(), end = ' ')\n",
    "print(frase.isdigit(), end = ' ')\n",
    "print(palavra.isdigit(), end = ' ')\n",
    "print()\n",
    "\n",
    "# verificar se os caracteres são minúsculos ou maiúsculos\n",
    "a = 'Olá'\n",
    "b = 'OLÁ'\n",
    "c = 'olá'\n",
    "\n",
    "print(a.isupper(), end = ' ')\n",
    "print(b.isupper(), end = ' ')\n",
    "print(c.isupper(), end = ' ')\n",
    "print()\n",
    "\n",
    "print(a.islower(), end = ' ')\n",
    "print(b.islower(), end = ' ')\n",
    "print(c.islower(), end = ' ')\n",
    "print()\n",
    "\n",
    "# verificar se todos os caracteres são de espaçamento\n",
    "a = '\\t\\n\\r  '\n",
    "b = '\\tOlá\\n '\n",
    "print(a.isspace(), end = ' ')\n",
    "print(b.isspace(), end = ' ')\n",
    "print()\n",
    "\n",
    "# verificar se algum caractere não é impresso em tela\n",
    "a = 'Texto\\n'\n",
    "b = 'Olá'\n",
    "print(a.isprintable(), end = ' ')\n",
    "print(b.isprintable(), end = ' ')"
   ]
  },
  {
   "cell_type": "markdown",
   "id": "2b226d49",
   "metadata": {},
   "source": [
    "## Mais opções de formatação"
   ]
  },
  {
   "cell_type": "code",
   "execution_count": 68,
   "id": "7e18c960",
   "metadata": {},
   "outputs": [
    {
     "name": "stdout",
     "output_type": "stream",
     "text": [
      "José possui 50 anos de idade\n",
      "Em 3 anos, José terá 53 anos de idade\n",
      "\n",
      "Quantidade 1:      34\n",
      "Quantidade 2:     420\n",
      "\n",
      "Quantidade 1: 34      (à esquerda)\n",
      "Quantidade 2: 420     (à esquerda)\n",
      "Quantidade 1:      34 (à direita)\n",
      "Quantidade 2:     420 (à direita)\n",
      "Quantidade 1:   34    (centralizado)\n",
      "Quantidade 2:   420   (centralizado)\n",
      "\n",
      "Quantidade 1.............34\n",
      "Quantidade 2............420\n",
      "Valor: R$   320.60\n",
      "Valor: R$ 320.60\n"
     ]
    }
   ],
   "source": [
    "# podemos incluir variáveis diretamente em strings formatadas (f-strings)\n",
    "nome = 'José'\n",
    "idade = 50\n",
    "soma = 3\n",
    "\n",
    "print(f'{nome} possui {idade} anos de idade')\n",
    "print(f'Em {soma} anos, {nome} terá {idade + soma} anos de idade')\n",
    "print()\n",
    "\n",
    "# podemos definir o espaço que o valor ocupará na string\n",
    "qtd1 = 34\n",
    "qtd2 = 420\n",
    "print(f'Quantidade 1: {qtd1:7}')\n",
    "print(f'Quantidade 2: {qtd2:7}')\n",
    "print()\n",
    "\n",
    "# e também o alinhamento\n",
    "print(f'Quantidade 1: {qtd1:<7} (à esquerda)')\n",
    "print(f'Quantidade 2: {qtd2:<7} (à esquerda)')\n",
    "print(f'Quantidade 1: {qtd1:>7} (à direita)')\n",
    "print(f'Quantidade 2: {qtd2:>7} (à direita)')\n",
    "print(f'Quantidade 1: {qtd1:^7} (centralizado)')\n",
    "print(f'Quantidade 2: {qtd2:^7} (centralizado)')\n",
    "print()\n",
    "\n",
    "# alinhamento com caracteres de preenchimento\n",
    "print(f'Quantidade 1{qtd1:.>15}')\n",
    "print(f'Quantidade 2{qtd2:.>15}')\n",
    "\n",
    "# formatação de valores com ponto flutuante\n",
    "valor = 320.6\n",
    "print(f'Valor: R$ {valor:8.2f}')\n",
    "print(f'Valor: R$ {valor:.2f}')"
   ]
  }
 ],
 "metadata": {
  "kernelspec": {
   "display_name": "Python 3 (ipykernel)",
   "language": "python",
   "name": "python3"
  },
  "language_info": {
   "codemirror_mode": {
    "name": "ipython",
    "version": 3
   },
   "file_extension": ".py",
   "mimetype": "text/x-python",
   "name": "python",
   "nbconvert_exporter": "python",
   "pygments_lexer": "ipython3",
   "version": "3.8.10"
  }
 },
 "nbformat": 4,
 "nbformat_minor": 5
}
