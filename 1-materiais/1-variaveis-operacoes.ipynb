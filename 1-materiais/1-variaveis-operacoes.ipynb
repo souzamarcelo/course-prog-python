{
 "cells": [
  {
   "cell_type": "markdown",
   "id": "cbd11b5f",
   "metadata": {},
   "source": [
    "<div align=\"right\" style=\"text-align:right\"><a rel=\"license\" href=\"http://creativecommons.org/licenses/by-nc-nd/4.0/\"><img alt=\"Licença Creative Commons\" style=\"border-width:0; float:right\" src=\"https://i.creativecommons.org/l/by-nc-nd/4.0/88x31.png\" /></a><br><br><i>Prof. Marcelo de Souza</i><br>marcelo.desouza@udesc.br</div>"
   ]
  },
  {
   "cell_type": "markdown",
   "id": "98a31e65",
   "metadata": {},
   "source": [
    "# Variáveis e operações básicas\n",
    "\n",
    "Este notebook detalha a sintaxe para definição, atribuição e acesso de variáveis, bem como seu uso em operações básicas."
   ]
  },
  {
   "cell_type": "markdown",
   "id": "8a585fb8",
   "metadata": {},
   "source": [
    "## 1. Variáveis"
   ]
  },
  {
   "cell_type": "markdown",
   "id": "a52e6c96",
   "metadata": {},
   "source": [
    "Criamos uma variável definindo seu nome e atribuindo um valor. Abaixo criamos uma variável chamada ``a`` e atribuimos o número ``1`` como seu valor."
   ]
  },
  {
   "cell_type": "code",
   "execution_count": 1,
   "id": "60327f98",
   "metadata": {},
   "outputs": [],
   "source": [
    "a = 1"
   ]
  },
  {
   "cell_type": "markdown",
   "id": "18da8488",
   "metadata": {},
   "source": [
    "Podemos acessar o valor armazenado na variável ``a`` e exibí-lo em tela."
   ]
  },
  {
   "cell_type": "code",
   "execution_count": 2,
   "id": "d78d50cd",
   "metadata": {},
   "outputs": [
    {
     "name": "stdout",
     "output_type": "stream",
     "text": [
      "1\n"
     ]
    }
   ],
   "source": [
    "print(a)"
   ]
  },
  {
   "cell_type": "markdown",
   "id": "e16164a6",
   "metadata": {},
   "source": [
    "Também podemos substituir o valor da variável ``a``."
   ]
  },
  {
   "cell_type": "code",
   "execution_count": 3,
   "id": "e920f5f1",
   "metadata": {},
   "outputs": [
    {
     "name": "stdout",
     "output_type": "stream",
     "text": [
      "5\n"
     ]
    }
   ],
   "source": [
    "a = 5\n",
    "print(a) # Neste momento, a variável armazena seu novo valor (5)"
   ]
  },
  {
   "cell_type": "markdown",
   "id": "e7c6e619",
   "metadata": {},
   "source": [
    "### 1.1 Tipos (de variáveis/valores)\n",
    "\n",
    "Variáveis não se limitam a armazenar números (tal como os exemplos acima). Os tipos **básicos** de dados que podemos armazenar em Python são:\n",
    "\n",
    "Tipos numéricos:\n",
    "+ **inteiro**: números inteiros (ex: 1, 7, -6, 324, ...)\n",
    "+ **float**: números reais; ponto flutuante (ex: 1.7, 33.86, 44.0, -520.4, ...)\n",
    "\n",
    "Outros tipos:\n",
    "+ **texto**/**string**: valores textuais (ex: 'um texto', 'outro texto', '12', ...)\n",
    "+ **lógico**/**booleano**: armazena verdadeiro ou falso (True ou False)"
   ]
  },
  {
   "cell_type": "code",
   "execution_count": 4,
   "id": "d103c096",
   "metadata": {},
   "outputs": [
    {
     "name": "stdout",
     "output_type": "stream",
     "text": [
      "16\n",
      "33.4\n",
      "Ibirama\n",
      "Rio do Sul\n",
      "True\n"
     ]
    }
   ],
   "source": [
    "num_inteiro = 16       # Variável inteira\n",
    "num_float = 33.4       # Variável float/real\n",
    "texto1 = 'Ibirama'     # Variável string (usando áspas simples)\n",
    "texto2 = \"Rio do Sul\"  # Variável string (usando áspas duplas)\n",
    "logico = True          # Variável booleana\n",
    "\n",
    "print(num_inteiro)\n",
    "print(num_float)\n",
    "print(texto1)\n",
    "print(texto2)\n",
    "print(logico)"
   ]
  },
  {
   "cell_type": "markdown",
   "id": "5bb1cf01",
   "metadata": {},
   "source": [
    "Os comandos são executados em sequência, e em diferentes pontos da execução uma variável pode ter diferentes valores. Veja ainda que a mesma variável pode armazenar valores de diferentes tipos em diferentes pontos da execução (isso não é verdade para algumas linguagens de programação)."
   ]
  },
  {
   "cell_type": "code",
   "execution_count": 5,
   "id": "7f50402d",
   "metadata": {},
   "outputs": [
    {
     "name": "stdout",
     "output_type": "stream",
     "text": [
      "43\n",
      "5\n",
      "Olá\n",
      "False\n"
     ]
    }
   ],
   "source": [
    "x = 43\n",
    "print(x)\n",
    "x = 12\n",
    "x = 7\n",
    "print(a)\n",
    "x = 'Olá'\n",
    "print(x)\n",
    "x = 3.14\n",
    "x = False\n",
    "print(x)"
   ]
  },
  {
   "cell_type": "markdown",
   "id": "b5da72aa",
   "metadata": {},
   "source": [
    "Podemos usar o comando ``type(<var>)`` para saber o tipo de uma variável (``<var>``)."
   ]
  },
  {
   "cell_type": "code",
   "execution_count": 6,
   "id": "9707be22",
   "metadata": {},
   "outputs": [
    {
     "name": "stdout",
     "output_type": "stream",
     "text": [
      "<class 'int'>\n",
      "<class 'float'>\n",
      "<class 'str'>\n",
      "<class 'bool'>\n"
     ]
    }
   ],
   "source": [
    "x = 9\n",
    "print(type(x))\n",
    "x = 2.5\n",
    "print(type(x))\n",
    "x = 'Ibirama'\n",
    "print(type(x))\n",
    "x = True\n",
    "print(type(x))"
   ]
  },
  {
   "cell_type": "markdown",
   "id": "e20fe79e",
   "metadata": {},
   "source": [
    "## 2. Operações básicas\n",
    "\n",
    "Usamos comandos para executar operações sobre dados dos diferentes tipos descritos acima. Essas operações podem ser realizadas sobre os dados/valores diretamente, ou sobre variáveis que armazenam esses dados/valores."
   ]
  },
  {
   "cell_type": "markdown",
   "id": "3fd6c6cb",
   "metadata": {},
   "source": [
    "### 2.1 Operações aritméticas/matemáticas"
   ]
  },
  {
   "cell_type": "markdown",
   "id": "abca898d",
   "metadata": {},
   "source": [
    "Podemos usar operações básicas: adição (``+``), subtração (``-``), multiplicação (``*``) e divisão (``/``)."
   ]
  },
  {
   "cell_type": "code",
   "execution_count": 7,
   "id": "711b1b8c",
   "metadata": {},
   "outputs": [
    {
     "name": "stdout",
     "output_type": "stream",
     "text": [
      "8\n",
      "20\n",
      "5.0\n",
      "10\n",
      "20\n"
     ]
    }
   ],
   "source": [
    "print(5 + 3)       # Operação usando valores e exibindo diretamente em tela\n",
    "print(10 * 2)      # Operação usando valores e exibindo diretamente em tela\n",
    "\n",
    "a = 15\n",
    "print(a / 3)       # Operação usando variáveis e valores e exibindo diretamente em tela\n",
    "b = 5\n",
    "print(a - b)       # Operação usando variáveis e exibindo diretamente em tela\n",
    "\n",
    "resultado = a + b  # Armazenando o resultado em uma variável\n",
    "print(resultado)   # e em seguida exibindo seu valor"
   ]
  },
  {
   "cell_type": "markdown",
   "id": "58a97bd3",
   "metadata": {},
   "source": [
    "+ Observe que a operação de divisão resulta em um valor do tipo ``float``, mesmo sendo uma divisão inteira. As demais operações resultam em valores inteiros, uma vez que os valores/variáveis são inteiros."
   ]
  },
  {
   "cell_type": "markdown",
   "id": "4830a878",
   "metadata": {},
   "source": [
    "Mais alguns exemplos."
   ]
  },
  {
   "cell_type": "code",
   "execution_count": 8,
   "id": "f212039e",
   "metadata": {},
   "outputs": [
    {
     "name": "stdout",
     "output_type": "stream",
     "text": [
      "8.0\n",
      "2.0\n",
      "15.0\n",
      "1.6666666666666667\n"
     ]
    }
   ],
   "source": [
    "a = 5.0\n",
    "b = 3\n",
    "print(a + b)\n",
    "print(a - b)\n",
    "print(a * b)\n",
    "print(a / b)"
   ]
  },
  {
   "cell_type": "markdown",
   "id": "54b2f503",
   "metadata": {},
   "source": [
    "+ Neste caso, como uma das variáveis (``a``) é do tipo ``float``, o resultado será também ``float``."
   ]
  },
  {
   "cell_type": "markdown",
   "id": "ccabdadb",
   "metadata": {},
   "source": [
    "Além das operações básicas, podemos usar operações adicionais:\n",
    "+ **Exponenciação**: ``**`` (i.e. potenciação)\n",
    "+ **Parte inteira**: ``//`` (extrai a parte inteira da divisão de dois números inteiros)\n",
    "+ **Módulo**: ``%`` (extrai o resto da divisão inteira entre dois números inteiros)"
   ]
  },
  {
   "cell_type": "code",
   "execution_count": 15,
   "id": "3dc5e50e",
   "metadata": {},
   "outputs": [
    {
     "name": "stdout",
     "output_type": "stream",
     "text": [
      "25\n",
      "16\n",
      "2.5\n",
      "2\n",
      "1\n",
      "2.0\n",
      "2\n",
      "0\n"
     ]
    }
   ],
   "source": [
    "a = 5\n",
    "b = 2\n",
    "c = 4\n",
    "\n",
    "print(a ** b)  # 5^2\n",
    "print(b ** c)  # 2^4\n",
    "\n",
    "print(a / b)   # 5/2 = 2.5\n",
    "print(a // b)  # Parte inteira: 2\n",
    "print(a % b)   # Resto: 1\n",
    "\n",
    "print(c / b)   # 4/2 = 2.0\n",
    "print(c // b)  # Parte inteira: 2\n",
    "print(c % b)   # Resto: 0"
   ]
  },
  {
   "cell_type": "markdown",
   "id": "488f7ead",
   "metadata": {},
   "source": [
    "Finalmente, podemos montar expressões matemáticas completas usando essas operações básicas.\n",
    "\n",
    "Exemplo: dado o valor atual de um produto de $4.00, calcular um aumento de 25\\% no seu valor."
   ]
  },
  {
   "cell_type": "code",
   "execution_count": 18,
   "id": "87510ce0",
   "metadata": {},
   "outputs": [
    {
     "name": "stdout",
     "output_type": "stream",
     "text": [
      "5.0\n",
      "5.0\n"
     ]
    }
   ],
   "source": [
    "# Calculando e exibindo diretamente\n",
    "print(4 + (4 * 25 / 100))\n",
    "\n",
    "# Usando variáveis\n",
    "valor = 4\n",
    "percentual_aumento = 25\n",
    "valor_aumento = valor * percentual_aumento / 100\n",
    "novo_valor = valor + valor_aumento\n",
    "print(novo_valor)"
   ]
  },
  {
   "cell_type": "markdown",
   "id": "7dbc1300",
   "metadata": {},
   "source": [
    "Exemplo: dados os valores de $a$, $b$ e $c$, calcular o resultado da expressão abaixo.\n",
    "\n",
    "$$\\frac{a^b - 2a}{b - c}$$"
   ]
  },
  {
   "cell_type": "code",
   "execution_count": 21,
   "id": "e14a70a7",
   "metadata": {},
   "outputs": [
    {
     "name": "stdout",
     "output_type": "stream",
     "text": [
      "2.0\n"
     ]
    }
   ],
   "source": [
    "a = 4\n",
    "b = 2\n",
    "c = -2\n",
    "\n",
    "resultado = (a ** b - 2 * a) / (b - c)\n",
    "print(resultado)"
   ]
  },
  {
   "cell_type": "markdown",
   "id": "a46a6422",
   "metadata": {},
   "source": [
    "**Importante**: nas operações aritméticas, a execução segue a mesma ordem de prioridade da matemática (i.e. exponenciação $\\rightarrow$ multiplicação/divisão $\\rightarrow$ adição/subtração); da mesma forma, operações com o mesmo nível de prioridade são executadas da esquerda para a direita. Para definir a ordem desejada, deve-se usar parêntesis."
   ]
  },
  {
   "cell_type": "markdown",
   "id": "704cfd9b",
   "metadata": {},
   "source": [
    "### 2.2 Operações relacionais\n",
    "\n",
    "São usadas para comparar dois valores. O resultado é sempre verdadeiro (``True``) quando a checagem é satisfeita, ou falso (``False``) quando a checagem não é satisfeita.\n",
    "\n",
    "Dados dois valores ``a`` e ``b``, temos as seguintes operações relacionais:\n",
    "+ ``a == b``: verifica se ``a`` é **igual** a ``b``;\n",
    "+ ``a != b``: verifica se ``a`` é **diferente** de ``b``;\n",
    "+ ``a > b``: verifica se ``a`` é **maior** que ``b``;\n",
    "+ ``a < b``: verifica se ``a`` é **menor** que ``b``;\n",
    "+ ``a >= b``: verifica se ``a`` é **maior ou igual** que ``b``;\n",
    "+ ``a <= b``: verifica se ``a`` é **menor ou igual** que ``b``;"
   ]
  },
  {
   "cell_type": "code",
   "execution_count": 25,
   "id": "77c7235a",
   "metadata": {},
   "outputs": [
    {
     "name": "stdout",
     "output_type": "stream",
     "text": [
      "False\n",
      "True\n",
      "False\n",
      "True\n",
      "False\n",
      "True\n"
     ]
    }
   ],
   "source": [
    "a = 5\n",
    "b = 8\n",
    "\n",
    "print(a == b)\n",
    "print(a != b)\n",
    "print(a > b)\n",
    "print(a < b)\n",
    "print(a >= b)\n",
    "print(a <= b)"
   ]
  },
  {
   "cell_type": "markdown",
   "id": "6260071e",
   "metadata": {},
   "source": [
    "Podemos usar essas operações com dados não numéricos (tome cuidado para não misturar dados de diferentes tipos, pois algumas operações não são suportadas, e.g. não há como determinar se o valor 5 é maior que o texto \"Ibirama\", mas podemos determinar se esses valores são iguais ou diferentes)."
   ]
  },
  {
   "cell_type": "code",
   "execution_count": 31,
   "id": "95493127",
   "metadata": {},
   "outputs": [
    {
     "name": "stdout",
     "output_type": "stream",
     "text": [
      "False\n",
      "True\n",
      "False\n",
      "True\n",
      "False\n",
      "True\n"
     ]
    }
   ],
   "source": [
    "a = 'Ana'\n",
    "b = 'José'\n",
    "\n",
    "print(a == b)\n",
    "print(a != b)\n",
    "print(a > b)    # definido pela ordem alfabética\n",
    "print(a < b)    # definido pela ordem alfabética\n",
    "print(a >= b)   # definido pela ordem alfabética\n",
    "print(a <= b)   # definido pela ordem alfabética"
   ]
  },
  {
   "cell_type": "markdown",
   "id": "3db4e055",
   "metadata": {},
   "source": [
    "Exemplo: dadas as idades de Maria e Pedro, informadas pelo usuário, determine se:\n",
    "+ Maria é mais velha que Pedro;\n",
    "+ Maria é mais jovem que Pedro;\n",
    "+ Maria e Pedro têm a mesma idade;\n",
    "+ Pedro é idoso (60 anos ou mais);\n",
    "+ Maria é menor de idade."
   ]
  },
  {
   "cell_type": "code",
   "execution_count": 32,
   "id": "07ed4346",
   "metadata": {},
   "outputs": [
    {
     "name": "stdout",
     "output_type": "stream",
     "text": [
      "Idade da Maria: 15\n",
      "Idade do Pedro: 12\n",
      "Maria é mais velha que Pedro? True\n",
      "Maria é mais jovem que Pedro? False\n",
      "Eles têm a mesma idade? False\n",
      "Pedro é idoso? False\n",
      "Maria é menor de idade? True\n"
     ]
    }
   ],
   "source": [
    "idade_maria = int(input('Idade da Maria: '))\n",
    "idade_pedro = int(input('Idade do Pedro: '))\n",
    "\n",
    "print('Maria é mais velha que Pedro?', idade_maria > idade_pedro)\n",
    "print('Maria é mais jovem que Pedro?', idade_maria < idade_pedro)\n",
    "print('Eles têm a mesma idade?', idade_maria == idade_pedro)\n",
    "print('Pedro é idoso?', idade_pedro >= 60)\n",
    "print('Maria é menor de idade?', idade_maria < 18)"
   ]
  },
  {
   "cell_type": "markdown",
   "id": "73dc1618",
   "metadata": {},
   "source": [
    "### 2.3 Operações lógicas"
   ]
  },
  {
   "cell_type": "code",
   "execution_count": null,
   "id": "32b3c4c8",
   "metadata": {},
   "outputs": [],
   "source": []
  },
  {
   "cell_type": "code",
   "execution_count": null,
   "id": "49d8ce93",
   "metadata": {},
   "outputs": [],
   "source": []
  },
  {
   "cell_type": "markdown",
   "id": "ebf1a669",
   "metadata": {},
   "source": [
    "### 2.4 Operações com strings"
   ]
  },
  {
   "cell_type": "code",
   "execution_count": null,
   "id": "b0745d23",
   "metadata": {},
   "outputs": [],
   "source": []
  },
  {
   "cell_type": "code",
   "execution_count": null,
   "id": "343f56a2",
   "metadata": {},
   "outputs": [],
   "source": []
  }
 ],
 "metadata": {
  "kernelspec": {
   "display_name": "Python 3 (ipykernel)",
   "language": "python",
   "name": "python3"
  },
  "language_info": {
   "codemirror_mode": {
    "name": "ipython",
    "version": 3
   },
   "file_extension": ".py",
   "mimetype": "text/x-python",
   "name": "python",
   "nbconvert_exporter": "python",
   "pygments_lexer": "ipython3",
   "version": "3.8.10"
  }
 },
 "nbformat": 4,
 "nbformat_minor": 5
}
