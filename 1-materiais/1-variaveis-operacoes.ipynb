{
 "cells": [
  {
   "cell_type": "markdown",
   "id": "461e41e3",
   "metadata": {},
   "source": [
    "<div align=\"right\" style=\"text-align:right\"><a rel=\"license\" href=\"http://creativecommons.org/licenses/by-nc-nd/4.0/\"><img alt=\"Licença Creative Commons\" style=\"border-width:0; float:right\" src=\"https://i.creativecommons.org/l/by-nc-nd/4.0/88x31.png\" /></a><br><br><i>Prof. Marcelo de Souza</i><br>marcelo.desouza@udesc.br</div>"
   ]
  },
  {
   "cell_type": "markdown",
   "id": "3c383b49",
   "metadata": {},
   "source": [
    "# Variáveis e operações básicas\n",
    "\n",
    "Este notebook detalha a sintaxe para definição, atribuição e acesso de variáveis, bem como seu uso em operações básicas."
   ]
  },
  {
   "cell_type": "markdown",
   "id": "36691539",
   "metadata": {},
   "source": [
    "## 1. Variáveis"
   ]
  },
  {
   "cell_type": "markdown",
   "id": "da0b78f2",
   "metadata": {},
   "source": [
    "Criamos uma variável definindo seu nome e atribuindo um valor. Abaixo criamos uma variável chamada ``a`` e atribuimos o número ``1`` como seu valor."
   ]
  },
  {
   "cell_type": "code",
   "execution_count": 1,
   "id": "21268db3",
   "metadata": {},
   "outputs": [],
   "source": [
    "a = 1"
   ]
  },
  {
   "cell_type": "markdown",
   "id": "978d0dec",
   "metadata": {},
   "source": [
    "Podemos acessar o valor armazenado na variável ``a`` e exibí-lo em tela."
   ]
  },
  {
   "cell_type": "code",
   "execution_count": 2,
   "id": "1ccd42ad",
   "metadata": {},
   "outputs": [
    {
     "name": "stdout",
     "output_type": "stream",
     "text": [
      "1\n"
     ]
    }
   ],
   "source": [
    "print(a)"
   ]
  },
  {
   "cell_type": "markdown",
   "id": "9bb6dfd0",
   "metadata": {},
   "source": [
    "Também podemos substituir o valor da variável ``a``."
   ]
  },
  {
   "cell_type": "code",
   "execution_count": 3,
   "id": "0e060e1b",
   "metadata": {},
   "outputs": [
    {
     "name": "stdout",
     "output_type": "stream",
     "text": [
      "5\n"
     ]
    }
   ],
   "source": [
    "a = 5\n",
    "print(a) # Neste momento, a variável armazena seu novo valor (5)"
   ]
  },
  {
   "cell_type": "markdown",
   "id": "f856dc3a",
   "metadata": {},
   "source": [
    "### 1.1 Tipos (de variáveis/valores)\n",
    "\n",
    "Variáveis não se limitam a armazenar números (tal como os exemplos acima). Os tipos **básicos** de dados que podemos armazenar em Python são:\n",
    "\n",
    "Tipos numéricos:\n",
    "+ **inteiro**: números inteiros (ex: 1, 7, -6, 324, ...)\n",
    "+ **float**: números reais; ponto flutuante (ex: 1.7, 33.86, 44.0, -520.4, ...)\n",
    "\n",
    "Outros tipos:\n",
    "+ **texto**/**string**: valores textuais (ex: 'um texto', 'outro texto', '12', ...)\n",
    "+ **lógico**/**booleano**: armazena verdadeiro ou falso (True ou False)"
   ]
  },
  {
   "cell_type": "code",
   "execution_count": 4,
   "id": "72d75f75",
   "metadata": {},
   "outputs": [
    {
     "name": "stdout",
     "output_type": "stream",
     "text": [
      "16\n",
      "33.4\n",
      "Ibirama\n",
      "Rio do Sul\n",
      "True\n"
     ]
    }
   ],
   "source": [
    "num_inteiro = 16       # Variável inteira\n",
    "num_float = 33.4       # Variável float/real\n",
    "texto1 = 'Ibirama'     # Variável string (usando áspas simples)\n",
    "texto2 = \"Rio do Sul\"  # Variável string (usando áspas duplas)\n",
    "logico = True          # Variável booleana\n",
    "\n",
    "print(num_inteiro)\n",
    "print(num_float)\n",
    "print(texto1)\n",
    "print(texto2)\n",
    "print(logico)"
   ]
  },
  {
   "cell_type": "markdown",
   "id": "993abc5a",
   "metadata": {},
   "source": [
    "Os comandos são executados em sequência, e em diferentes pontos da execução uma variável pode ter diferentes valores. Veja ainda que a mesma variável pode armazenar valores de diferentes tipos em diferentes pontos da execução (isso não é verdade para algumas linguagens de programação)."
   ]
  },
  {
   "cell_type": "code",
   "execution_count": 5,
   "id": "97b40855",
   "metadata": {},
   "outputs": [
    {
     "name": "stdout",
     "output_type": "stream",
     "text": [
      "43\n",
      "5\n",
      "Olá\n",
      "False\n"
     ]
    }
   ],
   "source": [
    "x = 43\n",
    "print(x)\n",
    "x = 12\n",
    "x = 7\n",
    "print(a)\n",
    "x = 'Olá'\n",
    "print(x)\n",
    "x = 3.14\n",
    "x = False\n",
    "print(x)"
   ]
  },
  {
   "cell_type": "markdown",
   "id": "46970735",
   "metadata": {},
   "source": [
    "Podemos usar o comando ``type(<var>)`` para saber o tipo de uma variável (``<var>``)."
   ]
  },
  {
   "cell_type": "code",
   "execution_count": 6,
   "id": "06ed96d7",
   "metadata": {},
   "outputs": [
    {
     "name": "stdout",
     "output_type": "stream",
     "text": [
      "<class 'int'>\n",
      "<class 'float'>\n",
      "<class 'str'>\n",
      "<class 'bool'>\n"
     ]
    }
   ],
   "source": [
    "x = 9\n",
    "print(type(x))\n",
    "x = 2.5\n",
    "print(type(x))\n",
    "x = 'Ibirama'\n",
    "print(type(x))\n",
    "x = True\n",
    "print(type(x))"
   ]
  },
  {
   "cell_type": "markdown",
   "id": "302ecb0e",
   "metadata": {},
   "source": [
    "Podemos converter uma variável de um tipo a outro (operação conhecida como *cast*)."
   ]
  },
  {
   "cell_type": "code",
   "execution_count": 7,
   "id": "a6897f44",
   "metadata": {},
   "outputs": [
    {
     "name": "stdout",
     "output_type": "stream",
     "text": [
      "<class 'int'>  ---> 12\n",
      "<class 'float'>  ---> 12.0\n",
      "<class 'int'>  ---> 7\n",
      "<class 'float'>  ---> 7.33\n",
      "<class 'float'>  ---> 68.0\n",
      "<class 'int'>  ---> 9\n",
      "<class 'str'>  ---> 68\n",
      "<class 'str'>  ---> 9.7\n"
     ]
    }
   ],
   "source": [
    "a = '12'   # Uma string armazenando um número inteiro em formato de texto\n",
    "b = '7.33' # Uma string armazenando um número float em formato de texto\n",
    "c = 68     # Um inteiro\n",
    "d = 9.7    # Um float\n",
    "\n",
    "x = int(a)\n",
    "print(type(x), ' --->', x)\n",
    "\n",
    "x = float(a)\n",
    "print(type(x), ' --->', x)\n",
    "\n",
    "# x = int(b) # Este comando não funciona, pois o número definido pela string é float.\n",
    "# A solução é fazer duas conversões, primeiro a float e depois a int:\n",
    "x = int(float(b))\n",
    "print(type(x), ' --->', x)   # Note que a parte fracionária é perdida\n",
    "\n",
    "x = float(b)\n",
    "print(type(x), ' --->', x)\n",
    "\n",
    "x = float(c)\n",
    "print(type(x), ' --->', x)\n",
    "\n",
    "x = int(d)\n",
    "print(type(x), ' --->', x)   # Note que a parte fracionária é perdida\n",
    "\n",
    "x = str(c)\n",
    "print(type(x), ' --->', x)\n",
    "\n",
    "x = str(d)\n",
    "print(type(x), ' --->', x)"
   ]
  },
  {
   "cell_type": "markdown",
   "id": "5b0d04dd",
   "metadata": {},
   "source": [
    "## 2. Operações básicas\n",
    "\n",
    "Usamos comandos para executar operações sobre dados dos diferentes tipos descritos acima. Essas operações podem ser realizadas sobre os dados/valores diretamente, ou sobre variáveis que armazenam esses dados/valores."
   ]
  },
  {
   "cell_type": "markdown",
   "id": "9ea8c976",
   "metadata": {},
   "source": [
    "### 2.1 Operações aritméticas/matemáticas"
   ]
  },
  {
   "cell_type": "markdown",
   "id": "62f3cdb7",
   "metadata": {},
   "source": [
    "Podemos usar operações básicas: adição (``+``), subtração (``-``), multiplicação (``*``) e divisão (``/``)."
   ]
  },
  {
   "cell_type": "code",
   "execution_count": 8,
   "id": "c8334ea0",
   "metadata": {},
   "outputs": [
    {
     "name": "stdout",
     "output_type": "stream",
     "text": [
      "8\n",
      "20\n",
      "5.0\n",
      "10\n",
      "20\n"
     ]
    }
   ],
   "source": [
    "print(5 + 3)       # Operação usando valores e exibindo diretamente em tela\n",
    "print(10 * 2)      # Operação usando valores e exibindo diretamente em tela\n",
    "\n",
    "a = 15\n",
    "print(a / 3)       # Operação usando variáveis e valores e exibindo diretamente em tela\n",
    "b = 5\n",
    "print(a - b)       # Operação usando variáveis e exibindo diretamente em tela\n",
    "\n",
    "resultado = a + b  # Armazenando o resultado em uma variável\n",
    "print(resultado)   # e em seguida exibindo seu valor"
   ]
  },
  {
   "cell_type": "markdown",
   "id": "6930cab2",
   "metadata": {},
   "source": [
    "+ Observe que a operação de divisão resulta em um valor do tipo ``float``, mesmo sendo uma divisão inteira. As demais operações resultam em valores inteiros, uma vez que os valores/variáveis são inteiros."
   ]
  },
  {
   "cell_type": "markdown",
   "id": "7938f073",
   "metadata": {},
   "source": [
    "Mais alguns exemplos."
   ]
  },
  {
   "cell_type": "code",
   "execution_count": 9,
   "id": "200672ea",
   "metadata": {},
   "outputs": [
    {
     "name": "stdout",
     "output_type": "stream",
     "text": [
      "8.0\n",
      "2.0\n",
      "15.0\n",
      "1.6666666666666667\n"
     ]
    }
   ],
   "source": [
    "a = 5.0\n",
    "b = 3\n",
    "print(a + b)\n",
    "print(a - b)\n",
    "print(a * b)\n",
    "print(a / b)"
   ]
  },
  {
   "cell_type": "markdown",
   "id": "1e68f763",
   "metadata": {},
   "source": [
    "+ Neste caso, como uma das variáveis (``a``) é do tipo ``float``, o resultado será também ``float``."
   ]
  },
  {
   "cell_type": "markdown",
   "id": "18a234be",
   "metadata": {},
   "source": [
    "Além das operações básicas, podemos usar operações adicionais:\n",
    "+ **Exponenciação**: ``**`` (i.e. potenciação)\n",
    "+ **Parte inteira**: ``//`` (extrai a parte inteira da divisão de dois números inteiros)\n",
    "+ **Módulo**: ``%`` (extrai o resto da divisão inteira entre dois números inteiros)"
   ]
  },
  {
   "cell_type": "code",
   "execution_count": 10,
   "id": "1721e3ac",
   "metadata": {},
   "outputs": [
    {
     "name": "stdout",
     "output_type": "stream",
     "text": [
      "25\n",
      "16\n",
      "2.5\n",
      "2\n",
      "1\n",
      "2.0\n",
      "2\n",
      "0\n"
     ]
    }
   ],
   "source": [
    "a = 5\n",
    "b = 2\n",
    "c = 4\n",
    "\n",
    "print(a ** b)  # 5^2\n",
    "print(b ** c)  # 2^4\n",
    "\n",
    "print(a / b)   # 5/2 = 2.5\n",
    "print(a // b)  # Parte inteira: 2\n",
    "print(a % b)   # Resto: 1\n",
    "\n",
    "print(c / b)   # 4/2 = 2.0\n",
    "print(c // b)  # Parte inteira: 2\n",
    "print(c % b)   # Resto: 0"
   ]
  },
  {
   "cell_type": "markdown",
   "id": "9dfe7c88",
   "metadata": {},
   "source": [
    "Finalmente, podemos montar expressões matemáticas completas usando essas operações básicas.\n",
    "\n",
    "Exemplo: dado o valor atual de um produto de $4.00, calcular um aumento de 25\\% no seu valor."
   ]
  },
  {
   "cell_type": "code",
   "execution_count": 11,
   "id": "795adce4",
   "metadata": {},
   "outputs": [
    {
     "name": "stdout",
     "output_type": "stream",
     "text": [
      "5.0\n",
      "5.0\n"
     ]
    }
   ],
   "source": [
    "# Calculando e exibindo diretamente\n",
    "print(4 + (4 * 25 / 100))\n",
    "\n",
    "# Usando variáveis\n",
    "valor = 4\n",
    "percentual_aumento = 25\n",
    "valor_aumento = valor * percentual_aumento / 100\n",
    "novo_valor = valor + valor_aumento\n",
    "print(novo_valor)"
   ]
  },
  {
   "cell_type": "markdown",
   "id": "7222f538",
   "metadata": {},
   "source": [
    "Exemplo: dados os valores de $a$, $b$ e $c$, calcular o resultado da expressão abaixo.\n",
    "\n",
    "$$\\frac{a^b - 2a}{b - c}$$"
   ]
  },
  {
   "cell_type": "code",
   "execution_count": 12,
   "id": "82ed1326",
   "metadata": {},
   "outputs": [
    {
     "name": "stdout",
     "output_type": "stream",
     "text": [
      "2.0\n"
     ]
    }
   ],
   "source": [
    "a = 4\n",
    "b = 2\n",
    "c = -2\n",
    "\n",
    "resultado = (a ** b - 2 * a) / (b - c)\n",
    "print(resultado)"
   ]
  },
  {
   "cell_type": "markdown",
   "id": "2471cefc",
   "metadata": {},
   "source": [
    "**Importante**: nas operações aritméticas, a execução segue a mesma ordem de prioridade da matemática (i.e. exponenciação $\\rightarrow$ multiplicação/divisão $\\rightarrow$ adição/subtração); da mesma forma, operações com o mesmo nível de prioridade são executadas da esquerda para a direita. Para definir a ordem desejada, deve-se usar parêntesis."
   ]
  },
  {
   "cell_type": "markdown",
   "id": "b608b059",
   "metadata": {},
   "source": [
    "### 2.2 Operações relacionais\n",
    "\n",
    "São usadas para comparar dois valores. O resultado é sempre verdadeiro (``True``) quando a checagem é satisfeita, ou falso (``False``) quando a checagem não é satisfeita.\n",
    "\n",
    "Dados dois valores ``a`` e ``b``, temos as seguintes operações relacionais:\n",
    "+ ``a == b``: verifica se ``a`` é **igual** a ``b``;\n",
    "+ ``a != b``: verifica se ``a`` é **diferente** de ``b``;\n",
    "+ ``a > b``: verifica se ``a`` é **maior** que ``b``;\n",
    "+ ``a < b``: verifica se ``a`` é **menor** que ``b``;\n",
    "+ ``a >= b``: verifica se ``a`` é **maior ou igual** que ``b``;\n",
    "+ ``a <= b``: verifica se ``a`` é **menor ou igual** que ``b``;"
   ]
  },
  {
   "cell_type": "code",
   "execution_count": 13,
   "id": "a4aad067",
   "metadata": {},
   "outputs": [
    {
     "name": "stdout",
     "output_type": "stream",
     "text": [
      "False\n",
      "True\n",
      "False\n",
      "True\n",
      "False\n",
      "True\n"
     ]
    }
   ],
   "source": [
    "a = 5\n",
    "b = 8\n",
    "\n",
    "print(a == b)\n",
    "print(a != b)\n",
    "print(a > b)\n",
    "print(a < b)\n",
    "print(a >= b)\n",
    "print(a <= b)"
   ]
  },
  {
   "cell_type": "markdown",
   "id": "41e8dea6",
   "metadata": {},
   "source": [
    "Podemos usar essas operações com dados não numéricos (tome cuidado para não misturar dados de diferentes tipos, pois algumas operações não são suportadas, e.g. não há como determinar se o valor 5 é maior que o texto \"Ibirama\", mas podemos determinar se esses valores são iguais ou diferentes)."
   ]
  },
  {
   "cell_type": "code",
   "execution_count": 14,
   "id": "38978e15",
   "metadata": {},
   "outputs": [
    {
     "name": "stdout",
     "output_type": "stream",
     "text": [
      "False\n",
      "True\n",
      "False\n",
      "True\n",
      "False\n",
      "True\n"
     ]
    }
   ],
   "source": [
    "a = 'Ana'\n",
    "b = 'José'\n",
    "\n",
    "print(a == b)\n",
    "print(a != b)\n",
    "print(a > b)    # definido pela ordem alfabética\n",
    "print(a < b)    # definido pela ordem alfabética\n",
    "print(a >= b)   # definido pela ordem alfabética\n",
    "print(a <= b)   # definido pela ordem alfabética"
   ]
  },
  {
   "cell_type": "markdown",
   "id": "8aebb17c",
   "metadata": {},
   "source": [
    "Exemplo: dadas as idades de Maria e Pedro, informadas pelo usuário, determine se:\n",
    "+ Maria é mais velha que Pedro;\n",
    "+ Maria é mais jovem que Pedro;\n",
    "+ Maria e Pedro têm a mesma idade;\n",
    "+ Pedro é idoso (60 anos ou mais);\n",
    "+ Maria é menor de idade."
   ]
  },
  {
   "cell_type": "code",
   "execution_count": 15,
   "id": "5c7cf9c8",
   "metadata": {},
   "outputs": [
    {
     "name": "stdout",
     "output_type": "stream",
     "text": [
      "Idade da Maria: 15\n",
      "Idade do Pedro: 23\n",
      "Maria é mais velha que Pedro? False\n",
      "Maria é mais jovem que Pedro? True\n",
      "Eles têm a mesma idade? False\n",
      "Pedro é idoso? False\n",
      "Maria é menor de idade? True\n"
     ]
    }
   ],
   "source": [
    "idade_maria = int(input('Idade da Maria: '))\n",
    "idade_pedro = int(input('Idade do Pedro: '))\n",
    "\n",
    "print('Maria é mais velha que Pedro?', idade_maria > idade_pedro)\n",
    "print('Maria é mais jovem que Pedro?', idade_maria < idade_pedro)\n",
    "print('Eles têm a mesma idade?', idade_maria == idade_pedro)\n",
    "print('Pedro é idoso?', idade_pedro >= 60)\n",
    "print('Maria é menor de idade?', idade_maria < 18)"
   ]
  },
  {
   "cell_type": "markdown",
   "id": "f2fe568f",
   "metadata": {},
   "source": [
    "### 2.3 Operações lógicas"
   ]
  },
  {
   "cell_type": "markdown",
   "id": "17b079cd",
   "metadata": {},
   "source": [
    "Operações lógicas são aplicadas a valores ou variáveis booleanas, i.e. operam sobre valores *verdadeiro* ou *falso* (``True`` ou ``False``). As operações lógicas são:\n",
    "+ ``not`` (não): operador de negação\n",
    "+ ``and`` (e): operador de conjunção\n",
    "+ ``or`` (ou): operador de disjunção"
   ]
  },
  {
   "cell_type": "markdown",
   "id": "6a40df5f",
   "metadata": {},
   "source": [
    "O operador ``not`` (não) é apicado a um valor (ou variável) e retorna o oposto dela. Ou seja, se for verdadeiro, retorna falso, e se for falso, retorna verdadeiro."
   ]
  },
  {
   "cell_type": "code",
   "execution_count": 16,
   "id": "75553f1f",
   "metadata": {},
   "outputs": [
    {
     "name": "stdout",
     "output_type": "stream",
     "text": [
      "False\n",
      "True\n"
     ]
    }
   ],
   "source": [
    "a = True\n",
    "b = False\n",
    "\n",
    "print(not a)\n",
    "print(not b)"
   ]
  },
  {
   "cell_type": "markdown",
   "id": "24ec2306",
   "metadata": {},
   "source": [
    "O operador ``or`` (ou) é aplicado a dois valores (ou duas variáveis) e retorna verdadeiro se um deles for verdadeiro. Ou seja, é verdadeiro se um **OU** outro valor for verdadeiro."
   ]
  },
  {
   "cell_type": "code",
   "execution_count": 17,
   "id": "a081caf9",
   "metadata": {},
   "outputs": [
    {
     "name": "stdout",
     "output_type": "stream",
     "text": [
      "True\n",
      "True\n",
      "False\n"
     ]
    }
   ],
   "source": [
    "a = True\n",
    "b = True\n",
    "c = False\n",
    "d = False\n",
    "\n",
    "print(a or b)\n",
    "print(a or c)\n",
    "print(c or d)"
   ]
  },
  {
   "cell_type": "markdown",
   "id": "b33ef68a",
   "metadata": {},
   "source": [
    "O operador ``and`` (e) é aplicado a dois valores (ou duas variáveis) e retorna verdadeiro se ambos forem verdadeiro. Ou seja, é verdadeiro se um **E** outro valor forem verdadeiros."
   ]
  },
  {
   "cell_type": "code",
   "execution_count": 18,
   "id": "2a329042",
   "metadata": {},
   "outputs": [
    {
     "name": "stdout",
     "output_type": "stream",
     "text": [
      "True\n",
      "False\n",
      "False\n"
     ]
    }
   ],
   "source": [
    "a = True\n",
    "b = True\n",
    "c = False\n",
    "d = False\n",
    "\n",
    "print(a and b)\n",
    "print(a and c)\n",
    "print(c and d)"
   ]
  },
  {
   "cell_type": "markdown",
   "id": "86cbcbc2",
   "metadata": {},
   "source": [
    "#### 2.3.1 Tabelas verdade\n",
    "\n",
    "As tabelas a seguir resumem a aplicação dos operadores lógicos em todos os cenários possíveis.\n",
    "\n",
    "**Operador ``not``**\n",
    "\n",
    "| A | not A |\n",
    "|---|-------|\n",
    "| True | False |\n",
    "| False | True |\n",
    "\n",
    "**Operador ``or``**\n",
    "\n",
    "| A | B | A or B |\n",
    "|---|---|--------|\n",
    "| True | True | True |\n",
    "| True | False | True |\n",
    "| False | True | True |\n",
    "| False | False | False |\n",
    "\n",
    "**Operador ``and``**\n",
    "\n",
    "| A | B | A and B |\n",
    "|---|---|---------|\n",
    "| True | True | True |\n",
    "| True | False | False |\n",
    "| False | True | False |\n",
    "| False | False | False |"
   ]
  },
  {
   "cell_type": "markdown",
   "id": "2c0b4b7b",
   "metadata": {},
   "source": [
    "#### 2.3.2 Expressões lógicas\n",
    "\n",
    "Podemos combinar várias operações lógicas em expressões mais complexas, que verificam condições lógicas com diversos valores/variáveis. Da mesma forma que fazemos nas operações aritméticas, o uso de parêntesis define a prioridade de cada operação, i.e. a ordem em que elas serão executadas. Se a prioridade não é determinada pelo uso de parêntesis, então é usada a prioridade definida pelo Python: primeiro é executado o operador ``not``, seguido pelo operador ``and`` e, finalmente, é executado o operador ``or``.\n",
    "\n",
    "+ Dica: sempre use parêntesis para definir a ordem de prioridade desejada.\n",
    "\n",
    "Alguns exemplos de expressões lógicas:"
   ]
  },
  {
   "cell_type": "code",
   "execution_count": 19,
   "id": "9c205742",
   "metadata": {},
   "outputs": [
    {
     "name": "stdout",
     "output_type": "stream",
     "text": [
      "False\n",
      "False\n",
      "False\n",
      "True\n",
      "True\n"
     ]
    }
   ],
   "source": [
    "a = True\n",
    "b = True\n",
    "c = False\n",
    "d = False\n",
    "\n",
    "resultado = (a and c) or (b and d)\n",
    "print(resultado)\n",
    "\n",
    "resultado = (a or b) and (c or d)\n",
    "print(resultado)\n",
    "\n",
    "resultado = not a and b\n",
    "print(resultado)\n",
    "\n",
    "resultado = not (a and b) or (b or c or d)\n",
    "print(resultado)\n",
    "\n",
    "resultado = not (a and c or d)\n",
    "print(resultado)"
   ]
  },
  {
   "cell_type": "markdown",
   "id": "71586ace",
   "metadata": {},
   "source": [
    "As operações relacionais discutidas acima retornam verdadeiro ou falso. Por exemplo, ``6 > 2`` retorna verdadeiro (``True``), enquanto ``'abc' == 'abcd'`` retorna falso (``False``). Portanto, podemos usar operações relacionais combinadas com operações lógicas, criando expressões mais complexas. Vejamos alguns exemplos:"
   ]
  },
  {
   "cell_type": "code",
   "execution_count": 20,
   "id": "2393401b",
   "metadata": {},
   "outputs": [
    {
     "name": "stdout",
     "output_type": "stream",
     "text": [
      "False\n",
      "True\n",
      "False\n",
      "True\n",
      "True\n"
     ]
    }
   ],
   "source": [
    "salario = 5420.46\n",
    "idade = 26\n",
    "dedicacao_integral = False\n",
    "cidade = 'Ibirama'\n",
    "salario_referencia = 4800.00\n",
    "\n",
    "# O sujeito possui mais de 25 anos e recebe menos que o salário de referência?\n",
    "resultado = (idade > 25) and (salario < salario_referencia)\n",
    "print(resultado)\n",
    "\n",
    "# O sujeito é de Ibirama ou de Rio do Sul e é maior de idade?\n",
    "resultado = (cidade == 'Ibirama' or cidade == 'Rio do Sul') and (idade >= 18)\n",
    "print(resultado)\n",
    "\n",
    "# O sujeito é de Blumenau ou tem salário menor que 10 mil?\n",
    "resultado = (cidade == 'Blumenau')\n",
    "print(resultado)\n",
    "resultado = resultado or (salario < 10000)\n",
    "print(resultado) # Note que essa expressão foi executada em duas etapas\n",
    "\n",
    "# O sujeito não possui dedicação integral e seu salário é maior que o salário de referência?\n",
    "resultado = (not dedicacao_integral) and (salario > salario_referencia)\n",
    "print(resultado)"
   ]
  },
  {
   "cell_type": "markdown",
   "id": "457bf500",
   "metadata": {},
   "source": [
    "### 2.4 Operações com strings"
   ]
  },
  {
   "cell_type": "markdown",
   "id": "7b32d943",
   "metadata": {},
   "source": [
    "Importante: uma string é formada por uma *sequência de caracteres*.\n",
    "\n",
    "**Tamanho**: para verificar o tamanho de uma string (número de caracteres) usamos o comando ``len``."
   ]
  },
  {
   "cell_type": "code",
   "execution_count": 21,
   "id": "d106d39b",
   "metadata": {},
   "outputs": [
    {
     "name": "stdout",
     "output_type": "stream",
     "text": [
      "3\n",
      "0\n",
      "24\n"
     ]
    }
   ],
   "source": [
    "print(len('abc'))\n",
    "print(len(''))\n",
    "print(len('Um texto um pouco maior!'))"
   ]
  },
  {
   "cell_type": "markdown",
   "id": "f60129b2",
   "metadata": {},
   "source": [
    "Podemos acessar caracteres específicos de strings usando colchetes logo após o nome da variável e informando a posição que se deseja acessar. As posições são definidas de ``0`` a ``len(var) - 1``.\n",
    "\n",
    "+ Atenção: não podemos acessar uma posição fora do intervalo definido pela string."
   ]
  },
  {
   "cell_type": "code",
   "execution_count": 22,
   "id": "2dda7e79",
   "metadata": {},
   "outputs": [
    {
     "name": "stdout",
     "output_type": "stream",
     "text": [
      "M\n",
      "i\n",
      "n\n",
      "[...]\n",
      "g\n",
      "!\n"
     ]
    }
   ],
   "source": [
    "s = 'Minha string!'\n",
    "print(s[0])\n",
    "print(s[1])\n",
    "print(s[2])\n",
    "print('[...]')\n",
    "print(s[len(s)-2])\n",
    "print(s[len(s)-1])"
   ]
  },
  {
   "cell_type": "markdown",
   "id": "9de042d6",
   "metadata": {},
   "source": [
    "**Concatenação**: consiste em juntar duas ou mais strings para formar uma string maior. Para isso, usamos o operador ``+`` (similar à operação de adição, mas agora usando duas strings como operandos)."
   ]
  },
  {
   "cell_type": "code",
   "execution_count": 23,
   "id": "138ab8ee",
   "metadata": {},
   "outputs": [
    {
     "name": "stdout",
     "output_type": "stream",
     "text": [
      "Uma stringOutra string\n",
      "Uma string Outra string\n",
      "Nome: João, idade: 88\n"
     ]
    }
   ],
   "source": [
    "s1 = 'Uma string'\n",
    "s2 = 'Outra string'\n",
    "print(s1 + s2)\n",
    "print(s1 + ' ' + s2)\n",
    "\n",
    "# Para concatenar valores (ou variáveis) numéricos com strings, eles precisam primeiro ser convertidos para string\n",
    "nome = 'João'\n",
    "idade = 88\n",
    "texto = 'Nome: ' + nome + ', idade: ' + str(idade)\n",
    "print(texto)"
   ]
  },
  {
   "cell_type": "markdown",
   "id": "898df1eb",
   "metadata": {},
   "source": [
    "**Concatenação com multiplicação**: também podemos usar o operador ``*`` (similar à operação de multiplicação, mas agora usando uma string e um inteiro como operandos) para concatenar uma string consigo mesma várias vezes."
   ]
  },
  {
   "cell_type": "code",
   "execution_count": 24,
   "id": "db1b4cfe",
   "metadata": {},
   "outputs": [
    {
     "name": "stdout",
     "output_type": "stream",
     "text": [
      "ABCABCABCABCABC\n",
      "ABC---------ABC\n"
     ]
    }
   ],
   "source": [
    "padrao = 'ABC'\n",
    "repetido = padrao * 5\n",
    "print(repetido)\n",
    "\n",
    "separador = '-'\n",
    "print(padrao + separador * 9 + padrao)"
   ]
  },
  {
   "cell_type": "markdown",
   "id": "569db0c2",
   "metadata": {},
   "source": [
    "**Fatiamento**: consiste em acessar partes de uma string. Para isso, usamos índices (similar ao acesso a caracteres específicos da string), mas neste caso definimos o intervalo de índices a ser acessado.\n",
    "\n",
    "O comando ``s[i:j]`` acessa a fatia da string ``s`` compreendendo os caracteres de ``i`` até ``j-1``."
   ]
  },
  {
   "cell_type": "code",
   "execution_count": 25,
   "id": "4a552028",
   "metadata": {},
   "outputs": [
    {
     "name": "stdout",
     "output_type": "stream",
     "text": [
      "Ib\n",
      "iram\n"
     ]
    }
   ],
   "source": [
    "s = 'Ibirama'\n",
    "print(s[0:2])\n",
    "print(s[2:6])"
   ]
  },
  {
   "cell_type": "markdown",
   "id": "fd8f0699",
   "metadata": {},
   "source": [
    "Podemos omitir o primeiro índice, ``s[:j]``, fatiando a string desde seu início até o índice ``j-1``. Da mesma forma, ao omitir o segundo índice, ``s[i:]``, fatiamos a string desde o índice ``i`` até o final."
   ]
  },
  {
   "cell_type": "code",
   "execution_count": 26,
   "id": "37168e8f",
   "metadata": {},
   "outputs": [
    {
     "name": "stdout",
     "output_type": "stream",
     "text": [
      "Programa\n",
      "amar é legal!\n"
     ]
    }
   ],
   "source": [
    "s = 'Programar é legal!'\n",
    "print(s[:8])\n",
    "print(s[5:])"
   ]
  },
  {
   "cell_type": "markdown",
   "id": "dd8b1b57",
   "metadata": {},
   "source": [
    "Ao usar índices negativos, indicamos posições a partir da direita (i.e. do final da string). A posição -1 é o último caractere, -2 é o penúltimo, etc."
   ]
  },
  {
   "cell_type": "code",
   "execution_count": 27,
   "id": "fc007903",
   "metadata": {},
   "outputs": [
    {
     "name": "stdout",
     "output_type": "stream",
     "text": [
      "Palmeir\n",
      "s\n",
      "ras\n",
      "meir\n"
     ]
    }
   ],
   "source": [
    "s = 'Palmeiras'\n",
    "print(s[0:-2]) # Removendo os dois últimos caracteres\n",
    "print(s[-1:])  # Fatiando do último caractere até o final da string\n",
    "print(s[-3:])  # Mesma operação com os três últimos caracteres\n",
    "print(s[-6:7])"
   ]
  },
  {
   "cell_type": "markdown",
   "id": "1ba07182",
   "metadata": {},
   "source": [
    "**Composição**: consiste em criar um modelo através de uma string, no qual inserimos dados para compor a string final que será apresentada em tela ou armazenada.\n",
    "+ A composição substitui a concatenação de strings e é útil em muitos casos, como para apresentar dados em tela.\n",
    "\n",
    "Primeiro, definimos a string modelo, usando o símbolo ``%`` para indicar posições que serã completadas com dados. Após o símbolo ``%`` devemos indicar o tipo de dado que será inserido, usando um dos seguintes caracteres de idenficiação:\n",
    "+ ``%d``: inteiro\n",
    "+ ``%s``: string\n",
    "+ ``%f``: float\n",
    "\n",
    "Finalmente, usamos mais um caractere ``%`` para separar a string modelo dos dados para preenchimento, os quais são informados (quando mais que um) entre parêntesis e separados por vírgula."
   ]
  },
  {
   "cell_type": "code",
   "execution_count": 28,
   "id": "1452d151",
   "metadata": {},
   "outputs": [
    {
     "name": "stdout",
     "output_type": "stream",
     "text": [
      "Seu nome é Maria. Ela tem 31 anos de idade e seu salário é de R$ 8237.610000\n",
      "A multiplicação de 8.500000 por 9.000000 é 76.500000!\n"
     ]
    }
   ],
   "source": [
    "nome = 'Maria'\n",
    "idade = 31\n",
    "salario = 8237.61\n",
    "\n",
    "s = 'Seu nome é %s. Ela tem %d anos de idade e seu salário é de R$ %f' % (nome, idade, salario)\n",
    "print(s)\n",
    "\n",
    "a = 8.5\n",
    "b = 9\n",
    "print('A multiplicação de %f por %f é %f!' % (a, b, a * b))"
   ]
  },
  {
   "cell_type": "markdown",
   "id": "92f57f92",
   "metadata": {},
   "source": [
    "Podemos definir configurações para a forma de apresentação dos dados inserindo comandos entre o caractere ``%`` e o caractere de definição do tipo (``d``, ``s`` ou ``f``).\n",
    "\n",
    "Exemplos:\n",
    "+ ``%03d`` define que o número ocupe 3 dígitos e adicione zeros à esquerda, quando necessário;\n",
    "+ ``%3d`` é similar ao anterior, mas sem adicionar os zeros;\n",
    "+ ``%5.2f`` define que o float vai ocupar 5 posições, sendo duas delas para a parte decimal."
   ]
  },
  {
   "cell_type": "code",
   "execution_count": 29,
   "id": "a77d8a38",
   "metadata": {},
   "outputs": [
    {
     "name": "stdout",
     "output_type": "stream",
     "text": [
      "[12]\n",
      "[012]\n",
      "[ 12]\n",
      "[12 ]\n",
      "7.300000\n",
      "[ 7.30]\n",
      "[7.300     ]\n",
      "[R$ 7.30]\n"
     ]
    }
   ],
   "source": [
    "numero = 12\n",
    "valor = 7.3\n",
    "\n",
    "print('[%d]' % numero)\n",
    "print('[%03d]' % numero)\n",
    "print('[%3d]' % numero)\n",
    "print('[%-3d]' % numero) # Usando o símbolo - inserimos o espaço à direita do número\n",
    "\n",
    "print('%f' % valor)\n",
    "print('[%5.2f]' % valor)\n",
    "print('[%-10.3f]' % valor)\n",
    "print('[R$ %.2f]' % valor)"
   ]
  }
 ],
 "metadata": {
  "kernelspec": {
   "display_name": "Python 3 (ipykernel)",
   "language": "python",
   "name": "python3"
  },
  "language_info": {
   "codemirror_mode": {
    "name": "ipython",
    "version": 3
   },
   "file_extension": ".py",
   "mimetype": "text/x-python",
   "name": "python",
   "nbconvert_exporter": "python",
   "pygments_lexer": "ipython3",
   "version": "3.8.10"
  }
 },
 "nbformat": 4,
 "nbformat_minor": 5
}
