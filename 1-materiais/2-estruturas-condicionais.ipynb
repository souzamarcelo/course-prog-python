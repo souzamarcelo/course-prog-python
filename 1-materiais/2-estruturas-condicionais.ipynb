{
 "cells": [
  {
   "cell_type": "markdown",
   "id": "461e41e3",
   "metadata": {},
   "source": [
    "<div align=\"right\" style=\"text-align:right\"><a rel=\"license\" href=\"http://creativecommons.org/licenses/by-nc-nd/4.0/\"><img alt=\"Licença Creative Commons\" style=\"border-width:0; float:right\" src=\"https://i.creativecommons.org/l/by-nc-nd/4.0/88x31.png\" /></a><br><br><i>Prof. Marcelo de Souza</i><br>marcelo.desouza@udesc.br</div>"
   ]
  },
  {
   "cell_type": "markdown",
   "id": "3c383b49",
   "metadata": {},
   "source": [
    "# Estruturas condicionais\n",
    "\n",
    "Muitas vezes, alguns comandos precisam ser executados **somente** sob certas condições. Nesses casos, usamos estruturas condicionais para definir blocos de código que são executados somente quando essas condições forem satisfeitas. Abaixo estão alguns exemplos:\n",
    "+ Contar o número de pessoas maiores de idade em um grupo (a pessoa é contada somente se idade $\\ge$ 18);\n",
    "+ Calcular uma bonificação para funcionários com salário inferior a 2500,00;\n",
    "+ Habilitar funcionalidades do sistema distintas para usuários dos tipos gerente e vendedor.\n",
    "\n",
    "Este notebook detalha o funcionamento de estruturas condicionais, os comandos correspondentes em Python e alguns exemplos."
   ]
  },
  {
   "cell_type": "markdown",
   "id": "36691539",
   "metadata": {},
   "source": [
    "## 1. Estrutura ``if``\n",
    "\n",
    "O formato da estrutura ``if`` é\n",
    "\n",
    "```\n",
    "if <condição>:\n",
    "    bloco de código executado se <condição> for verdadeiro\n",
    "```\n",
    "\n",
    "Em português, podemos ler \"se condição for verdadeira, então execute o bloco de código correspondente\"."
   ]
  },
  {
   "cell_type": "markdown",
   "id": "a700d734",
   "metadata": {},
   "source": [
    "A estrutura ``if`` em Python:"
   ]
  },
  {
   "cell_type": "code",
   "execution_count": 1,
   "id": "8207f0b9",
   "metadata": {},
   "outputs": [
    {
     "name": "stdout",
     "output_type": "stream",
     "text": [
      "a é maior que b\n"
     ]
    }
   ],
   "source": [
    "a = 10\n",
    "b = 8\n",
    "\n",
    "if a > b:\n",
    "    print('a é maior que b')\n",
    "if b > a:\n",
    "    print('b é maior que a')"
   ]
  },
  {
   "cell_type": "markdown",
   "id": "cb48ad18",
   "metadata": {},
   "source": [
    "Note que os comandos que serão executados no código acima dependem dos valores das variáveis ``a`` e ``b`` (i.e. da satisfação das condições ``a > b`` e ``b > a``). Ou seja, a execução muda em função dos dados.\n",
    "\n",
    "**Importante**: no comando ``if <condição>:`` usamos o símbolo dois pontos (``:``) para indicar o início do bloco de código vinculado ao comando. O bloco é representado deslocando o início da linha para a direita (um ``tab``; chamamos de indentação). Ou seja, todos os comandos indentados (deslocados) fazem parte do bloco de código associado ao comando ``if <condição>:``. O primeiro comando não indentado indica o fim do bloco de código."
   ]
  },
  {
   "cell_type": "markdown",
   "id": "ada2daa1",
   "metadata": {},
   "source": [
    "Alguns exemplos:"
   ]
  },
  {
   "cell_type": "code",
   "execution_count": 3,
   "id": "37dcfe27",
   "metadata": {},
   "outputs": [
    {
     "name": "stdout",
     "output_type": "stream",
     "text": [
      "a é menor que b\n",
      "o produto de a com b é superior a 30\n",
      "temos Ibirama ou b igual a 20\n",
      "temos b menos a menor que 2 ou b vezes a maior que 20\n"
     ]
    }
   ],
   "source": [
    "a = 5\n",
    "b = 10\n",
    "c = 'Ibirama'\n",
    "\n",
    "if a == 7:\n",
    "    print('a é igual a 7')\n",
    "    \n",
    "if a < b:\n",
    "    print('a é menor que b')\n",
    "    \n",
    "if a * b > 30:\n",
    "    print('o produto de a com b é superior a 30')\n",
    "    \n",
    "if c == 'Ibirama' and a == b:\n",
    "    print('temos Ibirama e a igual que b')\n",
    "    \n",
    "if c == 'Ibirama' or b == 20:\n",
    "    print('temos Ibirama ou b igual a 20')\n",
    "\n",
    "if (b - a < 2) or (b * a > 20):\n",
    "    print('temos b menos a menor que 2 ou b vezes a maior que 20')\n",
    "\n",
    "if (a > b) and (c == 'Ibirama') and (a == c):\n",
    "    print('temos que a é maior que b, c é Ibirama e a é igual a c')"
   ]
  },
  {
   "cell_type": "markdown",
   "id": "ceb1af3d",
   "metadata": {},
   "source": [
    "**Exercício**: calcule o valor de mercado de um jogador de futebol em função do seu valor de base e do número de gols feitos na última temporada. Seu valor de mercado é o valor de base + 100 mil para cada gol. Caso ele tenha feito mais de 20 gols, o valor cresce 20%. E ainda, caso ele 30 anos de idade ou mais, seu valor de mercado cai 25%."
   ]
  },
  {
   "cell_type": "code",
   "execution_count": 10,
   "id": "f8c7c7e2",
   "metadata": {},
   "outputs": [
    {
     "name": "stdout",
     "output_type": "stream",
     "text": [
      "O valor final de mercado é de $ 12375000.00.\n"
     ]
    }
   ],
   "source": [
    "valor_base = 15000000.00\n",
    "gols = 15\n",
    "idade = 32\n",
    "\n",
    "valor_mercado = valor_base + (100000 * gols)                # Somamos 100 mil para cada gol\n",
    "\n",
    "if gols > 20:                                               # Verificamos se ele fez mais de 20 gols\n",
    "    valor_mercado = valor_mercado + (valor_mercado * 0.2)   # caso tenha feito, aumentamos 20% o valor\n",
    "    \n",
    "if idade >= 30:                                             # Verificamos se ele tem 30 anos ou mais\n",
    "    desconto = valor_mercado * 0.25                         # se sim, diminuimos 25% do valor\n",
    "    valor_mercado = valor_mercado - desconto\n",
    "    \n",
    "print('O valor final de mercado é de $ %.2f.' % valor_mercado)"
   ]
  },
  {
   "cell_type": "markdown",
   "id": "3938e704",
   "metadata": {},
   "source": [
    "***\n",
    "\n",
    "## 2. Estrutura ``else``"
   ]
  },
  {
   "cell_type": "markdown",
   "id": "18514012",
   "metadata": {},
   "source": [
    "A estrutura ``if`` define um bloco de código que será executado quando a condição for **satisfeita**. Podemos usar a estrutura ``else`` juntamente com o ``if`` para indicar um bloco de código que será executado quando a condição **não for satisfeita**. Dessa forma, definimos os códigos que serão executados para ambas as situações: da condição satisfeita e da condição não satisfeita. O formato da estrutura ``if`` + ``else`` é\n",
    "\n",
    "```\n",
    "if <condição>:\n",
    "    bloco de código para o caso de satisfação da condição\n",
    "else:\n",
    "    bloco de código para o caso de não satisfação da condição\n",
    "```\n",
    "\n",
    "Em português, podemos ler \"se condição for verdadeira, então execute o bloco de código correspondente; **senão**, execute o bloco de código alternativo\"."
   ]
  },
  {
   "cell_type": "markdown",
   "id": "f0713153",
   "metadata": {},
   "source": [
    "A estrutura ``else`` em Python:"
   ]
  },
  {
   "cell_type": "code",
   "execution_count": 11,
   "id": "5182340f",
   "metadata": {},
   "outputs": [
    {
     "name": "stdout",
     "output_type": "stream",
     "text": [
      "a é maior que b\n"
     ]
    }
   ],
   "source": [
    "a = 10\n",
    "b = 8\n",
    "\n",
    "if a > b:\n",
    "    print('a é maior que b')\n",
    "else:\n",
    "    print('b é maior ou igual que a')"
   ]
  },
  {
   "cell_type": "markdown",
   "id": "b088845e",
   "metadata": {},
   "source": [
    "Alguns exemplos:"
   ]
  },
  {
   "cell_type": "code",
   "execution_count": 14,
   "id": "eec865e9",
   "metadata": {},
   "outputs": [
    {
     "name": "stdout",
     "output_type": "stream",
     "text": [
      "NÃO É VERDADE QUE a é igual a 7\n",
      "a é menor que b\n",
      "o produto de a com b é superior a 30\n",
      "NÃO É VERDADE QUE temos Ibirama e a igual que b\n",
      "temos Ibirama ou b igual a 20\n",
      "temos b menos a menor que 2 ou b vezes a maior que 20\n",
      "NÃO É VERDADE QUE temos que a é maior que b, c é Ibirama e a é igual a c\n"
     ]
    }
   ],
   "source": [
    "a = 5\n",
    "b = 10\n",
    "c = 'Ibirama'\n",
    "\n",
    "if a == 7:\n",
    "    print('a é igual a 7')\n",
    "else:\n",
    "    print('NÃO É VERDADE QUE a é igual a 7')\n",
    "    \n",
    "if a < b:\n",
    "    print('a é menor que b')\n",
    "else:\n",
    "    print('NÃO É VERDADE QUE a é menor que b')\n",
    "    \n",
    "if a * b > 30:\n",
    "    print('o produto de a com b é superior a 30')\n",
    "else:\n",
    "    print('NÃO É VERDADE QUE o produto de a com b é superior a 30')\n",
    "    \n",
    "if c == 'Ibirama' and a == b:\n",
    "    print('temos Ibirama e a igual que b')\n",
    "else:\n",
    "    print('NÃO É VERDADE QUE temos Ibirama e a igual que b')\n",
    "    \n",
    "if c == 'Ibirama' or b == 20:\n",
    "    print('temos Ibirama ou b igual a 20')\n",
    "else:\n",
    "    print('NÃO É VERDADE QUE temos Ibirama ou b igual a 20')\n",
    "\n",
    "if (b - a < 2) or (b * a > 20):\n",
    "    print('temos b menos a menor que 2 ou b vezes a maior que 20')\n",
    "else:\n",
    "    print('NÃO É VERDADE QUE temos b menos a menor que 2 ou b vezes a maior que 20')\n",
    "\n",
    "if (a > b) and (c == 'Ibirama') and (a == c):\n",
    "    print('temos que a é maior que b, c é Ibirama e a é igual a c')\n",
    "else:\n",
    "    print('NÃO É VERDADE QUE temos que a é maior que b, c é Ibirama e a é igual a c')"
   ]
  },
  {
   "cell_type": "markdown",
   "id": "81f65353",
   "metadata": {},
   "source": [
    "**Exercício**: dado o ano de fabricação de um veículo, seu valor de compra, sua quilometragem e a informação se ele já saiu de linha, determine seu valor atual considerando sua depreciação conforme as regras a seguir. Para cada ano, o veículo deprecia 2% do seu valor de compra. Caso a quilometragem seja superior a 50000, a depreciação é de 3,5% do seu valor de compra (por ano). Do seu valor atual (ou seja, o valor de compra descontada a depreciação por tempo), ainda é descontado 3% para determinação da depreciação total. Caso o veículo tenha saído de linha (não é mais fabricado), esse percentual sobe para 6%."
   ]
  },
  {
   "cell_type": "code",
   "execution_count": 15,
   "id": "2c31ea09",
   "metadata": {},
   "outputs": [
    {
     "name": "stdout",
     "output_type": "stream",
     "text": [
      "O valor atual do veículo é $66736.00.\n",
      "Ou seja, sua depreciação foi de 13264.00.\n"
     ]
    }
   ],
   "source": [
    "ano_fabricacao = 2018\n",
    "ano_atual = 2022\n",
    "valor_compra = 80000.00\n",
    "saiu_linha = False\n",
    "quilometragem = 65000\n",
    "\n",
    "if quilometragem <= 50000:\n",
    "    depreciacao = (valor_compra * 0.02) * (ano_atual - ano_fabricacao)\n",
    "else:\n",
    "    depreciacao = (valor_compra * 0.035) * (ano_atual - ano_fabricacao)\n",
    "\n",
    "valor_atual = valor_compra - depreciacao    \n",
    "\n",
    "if not saiu_linha:\n",
    "    valor_atual = valor_atual - (valor_atual * 0.03)\n",
    "else:\n",
    "    valor_atual = valor_atual - (valor_atual * 0.06)\n",
    "    \n",
    "print('O valor atual do veículo é $%.2f.\\nOu seja, sua depreciação foi de %.2f.' % (valor_atual, valor_compra - valor_atual))"
   ]
  },
  {
   "cell_type": "markdown",
   "id": "bfed80e7",
   "metadata": {},
   "source": [
    "***\n",
    "\n",
    "## 3. Estruturas aninhadas"
   ]
  },
  {
   "cell_type": "markdown",
   "id": "14cfa209",
   "metadata": {},
   "source": [
    "Dentro de uma estrutura de decisão (ou seja, nos blocos de código associados aos comandos ``if`` e ``else``), podemos definir estruturas de decisão internas. Essa flexibilidade é muito útil para resolver situações mais complexas, em que várias verificações são necessárias e separá-las em estruturas distintas torna o código mais claro e facilita sua manutenção.\n",
    "\n",
    "Estruturas aninhadas consistem, portanto, no uso de estruturas condicionais dentro de outras. Em outras palavras, significa usar um ``if`` (ou mais) dentro de outro."
   ]
  },
  {
   "cell_type": "code",
   "execution_count": 17,
   "id": "9246cfef",
   "metadata": {},
   "outputs": [
    {
     "name": "stdout",
     "output_type": "stream",
     "text": [
      "c é Ibirama e a é diferente de b\n"
     ]
    }
   ],
   "source": [
    "a = 5\n",
    "b = 10\n",
    "c = 'Ibirama'\n",
    "\n",
    "if c == 'Ibirama':\n",
    "    if a == b:\n",
    "        print('c é Ibirama e a é igual a b')\n",
    "    else:\n",
    "        print('c é Ibirama e a é diferente de b')\n",
    "else:\n",
    "    if a == b:\n",
    "        print('c não é Ibirama e a é igual a b')\n",
    "    else:\n",
    "        print('c não é Ibirama e a é diferente de b')"
   ]
  },
  {
   "cell_type": "markdown",
   "id": "fcc72246",
   "metadata": {},
   "source": [
    "**Exercício**: calcule a conta de telefone conforme os planos disponíveis. Caso o uso de minutos seja inferior a 200, a empresa cobra 0,20 por minuto. Entre 200 e 400 minutos, o preço é de 0,18 por minuto. Acima de 400 minutos, o preço por minuto é 0,15."
   ]
  },
  {
   "cell_type": "code",
   "execution_count": 19,
   "id": "3ebcedbc",
   "metadata": {},
   "outputs": [
    {
     "name": "stdout",
     "output_type": "stream",
     "text": [
      "O valor da conta é $57.60.\n"
     ]
    }
   ],
   "source": [
    "minutos = 320\n",
    "\n",
    "if minutos < 200:\n",
    "    taxa = 0.2\n",
    "else:\n",
    "    if minutos < 400:\n",
    "        taxa = 0.18\n",
    "    else:\n",
    "        taxa = 0.15\n",
    "\n",
    "valor = minutos * taxa\n",
    "print('O valor da conta é $%.2f.' % valor)"
   ]
  },
  {
   "cell_type": "markdown",
   "id": "25f9df03",
   "metadata": {},
   "source": [
    "***\n",
    "\n",
    "## 4. Estrutura ``elif``"
   ]
  },
  {
   "cell_type": "code",
   "execution_count": null,
   "id": "865f4e05",
   "metadata": {},
   "outputs": [],
   "source": []
  },
  {
   "cell_type": "markdown",
   "id": "a3be50ba",
   "metadata": {},
   "source": [
    "***\n",
    "\n",
    "A partir da versão 3.10, o Python disponibiliza a estrutura de decisão ``match``. Pesquise sobre essa estrutura e seu funcionamento!"
   ]
  }
 ],
 "metadata": {
  "kernelspec": {
   "display_name": "Python 3 (ipykernel)",
   "language": "python",
   "name": "python3"
  },
  "language_info": {
   "codemirror_mode": {
    "name": "ipython",
    "version": 3
   },
   "file_extension": ".py",
   "mimetype": "text/x-python",
   "name": "python",
   "nbconvert_exporter": "python",
   "pygments_lexer": "ipython3",
   "version": "3.8.10"
  }
 },
 "nbformat": 4,
 "nbformat_minor": 5
}
