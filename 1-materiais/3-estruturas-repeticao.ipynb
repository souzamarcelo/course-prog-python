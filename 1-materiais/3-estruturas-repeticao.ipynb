{
 "cells": [
  {
   "cell_type": "markdown",
   "id": "461e41e3",
   "metadata": {},
   "source": [
    "<div align=\"right\" style=\"text-align:right\"><a rel=\"license\" href=\"http://creativecommons.org/licenses/by-nc-nd/4.0/\"><img alt=\"Licença Creative Commons\" style=\"border-width:0; float:right\" src=\"https://i.creativecommons.org/l/by-nc-nd/4.0/88x31.png\" /></a><br><br><i>Prof. Marcelo de Souza</i><br>marcelo.desouza@udesc.br</div>"
   ]
  },
  {
   "cell_type": "markdown",
   "id": "3c383b49",
   "metadata": {},
   "source": [
    "# Estruturas de repetição\n",
    "\n",
    "(também chamadas de laços de repetição)\n",
    "\n",
    "Estruturas de repetição são usadas para executar blocos de código várias vezes. Em alguns casos, queremos repetir a execução de comandos por um **número predeterminado de vezes**. Em outros casos, a repetição está relacionada à **satisfação de uma ou mais condições**.\n",
    "\n",
    "---"
   ]
  },
  {
   "cell_type": "markdown",
   "id": "36691539",
   "metadata": {},
   "source": [
    "## 1. Estrutura ``for``\n",
    "\n",
    "O ``for`` é uma estrutura usada para repetir um bloco de código por um número predeterminado de vezes.\n",
    "\n",
    "Estrutura básica do ``for``:\n",
    "\n",
    "```\n",
    "for <variável> in range(<valor inicial>, <valor de parada>, <passo>):\n",
    "    <bloco de código>\n",
    "```"
   ]
  },
  {
   "cell_type": "markdown",
   "id": "helpful-gravity",
   "metadata": {},
   "source": [
    "Comecemos por um exemplo: queremos imprimir todos os números de 1 a 10. Podemos fazer isso repetindo o comando ``print`` para cada número:"
   ]
  },
  {
   "cell_type": "code",
   "execution_count": 55,
   "id": "8207f0b9",
   "metadata": {},
   "outputs": [
    {
     "name": "stdout",
     "output_type": "stream",
     "text": [
      "1\n",
      "2\n",
      "3\n",
      "4\n",
      "5\n",
      "6\n",
      "7\n",
      "8\n",
      "9\n",
      "10\n"
     ]
    }
   ],
   "source": [
    "print(1)\n",
    "print(2)\n",
    "print(3)\n",
    "print(4)\n",
    "print(5)\n",
    "print(6)\n",
    "print(7)\n",
    "print(8)\n",
    "print(9)\n",
    "print(10)"
   ]
  },
  {
   "cell_type": "markdown",
   "id": "cb48ad18",
   "metadata": {},
   "source": [
    "Apesar de funcionar, a solução não é muito prática. Se quisermos imprimir números de 0 a 1000, o código ficará bastante extenso e a tarefa de escrevê-lo será tediosa. Para resolver esse impasse, podemos usar a estrutura ``for`` da seguinte maneira:"
   ]
  },
  {
   "cell_type": "code",
   "execution_count": 57,
   "id": "indonesian-essay",
   "metadata": {},
   "outputs": [
    {
     "name": "stdout",
     "output_type": "stream",
     "text": [
      "1\n",
      "2\n",
      "3\n",
      "4\n",
      "5\n",
      "6\n",
      "7\n",
      "8\n",
      "9\n",
      "10\n"
     ]
    }
   ],
   "source": [
    "for i in range(1, 11, 1):\n",
    "    print(i)"
   ]
  },
  {
   "cell_type": "markdown",
   "id": "focused-james",
   "metadata": {},
   "source": [
    "Essa estrutura repete o bloco de código associado (neste caso, o comando ``print``) 10 vezes.\n",
    "\n",
    "Para isso, definimos uma variável (neste caso ``i``) que assume o valor inicial 1 (primeiro valor do comando ``range``) e, repetidamente, aumenta seu valor de 1 em 1 (terceiro valor do comando ``range``). Quando ``i`` assumir o valor 11 (segundo valor do comando ``range``), o laço de repetição termina.\n",
    "\n",
    "Em resumo, cada repetição é chamada de iteração. A cada iteração, a variável ``i`` assume um dos valores do intervalo 1 a 11, terminando a execução nesse último valor."
   ]
  },
  {
   "cell_type": "markdown",
   "id": "bronze-bread",
   "metadata": {},
   "source": [
    "**Exemplo 1:** escreva um programa que solicite as 4 notas de um estudante e apresente a média (aritmética) obtida. Caso a média seja superior ou igual a 6,0, informe que o aluno está aprovado. Caso contrário, informe que o aluno está reprovado."
   ]
  },
  {
   "cell_type": "code",
   "execution_count": 86,
   "id": "lucky-arrest",
   "metadata": {},
   "outputs": [
    {
     "name": "stdout",
     "output_type": "stream",
     "text": [
      "Informe a nota 1: 7\n",
      "Informe a nota 2: 6\n",
      "Informe a nota 3: 5\n",
      "Informe a nota 4: 5\n",
      "\n",
      "A média final é 5.8.\n",
      "O aluno está reprovado.\n"
     ]
    }
   ],
   "source": [
    "media = 0\n",
    "for i in range(1, 5, 1):\n",
    "    media = media + float(input('Informe a nota %d: ' % i))\n",
    "\n",
    "media = media / 4\n",
    "print('\\nA média final é %.1f.' % media)\n",
    "\n",
    "if media >= 6:\n",
    "    print('O aluno está aprovado.')\n",
    "else:\n",
    "    print('O aluno está reprovado.')"
   ]
  },
  {
   "cell_type": "markdown",
   "id": "otherwise-worst",
   "metadata": {},
   "source": [
    "**Exemplo 2:** escreva um programa que calcule o valor da expressão abaixo para um determinado valor de $n$.\n",
    "\n",
    "$$\n",
    "\\sum_{i = 1}^n 1/i\n",
    "$$"
   ]
  },
  {
   "cell_type": "code",
   "execution_count": 96,
   "id": "smoking-trick",
   "metadata": {},
   "outputs": [
    {
     "name": "stdout",
     "output_type": "stream",
     "text": [
      "6.436576710542007\n"
     ]
    }
   ],
   "source": [
    "n = 350\n",
    "\n",
    "somatorio = 0\n",
    "for i in range(1, n + 1, 1):\n",
    "    somatorio = somatorio + (1 / i)\n",
    "\n",
    "print(somatorio)"
   ]
  },
  {
   "cell_type": "markdown",
   "id": "continuous-liabilities",
   "metadata": {},
   "source": [
    "### Outras formas de usar o comando ``range``\n",
    "\n",
    "Podemos omitir o valor inicial e o passo (primeiro valor e terceiro valor do comando ``range``, respectivamente). Neste caso, o Python assume que o valor inicial é 0 e o passo é 1. Com isso, só informamos a quantidade de repetições desejada.\n",
    "\n",
    "Exemplo: se quisermos imprimir a string ``'Processando...'`` 5 vezes em tela, usamos a estrutura ``for`` para 5 repetições (de 0 a 4) com passo 1.\n",
    "+ Note também que não usamos o valor de ``i`` no bloco de código repetido."
   ]
  },
  {
   "cell_type": "code",
   "execution_count": 58,
   "id": "attempted-score",
   "metadata": {},
   "outputs": [
    {
     "name": "stdout",
     "output_type": "stream",
     "text": [
      "Processando...\n",
      "Processando...\n",
      "Processando...\n",
      "Processando...\n",
      "Processando...\n"
     ]
    }
   ],
   "source": [
    "for i in range(5):\n",
    "    print('Processando...')"
   ]
  },
  {
   "cell_type": "markdown",
   "id": "sexual-defeat",
   "metadata": {},
   "source": [
    "A exemplo da impressão de números, podemos usar seu valor no bloco de código interno à estrutura de repetição. Um exemplo seria:"
   ]
  },
  {
   "cell_type": "code",
   "execution_count": 61,
   "id": "elect-terry",
   "metadata": {
    "scrolled": true
   },
   "outputs": [
    {
     "name": "stdout",
     "output_type": "stream",
     "text": [
      "Processando.\n",
      "Processando..\n",
      "Processando...\n",
      "Processando....\n",
      "Processando.....\n"
     ]
    }
   ],
   "source": [
    "for i in range(5):\n",
    "    print('Processando' + ('.' * (i + 1)))"
   ]
  },
  {
   "cell_type": "markdown",
   "id": "north-companion",
   "metadata": {},
   "source": [
    "Podemos também omitir o passo e definir somente o valor inicial e final. Neste caso, o Python assume que o passo é 1."
   ]
  },
  {
   "cell_type": "code",
   "execution_count": 79,
   "id": "sporting-accountability",
   "metadata": {},
   "outputs": [
    {
     "name": "stdout",
     "output_type": "stream",
     "text": [
      "7\n",
      "8\n",
      "9\n",
      "10\n",
      "11\n",
      "12\n"
     ]
    }
   ],
   "source": [
    "for i in range(7, 13):\n",
    "    print(i)"
   ]
  },
  {
   "cell_type": "markdown",
   "id": "pacific-malaysia",
   "metadata": {},
   "source": [
    "O exemplo abaixo define um passo de 2."
   ]
  },
  {
   "cell_type": "code",
   "execution_count": 80,
   "id": "suspected-radar",
   "metadata": {},
   "outputs": [
    {
     "name": "stdout",
     "output_type": "stream",
     "text": [
      "1\n",
      "3\n",
      "5\n",
      "7\n",
      "9\n"
     ]
    }
   ],
   "source": [
    "for i in range(1, 10, 2):\n",
    "    print(i)"
   ]
  },
  {
   "cell_type": "markdown",
   "id": "oriented-dealing",
   "metadata": {},
   "source": [
    "Podemos inverter os valores da variável associada ao laço ``for`` para que decresça com o passar das iterações. Para isso, definimos um valor inicial maior que o valor final, e um passo negativo."
   ]
  },
  {
   "cell_type": "code",
   "execution_count": 81,
   "id": "front-inspection",
   "metadata": {},
   "outputs": [
    {
     "name": "stdout",
     "output_type": "stream",
     "text": [
      "10\n",
      "9\n",
      "8\n",
      "7\n",
      "6\n",
      "5\n",
      "4\n",
      "3\n",
      "2\n",
      "1\n"
     ]
    }
   ],
   "source": [
    "for i in range(10, 0, -1):\n",
    "    print(i)"
   ]
  },
  {
   "cell_type": "markdown",
   "id": "finite-rochester",
   "metadata": {},
   "source": [
    "Podemos praticar a estrutura ``for`` exibindo triângulos em tela."
   ]
  },
  {
   "cell_type": "code",
   "execution_count": 82,
   "id": "statewide-damages",
   "metadata": {},
   "outputs": [
    {
     "name": "stdout",
     "output_type": "stream",
     "text": [
      "*\n",
      "**\n",
      "***\n",
      "****\n",
      "*****\n",
      "******\n",
      "*******\n",
      "********\n",
      "*********\n"
     ]
    }
   ],
   "source": [
    "# Versão 1\n",
    "for i in range(1, 10):\n",
    "    print('*' * i)"
   ]
  },
  {
   "cell_type": "code",
   "execution_count": 83,
   "id": "indoor-english",
   "metadata": {},
   "outputs": [
    {
     "name": "stdout",
     "output_type": "stream",
     "text": [
      "         *\n",
      "        ***\n",
      "       *****\n",
      "      *******\n",
      "     *********\n",
      "    ***********\n",
      "   *************\n",
      "  ***************\n",
      " *****************\n",
      "*******************\n",
      "*******************\n",
      " *****************\n",
      "  ***************\n",
      "   *************\n",
      "    ***********\n",
      "     *********\n",
      "      *******\n",
      "       *****\n",
      "        ***\n",
      "         *\n"
     ]
    }
   ],
   "source": [
    "# Versão 2\n",
    "tamanho = 20\n",
    "for i in range(1, tamanho, 2):\n",
    "    lateral = int((tamanho - 1 - i)/2)\n",
    "    print(' ' * lateral + '*' * i)\n",
    "    \n",
    "\n",
    "# Versão 3 (agora formando um losango)\n",
    "tamanho = 19\n",
    "for i in range(tamanho, 0, -2):\n",
    "    lateral = int((tamanho - i)/2)\n",
    "    print(' ' * lateral + '*' * i)"
   ]
  },
  {
   "cell_type": "markdown",
   "id": "republican-blowing",
   "metadata": {},
   "source": [
    "**Exemplo 3:** dado um valor $x$, determine (e exiba) se ele é um número primo."
   ]
  },
  {
   "cell_type": "code",
   "execution_count": 111,
   "id": "religious-compiler",
   "metadata": {},
   "outputs": [
    {
     "name": "stdout",
     "output_type": "stream",
     "text": [
      "PRIMO!\n"
     ]
    }
   ],
   "source": [
    "x = 127\n",
    "primo = True\n",
    "\n",
    "for i in range(2, x):\n",
    "    if x % i == 0:\n",
    "        primo = False\n",
    "        \n",
    "if primo:\n",
    "    print('PRIMO!')\n",
    "else:\n",
    "    print('NÃO É PRIMO!')"
   ]
  },
  {
   "cell_type": "markdown",
   "id": "presidential-student",
   "metadata": {},
   "source": [
    "Note que a verificação de divisibilidade não é necessária para valores maiores que $x / 2$. Podemos, portanto, interromper a execução do laço de repetição (antes do seu término) quando $i > x / 2$. Para isso, usamos o comando ``break``.\n",
    "\n",
    "Também podemos interromper a execução logo que o primeiro número divisível for encontrado (pois já sabemos que trata-se de um número primo. Faremos isso também usando o comando ``break``."
   ]
  },
  {
   "cell_type": "code",
   "execution_count": 114,
   "id": "special-bruce",
   "metadata": {},
   "outputs": [
    {
     "name": "stdout",
     "output_type": "stream",
     "text": [
      "2\n",
      "3\n",
      "4\n",
      "5\n",
      "6\n",
      "7\n",
      "8\n",
      "9\n",
      "10\n",
      "11\n",
      "12\n",
      "13\n",
      "14\n",
      "15\n",
      "PRIMO!\n"
     ]
    }
   ],
   "source": [
    "x = 29\n",
    "primo = True\n",
    "\n",
    "for i in range(2, x):\n",
    "    print(i)\n",
    "    if x % i == 0:\n",
    "        primo = False\n",
    "        break\n",
    "    if i > x / 2:\n",
    "        break\n",
    "        \n",
    "if primo:\n",
    "    print('PRIMO!')\n",
    "else:\n",
    "    print('NÃO É PRIMO!')"
   ]
  },
  {
   "cell_type": "markdown",
   "id": "loved-norway",
   "metadata": {},
   "source": [
    "**Exemplo 4:** escreva um programa que solicite ao usuário a idade de 5 pessoas. O programa deve apresentar a mensagem \"Menor de idade!\" para aqueles com idade inferior a 18 anos, e também calcular e exibir o tempo restante (em anos) para que se torne maior de idade."
   ]
  },
  {
   "cell_type": "code",
   "execution_count": 116,
   "id": "early-prime",
   "metadata": {},
   "outputs": [
    {
     "name": "stdout",
     "output_type": "stream",
     "text": [
      "Informe a idade: 15\n",
      "Menor de idade!\n",
      "Tempo restante para maioridade: 3\n",
      "Informe a idade: 16\n",
      "Menor de idade!\n",
      "Tempo restante para maioridade: 2\n",
      "Informe a idade: 20\n",
      "Informe a idade: 15\n",
      "Menor de idade!\n",
      "Tempo restante para maioridade: 3\n",
      "Informe a idade: 65\n"
     ]
    }
   ],
   "source": [
    "for i in range(5):\n",
    "    idade = int(input('Informe a idade: '))\n",
    "    if idade < 18:\n",
    "        print('Menor de idade!')\n",
    "        print('Tempo restante para maioridade: %d' % (18 - idade))"
   ]
  },
  {
   "cell_type": "markdown",
   "id": "alone-receipt",
   "metadata": {},
   "source": [
    "Uma alternativa para implementar a lógica acima é usar o comando ``continue``. Esse comando ignora todos os comandos abaixo dele (dentro do laço de repetição) e \"pula\" para a próxima iteração.\n",
    "+ Perceba no código abaixo que quando a idade for maior ou igual que 18, os comandos relacionados a pessoas menores de idade são ignorados e a execução passa para a próxima iteração do laço de repetição;\n",
    "+ Perceba ainda que é possível escrever o comando ``if`` (condicional) em uma única linha, quando o bloco de código associado possui um único comando."
   ]
  },
  {
   "cell_type": "code",
   "execution_count": 117,
   "id": "seasonal-steal",
   "metadata": {},
   "outputs": [
    {
     "name": "stdout",
     "output_type": "stream",
     "text": [
      "Informe a idade: 25\n",
      "Informe a idade: 36\n",
      "Informe a idade: 14\n",
      "Menor de idade!\n",
      "Tempo restante para maioridade: 4\n",
      "Informe a idade: 10\n",
      "Menor de idade!\n",
      "Tempo restante para maioridade: 8\n",
      "Informe a idade: 2\n",
      "Menor de idade!\n",
      "Tempo restante para maioridade: 16\n"
     ]
    }
   ],
   "source": [
    "for i in range(5):\n",
    "    idade = int(input('Informe a idade: '))\n",
    "    if idade >= 18: continue\n",
    "    print('Menor de idade!')\n",
    "    print('Tempo restante para maioridade: %d' % (18 - idade))"
   ]
  },
  {
   "cell_type": "markdown",
   "id": "dominican-produce",
   "metadata": {},
   "source": [
    "***"
   ]
  },
  {
   "cell_type": "markdown",
   "id": "mature-grill",
   "metadata": {},
   "source": [
    "## Estrutura ``while``"
   ]
  },
  {
   "cell_type": "markdown",
   "id": "accessory-shell",
   "metadata": {},
   "source": [
    "O comando ``for`` é usado para repetir um trecho de código por um número de vezes predeterminado (definido pelas variáveis do comando ``range``). Em alguns casos, queremos repetir um bloco de código enquanto uma determinada condição for verdadeira, interrompendo o laço de repetição quando ela for falsa. Para isso, usamos a estrutura ``while``.\n",
    "\n",
    "Estrutura básica do ``while``:\n",
    "\n",
    "```\n",
    "while <condição>:\n",
    "    <bloco de código>\n",
    "```\n",
    "\n",
    "Comentários:\n",
    "+ A estrutura é similar ao condicional ``if``, mas em vez de executar uma única vez o bloco de código associado, ele é executado repetidas vezes enquanto a condição se mantiver verdadeira;\n",
    "+ Em diferentes ocasiões, pode ser melhor (mais compacto, claro, ...) usar determinada estrutura de repetição (``for`` ou ``while``). No entanto, podemos transformar uma em outra, se desejado."
   ]
  },
  {
   "cell_type": "markdown",
   "id": "incoming-robertson",
   "metadata": {},
   "source": [
    "Começamos com o exemplo básico de exibir os números de 1 a 10. Neste caso, usamos a estrutura ``while`` e aumentamos o valor da variável ``i`` manualmente. Repetimos o bloco de código enquanto a variável ``i`` estiver no intervalo que queremos exibir.\n",
    "+ Temos que garantir que em algum momento a condição não seja mais satisfeita. Caso contrário, a execução nunca terminará, pois o laço de repetição seguirá executando (i.e. repetindo) indefinidamente."
   ]
  },
  {
   "cell_type": "code",
   "execution_count": 118,
   "id": "yellow-absence",
   "metadata": {},
   "outputs": [
    {
     "name": "stdout",
     "output_type": "stream",
     "text": [
      "1\n",
      "2\n",
      "3\n",
      "4\n",
      "5\n",
      "6\n",
      "7\n",
      "8\n",
      "9\n",
      "10\n"
     ]
    }
   ],
   "source": [
    "i = 1\n",
    "while i <= 10:\n",
    "    print(i)\n",
    "    i = i + 1"
   ]
  },
  {
   "cell_type": "markdown",
   "id": "decent-filling",
   "metadata": {},
   "source": [
    "**Exemplo 5:** escreva um programa que apresente um problema matemático ao usuário. O usuário deverá acertar a resposta para que a execução termine. Conte o número de tentativas e a cada erro, desconte 10\\% da nota final do usuário. Informe a nota que obterá caso acerte a resposta a cada nova tentativa."
   ]
  },
  {
   "cell_type": "code",
   "execution_count": 120,
   "id": "received-buying",
   "metadata": {},
   "outputs": [
    {
     "name": "stdout",
     "output_type": "stream",
     "text": [
      "Em caso de acerto, sua nota será 10.0\n",
      "Quanto é 25% de 2000? 4\n",
      "Resposta errada!\n",
      "\n",
      "Em caso de acerto, sua nota será 9.0\n",
      "Quanto é 25% de 2000? 5\n",
      "Resposta errada!\n",
      "\n",
      "Em caso de acerto, sua nota será 8.1\n",
      "Quanto é 25% de 2000? 6\n",
      "Resposta errada!\n",
      "\n",
      "Em caso de acerto, sua nota será 7.3\n",
      "Quanto é 25% de 2000? 500\n",
      "Resposta correta! Sua nota é 7.3.\n"
     ]
    }
   ],
   "source": [
    "problema = 'Quanto é 25% de 2000? '\n",
    "resposta_correta = 500\n",
    "resposta = 0\n",
    "erros = 0\n",
    "nota = 10\n",
    "\n",
    "while resposta != resposta_correta:\n",
    "    print('Em caso de acerto, sua nota será %.1f' % nota)\n",
    "    resposta = int(input(problema))\n",
    "    if resposta != resposta_correta:\n",
    "        nota = nota - (nota * 0.1)\n",
    "        print('Resposta errada!\\n')\n",
    "        \n",
    "print('Resposta correta! Sua nota é %.1f.' % nota)"
   ]
  },
  {
   "cell_type": "markdown",
   "id": "flush-project",
   "metadata": {},
   "source": [
    "**Exemplo 6:** escreva um programa que exiba os valores de $n^i$ para $i \\in \\{1, 2, 3, \\ldots\\}$. O programa deve parar de exibir esses valores quando $n_i > m$. Teste o programa para diferentes valores de $n$ e $m$."
   ]
  },
  {
   "cell_type": "code",
   "execution_count": 127,
   "id": "minus-canvas",
   "metadata": {},
   "outputs": [
    {
     "name": "stdout",
     "output_type": "stream",
     "text": [
      "2\n",
      "4\n",
      "8\n",
      "16\n",
      "32\n",
      "64\n",
      "128\n",
      "256\n",
      "512\n",
      "1024\n",
      "2048\n",
      "4096\n",
      "8192\n"
     ]
    }
   ],
   "source": [
    "n = 2\n",
    "m = 10 ** 4\n",
    "i = 1\n",
    "\n",
    "r = n ** i\n",
    "\n",
    "while r <= m:\n",
    "    print(r)\n",
    "    i = i + 1\n",
    "    r = n ** i    "
   ]
  },
  {
   "cell_type": "markdown",
   "id": "indoor-funeral",
   "metadata": {},
   "source": [
    "**Exemplo 7:** escreva um programa que leia as notas de um estudante e calcule sua média. O programa deve ler quantas notas o usuário informar. Para interromper a leitura, o usuário deve informar a nota -1.\n",
    "+ Podemos usar os comandos ``break`` e ``continue`` na estrutura ``while``"
   ]
  },
  {
   "cell_type": "code",
   "execution_count": 131,
   "id": "northern-refund",
   "metadata": {},
   "outputs": [
    {
     "name": "stdout",
     "output_type": "stream",
     "text": [
      "Informe a nota (-1 para sair): 1\n",
      "Informe a nota (-1 para sair): 2\n",
      "Informe a nota (-1 para sair): 3\n",
      "Informe a nota (-1 para sair): 4\n",
      "Informe a nota (-1 para sair): 5\n",
      "Informe a nota (-1 para sair): 6\n",
      "Informe a nota (-1 para sair): 7\n",
      "Informe a nota (-1 para sair): 8\n",
      "Informe a nota (-1 para sair): 9\n",
      "Informe a nota (-1 para sair): -1\n",
      "Média: 5.0\n"
     ]
    }
   ],
   "source": [
    "# Versão 1 (usando continue)\n",
    "soma = 0\n",
    "quantidade = 0\n",
    "nota = 0\n",
    "\n",
    "while nota != -1:\n",
    "    nota = float(input('Informe a nota (-1 para sair): '))\n",
    "    if nota == -1: continue\n",
    "    soma = soma + nota\n",
    "    quantidade = quantidade + 1\n",
    "\n",
    "media = soma / quantidade\n",
    "print('Média:', media)"
   ]
  },
  {
   "cell_type": "code",
   "execution_count": 133,
   "id": "intelligent-turner",
   "metadata": {},
   "outputs": [
    {
     "name": "stdout",
     "output_type": "stream",
     "text": [
      "Informe a nota (-1 para sair): 4\n",
      "Informe a nota (-1 para sair): 4\n",
      "Informe a nota (-1 para sair): 6\n",
      "Informe a nota (-1 para sair): 6\n",
      "Informe a nota (-1 para sair): 7\n",
      "Informe a nota (-1 para sair): 7\n",
      "Informe a nota (-1 para sair): 3\n",
      "Informe a nota (-1 para sair): 3\n",
      "Informe a nota (-1 para sair): -1\n",
      "Média: 5.0\n"
     ]
    }
   ],
   "source": [
    "# Versão 2 (usando break)\n",
    "soma = 0\n",
    "quantidade = 0\n",
    "nota = 0\n",
    "\n",
    "while True:\n",
    "    nota = float(input('Informe a nota (-1 para sair): '))\n",
    "    if nota == -1: break\n",
    "    soma = soma + nota\n",
    "    quantidade = quantidade + 1\n",
    "\n",
    "media = soma / quantidade\n",
    "print('Média:', media)"
   ]
  },
  {
   "cell_type": "markdown",
   "id": "promotional-gambling",
   "metadata": {},
   "source": [
    "Finalmente, podemos usar estruturas de repetição aninhadas (i.e. uma dentro da outra).\n",
    "\n",
    "**Exemplo 8:** escreva a tabuada do 1 ao 9."
   ]
  },
  {
   "cell_type": "code",
   "execution_count": 3,
   "id": "supposed-dealing",
   "metadata": {},
   "outputs": [
    {
     "name": "stdout",
     "output_type": "stream",
     "text": [
      "1 x 1 = 1\n",
      "1 x 2 = 2\n",
      "1 x 3 = 3\n",
      "1 x 4 = 4\n",
      "1 x 5 = 5\n",
      "1 x 6 = 6\n",
      "1 x 7 = 7\n",
      "1 x 8 = 8\n",
      "1 x 9 = 9\n",
      "1 x 10 = 10\n",
      "\n",
      "2 x 1 = 2\n",
      "2 x 2 = 4\n",
      "2 x 3 = 6\n",
      "2 x 4 = 8\n",
      "2 x 5 = 10\n",
      "2 x 6 = 12\n",
      "2 x 7 = 14\n",
      "2 x 8 = 16\n",
      "2 x 9 = 18\n",
      "2 x 10 = 20\n",
      "\n",
      "3 x 1 = 3\n",
      "3 x 2 = 6\n",
      "3 x 3 = 9\n",
      "3 x 4 = 12\n",
      "3 x 5 = 15\n",
      "3 x 6 = 18\n",
      "3 x 7 = 21\n",
      "3 x 8 = 24\n",
      "3 x 9 = 27\n",
      "3 x 10 = 30\n",
      "\n",
      "4 x 1 = 4\n",
      "4 x 2 = 8\n",
      "4 x 3 = 12\n",
      "4 x 4 = 16\n",
      "4 x 5 = 20\n",
      "4 x 6 = 24\n",
      "4 x 7 = 28\n",
      "4 x 8 = 32\n",
      "4 x 9 = 36\n",
      "4 x 10 = 40\n",
      "\n",
      "5 x 1 = 5\n",
      "5 x 2 = 10\n",
      "5 x 3 = 15\n",
      "5 x 4 = 20\n",
      "5 x 5 = 25\n",
      "5 x 6 = 30\n",
      "5 x 7 = 35\n",
      "5 x 8 = 40\n",
      "5 x 9 = 45\n",
      "5 x 10 = 50\n",
      "\n",
      "6 x 1 = 6\n",
      "6 x 2 = 12\n",
      "6 x 3 = 18\n",
      "6 x 4 = 24\n",
      "6 x 5 = 30\n",
      "6 x 6 = 36\n",
      "6 x 7 = 42\n",
      "6 x 8 = 48\n",
      "6 x 9 = 54\n",
      "6 x 10 = 60\n",
      "\n",
      "7 x 1 = 7\n",
      "7 x 2 = 14\n",
      "7 x 3 = 21\n",
      "7 x 4 = 28\n",
      "7 x 5 = 35\n",
      "7 x 6 = 42\n",
      "7 x 7 = 49\n",
      "7 x 8 = 56\n",
      "7 x 9 = 63\n",
      "7 x 10 = 70\n",
      "\n",
      "8 x 1 = 8\n",
      "8 x 2 = 16\n",
      "8 x 3 = 24\n",
      "8 x 4 = 32\n",
      "8 x 5 = 40\n",
      "8 x 6 = 48\n",
      "8 x 7 = 56\n",
      "8 x 8 = 64\n",
      "8 x 9 = 72\n",
      "8 x 10 = 80\n",
      "\n",
      "9 x 1 = 9\n",
      "9 x 2 = 18\n",
      "9 x 3 = 27\n",
      "9 x 4 = 36\n",
      "9 x 5 = 45\n",
      "9 x 6 = 54\n",
      "9 x 7 = 63\n",
      "9 x 8 = 72\n",
      "9 x 9 = 81\n",
      "9 x 10 = 90\n",
      "\n"
     ]
    }
   ],
   "source": [
    "# Exemplo usando for\n",
    "\n",
    "for x in range(1, 10):\n",
    "    for y in range(1, 11):\n",
    "        print('%d x %d = %d' % (x, y, x * y))\n",
    "    print()"
   ]
  },
  {
   "cell_type": "code",
   "execution_count": 4,
   "id": "parallel-northern",
   "metadata": {},
   "outputs": [
    {
     "name": "stdout",
     "output_type": "stream",
     "text": [
      "1 x 1 = 1\n",
      "1 x 2 = 2\n",
      "1 x 3 = 3\n",
      "1 x 4 = 4\n",
      "1 x 5 = 5\n",
      "1 x 6 = 6\n",
      "1 x 7 = 7\n",
      "1 x 8 = 8\n",
      "1 x 9 = 9\n",
      "1 x 10 = 10\n",
      "\n",
      "2 x 1 = 2\n",
      "2 x 2 = 4\n",
      "2 x 3 = 6\n",
      "2 x 4 = 8\n",
      "2 x 5 = 10\n",
      "2 x 6 = 12\n",
      "2 x 7 = 14\n",
      "2 x 8 = 16\n",
      "2 x 9 = 18\n",
      "2 x 10 = 20\n",
      "\n",
      "3 x 1 = 3\n",
      "3 x 2 = 6\n",
      "3 x 3 = 9\n",
      "3 x 4 = 12\n",
      "3 x 5 = 15\n",
      "3 x 6 = 18\n",
      "3 x 7 = 21\n",
      "3 x 8 = 24\n",
      "3 x 9 = 27\n",
      "3 x 10 = 30\n",
      "\n",
      "4 x 1 = 4\n",
      "4 x 2 = 8\n",
      "4 x 3 = 12\n",
      "4 x 4 = 16\n",
      "4 x 5 = 20\n",
      "4 x 6 = 24\n",
      "4 x 7 = 28\n",
      "4 x 8 = 32\n",
      "4 x 9 = 36\n",
      "4 x 10 = 40\n",
      "\n",
      "5 x 1 = 5\n",
      "5 x 2 = 10\n",
      "5 x 3 = 15\n",
      "5 x 4 = 20\n",
      "5 x 5 = 25\n",
      "5 x 6 = 30\n",
      "5 x 7 = 35\n",
      "5 x 8 = 40\n",
      "5 x 9 = 45\n",
      "5 x 10 = 50\n",
      "\n",
      "6 x 1 = 6\n",
      "6 x 2 = 12\n",
      "6 x 3 = 18\n",
      "6 x 4 = 24\n",
      "6 x 5 = 30\n",
      "6 x 6 = 36\n",
      "6 x 7 = 42\n",
      "6 x 8 = 48\n",
      "6 x 9 = 54\n",
      "6 x 10 = 60\n",
      "\n",
      "7 x 1 = 7\n",
      "7 x 2 = 14\n",
      "7 x 3 = 21\n",
      "7 x 4 = 28\n",
      "7 x 5 = 35\n",
      "7 x 6 = 42\n",
      "7 x 7 = 49\n",
      "7 x 8 = 56\n",
      "7 x 9 = 63\n",
      "7 x 10 = 70\n",
      "\n",
      "8 x 1 = 8\n",
      "8 x 2 = 16\n",
      "8 x 3 = 24\n",
      "8 x 4 = 32\n",
      "8 x 5 = 40\n",
      "8 x 6 = 48\n",
      "8 x 7 = 56\n",
      "8 x 8 = 64\n",
      "8 x 9 = 72\n",
      "8 x 10 = 80\n",
      "\n",
      "9 x 1 = 9\n",
      "9 x 2 = 18\n",
      "9 x 3 = 27\n",
      "9 x 4 = 36\n",
      "9 x 5 = 45\n",
      "9 x 6 = 54\n",
      "9 x 7 = 63\n",
      "9 x 8 = 72\n",
      "9 x 9 = 81\n",
      "9 x 10 = 90\n",
      "\n"
     ]
    }
   ],
   "source": [
    "# Exemplo usando while\n",
    "\n",
    "x = 1\n",
    "while x <= 9:\n",
    "    y = 1\n",
    "    while y <= 10:\n",
    "        print('%d x %d = %d' % (x, y, x * y))\n",
    "        y = y + 1\n",
    "    x = x + 1\n",
    "    print()"
   ]
  }
 ],
 "metadata": {
  "kernelspec": {
   "display_name": "Python 3",
   "language": "python",
   "name": "python3"
  },
  "language_info": {
   "codemirror_mode": {
    "name": "ipython",
    "version": 3
   },
   "file_extension": ".py",
   "mimetype": "text/x-python",
   "name": "python",
   "nbconvert_exporter": "python",
   "pygments_lexer": "ipython3",
   "version": "3.8.5"
  }
 },
 "nbformat": 4,
 "nbformat_minor": 5
}
