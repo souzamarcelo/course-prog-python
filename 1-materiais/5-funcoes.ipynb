{
 "cells": [
  {
   "cell_type": "markdown",
   "id": "461e41e3",
   "metadata": {},
   "source": [
    "<div align=\"right\" style=\"text-align:right\"><a rel=\"license\" href=\"http://creativecommons.org/licenses/by-nc-nd/4.0/\"><img alt=\"Licença Creative Commons\" style=\"border-width:0; float:right\" src=\"https://i.creativecommons.org/l/by-nc-nd/4.0/88x31.png\" /></a><br><br><i>Prof. Marcelo de Souza</i><br>marcelo.desouza@udesc.br</div>"
   ]
  },
  {
   "cell_type": "markdown",
   "id": "3c383b49",
   "metadata": {},
   "source": [
    "# Funções\n",
    "\n",
    "Vários comandos já estudados tratam-se de funções: ``print``, ``input``, ``int``, ``float``, ``len``, etc. Podemos definir nossas próprias funções usando o comando ``def``.\n",
    "\n",
    "Funções são importantes, pois permitem isolar operações específicas em um ponto único (a função), permitindo que esse trecho de código seja reutilizado em diferentes partes do programa, evitando sua repetição. Com isso, dada a necessidade de alterar o código, a manutenção acontece em um único ponto do programa.\n",
    "\n",
    "---"
   ]
  },
  {
   "cell_type": "markdown",
   "id": "36691539",
   "metadata": {},
   "source": [
    "## 1. Definição de funções\n",
    "\n",
    "Sintaxe:\n",
    "```python\n",
    "def <nome da função>(<lista de parâmetros>):\n",
    "    <implementação da função>\n",
    "```"
   ]
  },
  {
   "cell_type": "code",
   "execution_count": 6,
   "id": "8207f0b9",
   "metadata": {},
   "outputs": [
    {
     "name": "stdout",
     "output_type": "stream",
     "text": [
      "8\n",
      "5\n",
      "5\n",
      "-10\n",
      "13\n"
     ]
    }
   ],
   "source": [
    "def mostra_soma(a, b):\n",
    "    print(a + b)\n",
    "    \n",
    "mostra_soma(5, 3)   # a recebe o valor 5 e b recebe o valor 3\n",
    "mostra_soma(4, 1)\n",
    "mostra_soma(8, -3)\n",
    "mostra_soma(-3, -7)\n",
    "\n",
    "x = 4\n",
    "y = 9\n",
    "mostra_soma(x, y)"
   ]
  },
  {
   "cell_type": "markdown",
   "id": "0727ec9f",
   "metadata": {},
   "source": [
    "Note que:\n",
    "+ usamos indentação (recuo) para indicar o bloco de código da função (sua implementação);\n",
    "+ ``a`` e ``b`` são os argumentos da função; ou seja, os valores que são passados à função e que podem ser acessados na sua implementação através dessas variáveis;\n",
    "+ chamamos a função passando os valores que a função define;\n",
    "+ as variáveis recebem os valores passados na chamada na ordem em que são definidas e em que os valores são passados;\n",
    "+ a implementação da função só é executada quando a função é chamada;\n",
    "+ a função deve ser definida antes da chamada."
   ]
  },
  {
   "cell_type": "markdown",
   "id": "55af681f",
   "metadata": {},
   "source": [
    "Algumas funções conhecidas (``len``, ``str``, ``int``) retornam valores, os quais podem ser usados em outros comandos (como ``print``) ou atribuídos a variáveis.\n",
    "\n",
    "Podemos alterar a função definida acima para: em vez de mostrar a soma em tela, retornar a soma."
   ]
  },
  {
   "cell_type": "code",
   "execution_count": 1,
   "id": "b088b7ea",
   "metadata": {},
   "outputs": [
    {
     "name": "stdout",
     "output_type": "stream",
     "text": [
      "11\n",
      "14\n"
     ]
    }
   ],
   "source": [
    "def soma(a, b):\n",
    "    return a + b\n",
    "\n",
    "print(soma(6, 5))   # tirando o comando print, a execução não mostra nada\n",
    "resultado = soma(10, 5) - 1\n",
    "print(resultado)"
   ]
  },
  {
   "cell_type": "markdown",
   "id": "3a806bd7",
   "metadata": {},
   "source": [
    "***\n",
    "\n",
    "**Exercício:** escreva um programa que imprima todos os números pares entre $x$ e $y$ (inclusive). Os valores de $x$ e $y$ são informados pelo usuário."
   ]
  },
  {
   "cell_type": "code",
   "execution_count": 8,
   "id": "593eea06",
   "metadata": {},
   "outputs": [
    {
     "name": "stdout",
     "output_type": "stream",
     "text": [
      "Informe x: 5\n",
      "Informe y: 12\n",
      "6 8 10 12 "
     ]
    }
   ],
   "source": [
    "def par(valor):\n",
    "    return valor % 2 == 0\n",
    "\n",
    "x = int(input('Informe x: '))\n",
    "y = int(input('Informe y: '))\n",
    "\n",
    "for v in range(x, y + 1):\n",
    "    if par(v): print(v, end = ' ')"
   ]
  },
  {
   "cell_type": "markdown",
   "id": "0eafff86",
   "metadata": {},
   "source": [
    "Podemos chamar uma função a partir de outra função. Por exemplo, se quisermos usar a função que verifica se um número é par em uma segunda função que mostra se um dado número é par ou ímpar:"
   ]
  },
  {
   "cell_type": "code",
   "execution_count": 9,
   "id": "d84ddcb0",
   "metadata": {},
   "outputs": [
    {
     "name": "stdout",
     "output_type": "stream",
     "text": [
      "3 é ímpar!\n",
      "8 é par!\n",
      "432 é par!\n",
      "817 é ímpar!\n"
     ]
    }
   ],
   "source": [
    "def par(valor):\n",
    "    return valor % 2 == 0\n",
    "\n",
    "def mostra_par_impar(numero):\n",
    "    if par(numero):\n",
    "        print('%d é par!' % numero)\n",
    "    else:\n",
    "        print('%d é ímpar!' % numero)\n",
    "        \n",
    "mostra_par_impar(3)\n",
    "mostra_par_impar(8)\n",
    "mostra_par_impar(432)\n",
    "mostra_par_impar(817)"
   ]
  },
  {
   "cell_type": "markdown",
   "id": "4146ed42",
   "metadata": {},
   "source": [
    "Podemos alterar a função ``mostra_par_impar`` para retornar a string \"par\" ou \"ímpar\", em função do número ser par ou ímpar. Neste caso, temos dois comandos ``return``. Cada comando será executado em um caso específico. Ao executar o comando ``return``, a função termina sua execução e o fluxo retorna à linha após a chamada da função."
   ]
  },
  {
   "cell_type": "code",
   "execution_count": 10,
   "id": "c1e1dc3a",
   "metadata": {},
   "outputs": [
    {
     "name": "stdout",
     "output_type": "stream",
     "text": [
      "3 é ímpar!\n",
      "8 é par!\n",
      "432 é par!\n",
      "817 é ímpar!\n"
     ]
    }
   ],
   "source": [
    "def par(valor):\n",
    "    return valor % 2 == 0\n",
    "\n",
    "def mostra_par_impar(numero):\n",
    "    if par(numero):\n",
    "        return 'par'\n",
    "    else:\n",
    "        return 'ímpar'\n",
    "        \n",
    "print('%d é %s!' % (3, mostra_par_impar(3)))\n",
    "print('%d é %s!' % (8, mostra_par_impar(8)))\n",
    "print('%d é %s!' % (432, mostra_par_impar(432)))\n",
    "print('%d é %s!' % (817, mostra_par_impar(817)))"
   ]
  },
  {
   "cell_type": "markdown",
   "id": "60f2f745",
   "metadata": {},
   "source": [
    "***\n",
    "\n",
    "**Exercício:** apresente a soma do fatorial de 3, 4, 5 e 6."
   ]
  },
  {
   "cell_type": "code",
   "execution_count": 12,
   "id": "38f17ef4",
   "metadata": {},
   "outputs": [
    {
     "name": "stdout",
     "output_type": "stream",
     "text": [
      "870\n"
     ]
    }
   ],
   "source": [
    "def fatorial(n):\n",
    "    fat = 1\n",
    "    for x in range(n, 0, -1):\n",
    "        fat *= x\n",
    "    return fat\n",
    "\n",
    "soma = 0\n",
    "for i in range(3, 7):\n",
    "    soma += fatorial(i)\n",
    "print(soma)"
   ]
  },
  {
   "cell_type": "markdown",
   "id": "bceab12e",
   "metadata": {},
   "source": [
    "## 2. Escopo de variáveis\n",
    "\n"
   ]
  },
  {
   "cell_type": "markdown",
   "id": "5cbbebee",
   "metadata": {},
   "source": [
    "Via de regra, uma variável declarada em uma função (seja no seu corpo ou na sua lista de parâmetros) existe apenas dentro dela. Já que não podemos acessar variáveis de uma função fora dela, usamos argumentos para passar valores à função e o retorno para receber valores da função.\n",
    "\n",
    "Uma variável criada em uma função é dita de **escopo local** e chamada de **variável local**."
   ]
  },
  {
   "cell_type": "code",
   "execution_count": 4,
   "id": "11b566e4",
   "metadata": {},
   "outputs": [
    {
     "name": "stdout",
     "output_type": "stream",
     "text": [
      "3\n",
      "5\n",
      "5\n"
     ]
    }
   ],
   "source": [
    "def funcao(x):   # a função define uma variável x como parâmetro\n",
    "    a = 5   # criando uma variável dentro da função\n",
    "    print(x)\n",
    "    print(a)\n",
    "    return a\n",
    "    \n",
    "retorno = funcao(3)\n",
    "print(retorno)\n",
    "#print(x)   # erro, pois a variável x só existe dentro da função\n",
    "#print(a)   # erro, pois a variável a só existe dentro da função"
   ]
  },
  {
   "cell_type": "markdown",
   "id": "04a324a6",
   "metadata": {},
   "source": [
    "Por outro lado, uma variável criada fora de uma função é visível por todos e, por isso, tem **escopo global** e é chamada de **variável global**."
   ]
  },
  {
   "cell_type": "code",
   "execution_count": 7,
   "id": "6f94d1f9",
   "metadata": {},
   "outputs": [
    {
     "name": "stdout",
     "output_type": "stream",
     "text": [
      "Bem vindo sr. José!\n",
      "-------------------\n"
     ]
    }
   ],
   "source": [
    "nome = 'José'\n",
    "def funcao():\n",
    "    bemvindo = 'Bem vindo sr. %s!' % nome     # note que a variável nome não foi recebida como parâmetro\n",
    "    print(bemvindo)\n",
    "    print('-' * len(bemvindo))\n",
    "    \n",
    "funcao()"
   ]
  },
  {
   "cell_type": "markdown",
   "id": "1af94a4e",
   "metadata": {},
   "source": [
    "**Cuidado!** Se tentarmos alterar uma variável global dentro de uma função, o Python criará uma variável local com mesmo nome. A variável local terá seu valor atribuído conforme a tentativa de alteração, enquanto a variável global permanecerá inalterada. Veja o exemplo abaixo."
   ]
  },
  {
   "cell_type": "code",
   "execution_count": 15,
   "id": "c822db88",
   "metadata": {},
   "outputs": [
    {
     "name": "stdout",
     "output_type": "stream",
     "text": [
      "Variável valor DENTRO da função: 200\n",
      "Variável valor FORA da função: 100\n"
     ]
    }
   ],
   "source": [
    "valor = 100\n",
    "\n",
    "def altera_valor(novo_valor):\n",
    "    valor = novo_valor\n",
    "    print('Variável valor DENTRO da função: %d' % valor)\n",
    "\n",
    "altera_valor(200)\n",
    "print('Variável valor FORA da função: %d' % valor)"
   ]
  },
  {
   "cell_type": "markdown",
   "id": "d03962e4",
   "metadata": {},
   "source": [
    "Para poder alterar uma variável global dentro de uma função, precisamos informar que trata-se de uma variável global antes de alterar seu valor. Para isso, usamos o comando ``global`` no início do corpo da função."
   ]
  },
  {
   "cell_type": "code",
   "execution_count": 16,
   "id": "5a8d65d8",
   "metadata": {},
   "outputs": [
    {
     "name": "stdout",
     "output_type": "stream",
     "text": [
      "Variável valor DENTRO da função: 200\n",
      "Variável valor FORA da função: 200\n"
     ]
    }
   ],
   "source": [
    "valor = 100\n",
    "\n",
    "def altera_valor(novo_valor):\n",
    "    global valor          # com isso, informamos o Python que a variável valor é global\n",
    "    valor = novo_valor\n",
    "    print('Variável valor DENTRO da função: %d' % valor)\n",
    "\n",
    "altera_valor(200)\n",
    "print('Variável valor FORA da função: %d' % valor)"
   ]
  },
  {
   "cell_type": "markdown",
   "id": "09d48e05",
   "metadata": {},
   "source": [
    "***\n",
    "\n",
    "**Exercício:** escreva um programa que solicite ao usuário um número positivo $n$ e calcule o valor da expressão $1/n + 2/n + 3/n$. Crie uma função para fazer a entrada de dados, verificando se o número informado satisfaz as pré-condições do exercício. Caso não satisfaça, solicite novo valor."
   ]
  },
  {
   "cell_type": "code",
   "execution_count": 19,
   "id": "bfaf6c99",
   "metadata": {},
   "outputs": [
    {
     "name": "stdout",
     "output_type": "stream",
     "text": [
      "Informe um inteiro positivo: -5\n",
      "O valor informado é inválido!\n",
      "Informe um inteiro positivo: 0\n",
      "O valor informado é inválido!\n",
      "Informe um inteiro positivo: 4\n",
      "1.5\n"
     ]
    }
   ],
   "source": [
    "def entrada():\n",
    "    while True:\n",
    "        n = int(input('Informe um inteiro positivo: '))\n",
    "        if n > 0: return n\n",
    "        else: print('O valor informado é inválido!')\n",
    "\n",
    "n = entrada()\n",
    "resultado = 1/n + 2/n + 3/n\n",
    "print(resultado)"
   ]
  },
  {
   "cell_type": "markdown",
   "id": "94e340e3",
   "metadata": {},
   "source": [
    "**Exercício:** modifique o exercício anterior para tornar a função que controla a entrada de dados mais genérica. Essa função deve receber como parâmetros o texto que deve ser apresentado ao usuário no momento de solicitar o valor, e o intervalo ao qual o valor informado pelo usuário deve pertencer. Ao final, apresente o valor informado pelo usuário em tela (em vez de calcular a expressão matemática). Teste seu programa com diferentes parâmetros."
   ]
  },
  {
   "cell_type": "code",
   "execution_count": 25,
   "id": "8bd3d2c9",
   "metadata": {},
   "outputs": [
    {
     "name": "stdout",
     "output_type": "stream",
     "text": [
      "Informe um número entre 1 e 5: 2\n",
      "2\n",
      "Informe sua idade: 2\n",
      "2\n",
      "Digite um valor negativo: 2\n",
      "O valor informado é inválido! Informe um valor entre -inf e -1.\n",
      "Digite um valor negativo: 4\n",
      "O valor informado é inválido! Informe um valor entre -inf e -1.\n",
      "Digite um valor negativo: -7\n",
      "-7\n"
     ]
    }
   ],
   "source": [
    "def entrada(texto, valor_min, valor_max):\n",
    "    while True:\n",
    "        n = int(input(texto + ': '))\n",
    "        if n >= valor_min and n <= valor_max: return n\n",
    "        else: print('O valor informado é inválido! Informe um valor entre ' + str(valor_min) + ' e ' + str(valor_max) + '.')\n",
    "\n",
    "print(entrada('Informe um número entre 1 e 5', 1, 5))\n",
    "print(entrada('Informe sua idade', 0, 120))\n",
    "print(entrada('Digite um valor negativo', float('-inf'), -1))"
   ]
  },
  {
   "cell_type": "markdown",
   "id": "a0afb41c",
   "metadata": {},
   "source": [
    "## 3. Parâmetros opcionais"
   ]
  },
  {
   "cell_type": "markdown",
   "id": "c7792223",
   "metadata": {},
   "source": [
    "Consideremos a função ``barra``, que imprime em tela uma pequena barra, conforme a implementação a seguir."
   ]
  },
  {
   "cell_type": "code",
   "execution_count": 27,
   "id": "5953ecbb",
   "metadata": {},
   "outputs": [
    {
     "name": "stdout",
     "output_type": "stream",
     "text": [
      "******************************\n"
     ]
    }
   ],
   "source": [
    "def barra():\n",
    "    print('*' * 30)\n",
    "    \n",
    "barra()"
   ]
  },
  {
   "cell_type": "markdown",
   "id": "88adea03",
   "metadata": {},
   "source": [
    "Podemos modificar essa função, de modo a permitir a impressão de barras de diferentes tamanhos e composta por outros caracteres. Para isso, podemos usar parâmetros para definir essas duas características."
   ]
  },
  {
   "cell_type": "code",
   "execution_count": 30,
   "id": "6f427cf1",
   "metadata": {},
   "outputs": [
    {
     "name": "stdout",
     "output_type": "stream",
     "text": [
      "-------------------------\n",
      "..................................................\n",
      "++++++++++++++++++++++++++++++\n"
     ]
    }
   ],
   "source": [
    "def barra(tamanho, caractere):\n",
    "    print(caractere * tamanho)\n",
    "    \n",
    "barra(25, '-')\n",
    "barra(50, '.')\n",
    "barra(30, '+')"
   ]
  },
  {
   "cell_type": "markdown",
   "id": "f07e1a7a",
   "metadata": {},
   "source": [
    "Podemos também definir um comportamento padrão para a função ``barra`` e ao mesmo tempo permitir sua customização por meio de parâmetros. O comportamento desejado é o seguinte:\n",
    "+ Caso não sejam fornecidos valores para o tamanho e caractere, imprime a barra com 30 asteriscos;\n",
    "+ Caso sejam fornecidos o caractere e/ou o tamanho desejados, imprimir a barra conforme esses valores.\n",
    "\n",
    "Para isso, devemos definir valores padrão para os parâmetros ``tamanho`` e ``caractere`` (``30`` e ``'*'``, respectivamente). Com isso, tornamos esses parâmetros opcionais e podemos chamar a função passando valores para esses parâmetros ou não."
   ]
  },
  {
   "cell_type": "code",
   "execution_count": 34,
   "id": "b8fae972",
   "metadata": {},
   "outputs": [
    {
     "name": "stdout",
     "output_type": "stream",
     "text": [
      "******************************\n",
      "-------------------------\n",
      "++++++++++++++++++++++++++++++\n"
     ]
    }
   ],
   "source": [
    "def barra(tamanho = 30, caractere = '*'):\n",
    "    print(caractere * tamanho)\n",
    "    \n",
    "barra()          # aqui usamos o padrão\n",
    "barra(25, '-')   # aqui definimos a barra conforme desejado\n",
    "barra(30, '+')   # aqui definimos a barra conforme desejado"
   ]
  },
  {
   "cell_type": "markdown",
   "id": "e2f96641",
   "metadata": {},
   "source": [
    "Podemos também definir funções com alguns parâmetros obrigatórios e outros opcionais. Para isso, é necessário que os parâmetros opcionais venham **depois** dos parâmetros obrigatórios."
   ]
  },
  {
   "cell_type": "code",
   "execution_count": 36,
   "id": "2b4e1cb8",
   "metadata": {},
   "outputs": [
    {
     "name": "stdout",
     "output_type": "stream",
     "text": [
      "6\n"
     ]
    }
   ],
   "source": [
    "def soma(a, b, imprime = False):\n",
    "    resultado = a + b\n",
    "    if imprime:\n",
    "        print(resultado)\n",
    "    return resultado\n",
    "\n",
    "x = soma(1, 3)\n",
    "x = soma(2, 4, True)\n",
    "x = soma(5, 5, False)"
   ]
  },
  {
   "cell_type": "markdown",
   "id": "2a9b753e",
   "metadata": {},
   "source": [
    "Finalmente, podemos usar os nomes dos parâmetros de uma função na chamada, definindo qual o valor de cada parâmetro. Isso resulta em uma melhor legibilidade do código, ao passo que permite a passagem de valores em uma ordem diferente daquela definida na função. Veja alguns exemplos abaixo.\n",
    "+ **Importante:** é possível passar alguns valores diretamente (sem definir para qual parâmetro o valor será atribuído) e outros nomeando o parâmetro desejado. Os valores passados diretamente devem ser passados no início da chamada, obedecendo a ordem de definição dos parâmetros. A partir do momento em que um parâmetro é passado pelo seu nome, todos os demais devem ser passados da mesma forma, e nenhum parâmetro obrigatório (sem valor padrão) pode ser deixado de fora."
   ]
  },
  {
   "cell_type": "code",
   "execution_count": 52,
   "id": "ceb2f4c3",
   "metadata": {},
   "outputs": [
    {
     "name": "stdout",
     "output_type": "stream",
     "text": [
      "9\n",
      "9\n",
      "9\n",
      "9\n",
      "9\n",
      "9\n"
     ]
    }
   ],
   "source": [
    "def soma(a, b, imprime = False):\n",
    "    resultado = a + b\n",
    "    if imprime:\n",
    "        print(resultado)\n",
    "    return resultado\n",
    "\n",
    "x = soma(5, 4, True)\n",
    "x = soma(a = 5, b = 4, imprime = True)\n",
    "x = soma(5, b = 4, imprime = True)\n",
    "x = soma(5, 4, imprime = True)\n",
    "x = soma(b = 4, a = 5, imprime = True)\n",
    "x = soma(imprime = True, b = 4, a = 5)\n",
    "\n",
    "# as chamadas abaixo são inválidas (e causam erro na execução)\n",
    "#x = soma(a = 5, 4, imprime = True)\n",
    "#x = soma(a = 5, b = 4, True)\n",
    "#x = soma(5, b = 4, True)\n",
    "#x = soma(b = 4, 5, True)\n",
    "#x = soma(True, a = 5, b = 4)"
   ]
  },
  {
   "cell_type": "markdown",
   "id": "b3439380",
   "metadata": {},
   "source": [
    "***\n",
    "\n",
    "**Exercício:** crie uma função que desenhe um retângulo preenchido com asteriscos na tela. Essa função recebe como argumentos a largura e altura do retângulo. Implemente a função de modo a permitir modificar o caractere do desenho, se desejado."
   ]
  },
  {
   "cell_type": "code",
   "execution_count": 51,
   "id": "c08d8cd6",
   "metadata": {},
   "outputs": [
    {
     "name": "stdout",
     "output_type": "stream",
     "text": [
      "****\n",
      "****\n",
      "****\n",
      "++++++\n",
      "++++++\n",
      "++++++\n"
     ]
    }
   ],
   "source": [
    "def retangulo(largura, altura, caractere = '*'):\n",
    "    linha = caractere * largura\n",
    "    for i in range(altura):\n",
    "        print(linha)\n",
    "        \n",
    "retangulo(4, 3)\n",
    "retangulo(6, 3, '+')\n",
    "retangulo"
   ]
  },
  {
   "cell_type": "markdown",
   "id": "4f784ebe",
   "metadata": {},
   "source": [
    "**Exercício:** modifique a função que valida a entrada de dados com base no intervalo fornecido pelo usuário, tornando seus parâmetros opcionais. Deve ser possível chamar a função sem qualquer parâmetro, o que não restringe o valor informado pelo usuário (qualquer número é válido). Também deve ser possível chamar a função definindo somente os intervalos desejados, mas usando um texto padrão para a mensagem ao usuário. Teste a nova função com diferentes configurações."
   ]
  },
  {
   "cell_type": "code",
   "execution_count": 55,
   "id": "78d6b45a",
   "metadata": {},
   "outputs": [
    {
     "name": "stdout",
     "output_type": "stream",
     "text": [
      "Informe um número entre 1 e 5: 2\n",
      "2\n",
      "Informe um número: 2\n",
      "2\n",
      "Informe um número entre 1 e 5: 2\n",
      "2\n",
      "Informe um número: 2\n",
      "2\n",
      "Informe um número: -500\n",
      "-500\n"
     ]
    }
   ],
   "source": [
    "def entrada(valor_min = float('-inf'), valor_max = float('inf'), texto = 'Informe um número'):\n",
    "    while True:\n",
    "        n = int(input(texto + ': '))\n",
    "        if n >= valor_min and n <= valor_max: return n\n",
    "        else: print('O valor informado é inválido! Informe um valor entre ' + str(valor_min) + ' e ' + str(valor_max) + '.')\n",
    "\n",
    "print(entrada(1, 5, 'Informe um número entre 1 e 5'))\n",
    "print(entrada(1, 5))\n",
    "print(entrada(valor_min = 1, valor_max = 5, texto = 'Informe um número entre 1 e 5'))\n",
    "print(entrada(valor_max = 5, valor_min = 1))\n",
    "print(entrada(valor_max = 5))"
   ]
  }
 ],
 "metadata": {
  "kernelspec": {
   "display_name": "Python 3 (ipykernel)",
   "language": "python",
   "name": "python3"
  },
  "language_info": {
   "codemirror_mode": {
    "name": "ipython",
    "version": 3
   },
   "file_extension": ".py",
   "mimetype": "text/x-python",
   "name": "python",
   "nbconvert_exporter": "python",
   "pygments_lexer": "ipython3",
   "version": "3.8.10"
  }
 },
 "nbformat": 4,
 "nbformat_minor": 5
}
