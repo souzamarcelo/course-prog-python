{
 "cells": [
  {
   "cell_type": "markdown",
   "id": "461e41e3",
   "metadata": {},
   "source": [
    "<div align=\"right\" style=\"text-align:right\"><a rel=\"license\" href=\"http://creativecommons.org/licenses/by-nc-nd/4.0/\"><img alt=\"Licença Creative Commons\" style=\"border-width:0; float:right\" src=\"https://i.creativecommons.org/l/by-nc-nd/4.0/88x31.png\" /></a><br><br><i>Prof. Marcelo de Souza</i><br>marcelo.desouza@udesc.br</div>"
   ]
  },
  {
   "cell_type": "markdown",
   "id": "3c383b49",
   "metadata": {},
   "source": [
    "# Manipulação de strings\n",
    "\n",
    "Neste material, veremos diversas operações úteis sobre strings.\n",
    "\n",
    "---"
   ]
  },
  {
   "cell_type": "markdown",
   "id": "99b9c751",
   "metadata": {},
   "source": [
    "## Tamanho de uma string"
   ]
  },
  {
   "cell_type": "code",
   "execution_count": 1,
   "id": "96b083f6",
   "metadata": {},
   "outputs": [
    {
     "name": "stdout",
     "output_type": "stream",
     "text": [
      "3\n",
      "0\n",
      "24\n"
     ]
    }
   ],
   "source": [
    "print(len('abc'))\n",
    "print(len(''))\n",
    "print(len('Um texto um pouco maior!'))"
   ]
  },
  {
   "cell_type": "markdown",
   "id": "bf208a5e",
   "metadata": {},
   "source": [
    "## Acesso a caracteres"
   ]
  },
  {
   "cell_type": "code",
   "execution_count": 2,
   "id": "ab376df0",
   "metadata": {},
   "outputs": [
    {
     "name": "stdout",
     "output_type": "stream",
     "text": [
      "M\n",
      "i\n",
      "n\n",
      "[...]\n",
      "g\n",
      "!\n"
     ]
    }
   ],
   "source": [
    "s = 'Minha string!'\n",
    "print(s[0])\n",
    "print(s[1])\n",
    "print(s[2])\n",
    "print('[...]')\n",
    "print(s[len(s)-2])\n",
    "print(s[len(s)-1])"
   ]
  },
  {
   "cell_type": "markdown",
   "id": "8ac601ba",
   "metadata": {},
   "source": [
    "## Fatiamento de strings\n",
    "\n",
    "O comando ``s[i:j]`` acessa a fatia da string ``s`` compreendendo os caracteres de ``i`` até ``j-1``."
   ]
  },
  {
   "cell_type": "code",
   "execution_count": 4,
   "id": "b830f473",
   "metadata": {},
   "outputs": [
    {
     "name": "stdout",
     "output_type": "stream",
     "text": [
      "Ib\n",
      "iram\n"
     ]
    }
   ],
   "source": [
    "s = 'Ibirama'\n",
    "print(s[0:2])\n",
    "print(s[2:6])"
   ]
  },
  {
   "cell_type": "markdown",
   "id": "355bf133",
   "metadata": {},
   "source": [
    "Podemos omitir o primeiro índice, ``s[:j]``, fatiando a string desde seu início até o índice ``j-1``. Da mesma forma, ao omitir o segundo índice, ``s[i:]``, fatiamos a string desde o índice ``i`` até o final."
   ]
  },
  {
   "cell_type": "code",
   "execution_count": 5,
   "id": "2c511608",
   "metadata": {},
   "outputs": [
    {
     "name": "stdout",
     "output_type": "stream",
     "text": [
      "Programa\n",
      "amar é legal!\n"
     ]
    }
   ],
   "source": [
    "s = 'Programar é legal!'\n",
    "print(s[:8])\n",
    "print(s[5:])"
   ]
  },
  {
   "cell_type": "markdown",
   "id": "a6a00b8a",
   "metadata": {},
   "source": [
    "Ao usar índices negativos, indicamos posições a partir da direita (i.e. do final da string). A posição -1 é o último caractere, -2 é o penúltimo, etc."
   ]
  },
  {
   "cell_type": "code",
   "execution_count": 6,
   "id": "6887a9b1",
   "metadata": {},
   "outputs": [
    {
     "name": "stdout",
     "output_type": "stream",
     "text": [
      "Palmeir\n",
      "s\n",
      "ras\n",
      "meir\n"
     ]
    }
   ],
   "source": [
    "s = 'Palmeiras'\n",
    "print(s[0:-2]) # Removendo os dois últimos caracteres\n",
    "print(s[-1:])  # Fatiando do último caractere até o final da string\n",
    "print(s[-3:])  # Mesma operação com os três últimos caracteres\n",
    "print(s[-6:7])"
   ]
  },
  {
   "cell_type": "markdown",
   "id": "36691539",
   "metadata": {},
   "source": [
    "## Verificação parcial de strings"
   ]
  },
  {
   "cell_type": "code",
   "execution_count": 1,
   "id": "8207f0b9",
   "metadata": {},
   "outputs": [
    {
     "name": "stdout",
     "output_type": "stream",
     "text": [
      "True\n",
      "False\n",
      "False\n",
      "True\n"
     ]
    }
   ],
   "source": [
    "nome = 'Maria da Silva'\n",
    "\n",
    "print(nome.startswith('Mari'))\n",
    "print(nome.startswith('mari'))\n",
    "print(nome.endswith('Silv'))\n",
    "print(nome.endswith('Silva'))"
   ]
  },
  {
   "cell_type": "markdown",
   "id": "c2a5859f",
   "metadata": {},
   "source": [
    "## Conversão de maiúsculas a minúsculas"
   ]
  },
  {
   "cell_type": "code",
   "execution_count": 2,
   "id": "0df2b105",
   "metadata": {},
   "outputs": [
    {
     "name": "stdout",
     "output_type": "stream",
     "text": [
      "O CÉU É AZUL\n",
      "o céu é azul\n",
      "True\n",
      "False\n"
     ]
    }
   ],
   "source": [
    "texto = 'O céu é azul'\n",
    "\n",
    "print(texto.upper())\n",
    "print(texto.lower())\n",
    "\n",
    "print(texto.upper().startswith('O CÉU'))\n",
    "print(texto.lower().startswith('O céu'))"
   ]
  },
  {
   "cell_type": "markdown",
   "id": "creative-excuse",
   "metadata": {},
   "source": [
    "## Verificação de conteúdo"
   ]
  },
  {
   "cell_type": "code",
   "execution_count": 9,
   "id": "7c74dd6a",
   "metadata": {},
   "outputs": [
    {
     "name": "stdout",
     "output_type": "stream",
     "text": [
      "True\n",
      "False\n",
      "True\n",
      "A palavra azul aparece no texto!\n",
      "True\n",
      "False\n",
      "True\n"
     ]
    }
   ],
   "source": [
    "texto = 'O céu é azul'\n",
    "\n",
    "print('céu' in texto)\n",
    "print('Céu' in texto)\n",
    "print('a' in texto)\n",
    "\n",
    "palavra = 'azul'\n",
    "if palavra in texto:\n",
    "    print(f'A palavra {palavra} aparece no texto!')\n",
    "    \n",
    "print('verde' not in texto)\n",
    "print(palavra not in texto)\n",
    "print('Céu'.upper() in texto.upper())"
   ]
  },
  {
   "cell_type": "markdown",
   "id": "lyric-catalog",
   "metadata": {},
   "source": [
    "## Contagem de conteúdo"
   ]
  },
  {
   "cell_type": "code",
   "execution_count": 10,
   "id": "554004f3",
   "metadata": {},
   "outputs": [
    {
     "name": "stdout",
     "output_type": "stream",
     "text": [
      "1\n",
      "2\n",
      "0\n",
      "Existem 2 ocorrências da letra u no texto\n",
      "1\n",
      "2\n"
     ]
    }
   ],
   "source": [
    "texto = 'O céu é azul'\n",
    "print(texto.count('a'))\n",
    "print(texto.count('é'))\n",
    "print(texto.count('e'))\n",
    "\n",
    "num = texto.count('u')\n",
    "print(f'Existem {num} ocorrências da letra u no texto')\n",
    "\n",
    "palavra = 'azul'\n",
    "print(texto.count('azul'))\n",
    "texto = 'O céu é azul. O planeta terra é azul!'\n",
    "print(texto.count('azul'))"
   ]
  },
  {
   "cell_type": "markdown",
   "id": "paperback-module",
   "metadata": {},
   "source": [
    "## Busca de conteúdo"
   ]
  },
  {
   "cell_type": "code",
   "execution_count": 11,
   "id": "26c1b12f",
   "metadata": {},
   "outputs": [
    {
     "name": "stdout",
     "output_type": "stream",
     "text": [
      "2\n",
      "-1\n",
      "2\n",
      "16\n",
      "16\n",
      "-1\n",
      "Palavra encontrada na posição 2.\n",
      "Palavra encontrada na posição 16.\n",
      "Palavra encontrada na posição 32.\n"
     ]
    }
   ],
   "source": [
    "texto = 'O céu é azul'\n",
    "print(texto.find('céu'))   # retorna o índice onde o conteúdo (string) foi encontrado\n",
    "print(texto.find('Céu'))   # retorna -1 se o conteúdo (string) não foi encontrado\n",
    "\n",
    "texto = 'O céu é azul. O céu é bonito.'\n",
    "print(texto.find('céu'))   # retorna o índice da primeira ocorrência do conteúdo\n",
    "\n",
    "# podemos iniciar a busca pelo fim (direita), encontrando a última ocorrência do conteúdo\n",
    "print(texto.rfind('céu'))\n",
    "\n",
    "# podemos limitar a busca, informando uma posição de início\n",
    "print(texto.find('céu', 3))\n",
    "\n",
    "# podemos limitar a busca, informando uma posição de início e outra de fim\n",
    "print(texto.find('céu', 3, 15))\n",
    "\n",
    "# se quisermos buscar todas as ocorrências, usamos os comandos acima com um laço de repetição\n",
    "texto = 'O céu é azul. O céu é bonito. O céu é demais!'\n",
    "indice = 0\n",
    "while indice != -1:\n",
    "    indice = texto.find('céu', indice)\n",
    "    if indice >= 0:\n",
    "        print(f'Palavra encontrada na posição {indice}.')\n",
    "        indice += 1"
   ]
  },
  {
   "cell_type": "markdown",
   "id": "downtown-puppy",
   "metadata": {},
   "source": [
    "## Alinhamento de strings"
   ]
  },
  {
   "cell_type": "code",
   "execution_count": 12,
   "id": "cf2679b7",
   "metadata": {},
   "outputs": [
    {
     "name": "stdout",
     "output_type": "stream",
     "text": [
      "|  UDESC   |\n",
      "|UDESC     |\n",
      "|     UDESC|\n",
      "Universidade:..........UDESC\n"
     ]
    }
   ],
   "source": [
    "palavra = 'UDESC'\n",
    "centralizado = palavra.center(10)\n",
    "esquerda = palavra.ljust(10)\n",
    "direita = palavra.rjust(10)\n",
    "print('|' + centralizado + '|')\n",
    "print('|' + esquerda + '|')\n",
    "print('|' + direita + '|')\n",
    "\n",
    "# podemos preencher os espaços em branco com um caractere desejado\n",
    "print('Universidade:' + palavra.rjust(15, '.'))"
   ]
  },
  {
   "cell_type": "markdown",
   "id": "placed-hayes",
   "metadata": {},
   "source": [
    "## Quebra/separação de strings"
   ]
  },
  {
   "cell_type": "code",
   "execution_count": 26,
   "id": "e379302c",
   "metadata": {},
   "outputs": [
    {
     "name": "stdout",
     "output_type": "stream",
     "text": [
      "['O', 'céu', 'é', 'azul']\n",
      "['O', 'céu', 'é', 'azul']\n",
      "\n",
      "['O', 'céu', 'é', 'azul']\n",
      "O\n",
      "é\n",
      "\n",
      "O céu\n",
      "é azul\n",
      "e bonito!\n",
      "['O céu', 'é azul', 'e bonito!']\n",
      "['O céu', 'é azul', 'e bonito!']\n",
      "\n",
      "['José: 43', 'Maria: 38', 'Ana: 21']\n",
      "José 43\n",
      "Maria 38\n",
      "Ana 21\n"
     ]
    }
   ],
   "source": [
    "texto = 'O céu é azul'\n",
    "separado = texto.split(' ')\n",
    "print(separado)\n",
    "separado = texto.split()\n",
    "print(separado)\n",
    "print()\n",
    "\n",
    "texto = 'O@céu@é@azul'\n",
    "separado = texto.split('@')\n",
    "print(separado)\n",
    "print(separado[0])\n",
    "print(separado[2])\n",
    "print()\n",
    "\n",
    "texto = 'O céu\\né azul\\ne bonito!'\n",
    "print(texto)\n",
    "linhas = texto.split('\\n')\n",
    "print(linhas)\n",
    "linhas = texto.splitlines()\n",
    "print(linhas)\n",
    "print()\n",
    "\n",
    "# considere a seguinte string contendo idades de pessoas 'José: 43; Maria: 38; Ana: 21'\n",
    "dados = 'José: 43; Maria: 38; Ana: 21'\n",
    "dados = dados.split('; ')\n",
    "print(dados)\n",
    "for dado in dados:\n",
    "    dado = dado.split(': ')\n",
    "    nome = dado[0]\n",
    "    idade = int(dado[1])\n",
    "    print(dado[0], dado[1])"
   ]
  },
  {
   "cell_type": "markdown",
   "id": "wired-translator",
   "metadata": {},
   "source": [
    "## Substituição de strings"
   ]
  },
  {
   "cell_type": "code",
   "execution_count": 36,
   "id": "furnished-mainstream",
   "metadata": {},
   "outputs": [
    {
     "name": "stdout",
     "output_type": "stream",
     "text": [
      "O mar é azul\n",
      "O céu é azul\n",
      "O mar é azul\n",
      "\n",
      "O m*r é *zul\n",
      "The mar é azul\n",
      "O mar é azul\n",
      "\n",
      "O --- é azul. O céu é bonito. O céu é demais!\n",
      "O --- é azul. O --- é bonito. O céu é demais!\n",
      "O --- é azul. O --- é bonito. O --- é demais!\n",
      "O --- é azul. O --- é bonito. O --- é demais!\n"
     ]
    }
   ],
   "source": [
    "texto = 'O céu é azul'\n",
    "print(texto.replace('céu', 'mar'))\n",
    "print(texto)   # perceba que a variável não é alterada\n",
    "texto = texto.replace('céu', 'mar')\n",
    "print(texto)   # agora sobrescrevemos o conteúdo da variável, alterando-a\n",
    "print()\n",
    "\n",
    "print(texto.replace('a', '*'))\n",
    "print(texto.replace('O', 'The'))\n",
    "print(texto)\n",
    "print()\n",
    "\n",
    "# podemos definir quantas ocorrências serão substituídas\n",
    "texto = 'O céu é azul. O céu é bonito. O céu é demais!'\n",
    "print(texto.replace('céu', '---', 1))\n",
    "print(texto.replace('céu', '---', 2))\n",
    "print(texto.replace('céu', '---', 3))\n",
    "print(texto.replace('céu', '---', 4))"
   ]
  },
  {
   "cell_type": "markdown",
   "id": "prescription-doubt",
   "metadata": {},
   "source": [
    "## Remoção de caracteres das extremidades"
   ]
  },
  {
   "cell_type": "code",
   "execution_count": 53,
   "id": "straight-honor",
   "metadata": {},
   "outputs": [
    {
     "name": "stdout",
     "output_type": "stream",
     "text": [
      "|   UDESC  |\n",
      "|UDESC|\n",
      "|UDESC  |\n",
      "|   UDESC|\n",
      "|   UDESC  |\n",
      "\n",
      "---...UDESC---...\n",
      "---...UDESC---\n",
      "...UDESC---...\n",
      "UDESC\n",
      "UDESC---...\n",
      "---...UDESC\n"
     ]
    }
   ],
   "source": [
    "# remoção de espaços em branco\n",
    "texto = '   UDESC  '\n",
    "print('|' + texto + '|')\n",
    "print('|' + texto.strip() + '|')\n",
    "print('|' + texto.lstrip() + '|')\n",
    "print('|' + texto.rstrip() + '|')\n",
    "print('|' + texto + '|')\n",
    "print()\n",
    "\n",
    "# remoção de outros caracteres\n",
    "texto = '---...UDESC---...'\n",
    "print(texto)\n",
    "print(texto.strip('.'))\n",
    "print(texto.strip('-'))\n",
    "print(texto.strip('-.'))\n",
    "print(texto.lstrip('-.'))\n",
    "print(texto.rstrip('-.'))"
   ]
  },
  {
   "cell_type": "markdown",
   "id": "original-kentucky",
   "metadata": {},
   "source": [
    "## Validação de conteúdo"
   ]
  },
  {
   "cell_type": "code",
   "execution_count": 14,
   "id": "confidential-beverage",
   "metadata": {},
   "outputs": [
    {
     "name": "stdout",
     "output_type": "stream",
     "text": [
      "False True False True \n",
      "False False False True \n",
      "False True False False \n",
      "False True False \n",
      "False False True \n",
      "True False \n",
      "False True "
     ]
    }
   ],
   "source": [
    "vazio = ''\n",
    "numero = '132'\n",
    "numero_ponto = '132.7'\n",
    "frase = 'O céu é azul'\n",
    "palavra = 'Pacífico'\n",
    "\n",
    "# verificar se todos os caracteres são letras ou números\n",
    "print(vazio.isalnum(), end = ' ')\n",
    "print(numero.isalnum(), end = ' ')\n",
    "print(frase.isalnum(), end = ' ')\n",
    "print(palavra.isalnum(), end = ' ')\n",
    "print()\n",
    "\n",
    "# verificar se todos os caracteres são letras (incluindo acentuadas)\n",
    "print(vazio.isalpha(), end = ' ')\n",
    "print(numero.isalpha(), end = ' ')\n",
    "print(frase.isalpha(), end = ' ')\n",
    "print(palavra.isalpha(), end = ' ')\n",
    "print()\n",
    "\n",
    "# verificar se todos os caracteres são números\n",
    "print(vazio.isdigit(), end = ' ')\n",
    "print(numero.isdigit(), end = ' ')\n",
    "print(frase.isdigit(), end = ' ')\n",
    "print(palavra.isdigit(), end = ' ')\n",
    "print()\n",
    "\n",
    "# verificar se os caracteres são minúsculos ou maiúsculos\n",
    "a = 'Olá'\n",
    "b = 'OLÁ'\n",
    "c = 'olá'\n",
    "\n",
    "print(a.isupper(), end = ' ')\n",
    "print(b.isupper(), end = ' ')\n",
    "print(c.isupper(), end = ' ')\n",
    "print()\n",
    "\n",
    "print(a.islower(), end = ' ')\n",
    "print(b.islower(), end = ' ')\n",
    "print(c.islower(), end = ' ')\n",
    "print()\n",
    "\n",
    "# verificar se todos os caracteres são de espaçamento\n",
    "a = '\\t\\n\\r  '\n",
    "b = '\\tOlá\\n '\n",
    "print(a.isspace(), end = ' ')\n",
    "print(b.isspace(), end = ' ')\n",
    "print()\n",
    "\n",
    "# verificar se algum caractere não é impresso em tela\n",
    "a = 'Texto\\n'\n",
    "b = 'Olá'\n",
    "print(a.isprintable(), end = ' ')\n",
    "print(b.isprintable(), end = ' ')"
   ]
  },
  {
   "cell_type": "markdown",
   "id": "bf512847",
   "metadata": {},
   "source": [
    "## Composição de strings"
   ]
  },
  {
   "cell_type": "markdown",
   "id": "1ba07182",
   "metadata": {},
   "source": [
    "Consiste em criar um modelo através de uma string, no qual inserimos dados para compor a string final que será apresentada em tela ou armazenada.\n",
    "+ A composição substitui a concatenação de strings e é útil em muitos casos, como para apresentar dados em tela.\n",
    "\n",
    "Primeiro, definimos a string modelo, usando o símbolo ``%`` para indicar posições que serã completadas com dados. Após o símbolo ``%`` devemos indicar o tipo de dado que será inserido, usando um dos seguintes caracteres de idenficiação:\n",
    "+ ``%d``: inteiro\n",
    "+ ``%s``: string\n",
    "+ ``%f``: float\n",
    "\n",
    "Finalmente, usamos mais um caractere ``%`` para separar a string modelo dos dados para preenchimento, os quais são informados (quando mais que um) entre parêntesis e separados por vírgula."
   ]
  },
  {
   "cell_type": "code",
   "execution_count": 7,
   "id": "d4e5ec46",
   "metadata": {},
   "outputs": [
    {
     "name": "stdout",
     "output_type": "stream",
     "text": [
      "Seu nome é Maria. Ela tem 31 anos de idade e seu salário é de R$ 8237.610000\n",
      "A multiplicação de 8.500000 por 9.000000 é 76.500000!\n"
     ]
    }
   ],
   "source": [
    "nome = 'Maria'\n",
    "idade = 31\n",
    "salario = 8237.61\n",
    "\n",
    "s = 'Seu nome é %s. Ela tem %d anos de idade e seu salário é de R$ %f' % (nome, idade, salario)\n",
    "print(s)\n",
    "\n",
    "a = 8.5\n",
    "b = 9\n",
    "print('A multiplicação de %f por %f é %f!' % (a, b, a * b))"
   ]
  },
  {
   "cell_type": "markdown",
   "id": "92f57f92",
   "metadata": {},
   "source": [
    "Podemos definir configurações para a forma de apresentação dos dados inserindo comandos entre o caractere ``%`` e o caractere de definição do tipo (``d``, ``s`` ou ``f``).\n",
    "\n",
    "Exemplos:\n",
    "+ ``%03d`` define que o número ocupe 3 dígitos e adicione zeros à esquerda, quando necessário;\n",
    "+ ``%3d`` é similar ao anterior, mas sem adicionar os zeros;\n",
    "+ ``%5.2f`` define que o float vai ocupar 5 posições, sendo duas delas para a parte decimal."
   ]
  },
  {
   "cell_type": "code",
   "execution_count": 8,
   "id": "2500d7e0",
   "metadata": {},
   "outputs": [
    {
     "name": "stdout",
     "output_type": "stream",
     "text": [
      "[12]\n",
      "[012]\n",
      "[ 12]\n",
      "[12 ]\n",
      "7.300000\n",
      "[ 7.30]\n",
      "[7.300     ]\n",
      "[R$ 7.30]\n"
     ]
    }
   ],
   "source": [
    "numero = 12\n",
    "valor = 7.3\n",
    "\n",
    "print('[%d]' % numero)\n",
    "print('[%03d]' % numero)\n",
    "print('[%3d]' % numero)\n",
    "print('[%-3d]' % numero) # Usando o símbolo - inserimos o espaço à direita do número\n",
    "\n",
    "print('%f' % valor)\n",
    "print('[%5.2f]' % valor)\n",
    "print('[%-10.3f]' % valor)\n",
    "print('[R$ %.2f]' % valor)"
   ]
  }
 ],
 "metadata": {
  "kernelspec": {
   "display_name": "Python 3 (ipykernel)",
   "language": "python",
   "name": "python3"
  },
  "language_info": {
   "codemirror_mode": {
    "name": "ipython",
    "version": 3
   },
   "file_extension": ".py",
   "mimetype": "text/x-python",
   "name": "python",
   "nbconvert_exporter": "python",
   "pygments_lexer": "ipython3",
   "version": "3.8.10"
  }
 },
 "nbformat": 4,
 "nbformat_minor": 5
}
