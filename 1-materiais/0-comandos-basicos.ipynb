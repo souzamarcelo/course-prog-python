{
 "cells": [
  {
   "cell_type": "markdown",
   "id": "strange-pickup",
   "metadata": {},
   "source": [
    "<div align=\"right\" style=\"text-align:right\"><a rel=\"license\" href=\"http://creativecommons.org/licenses/by-nc-nd/4.0/\"><img alt=\"Licença Creative Commons\" style=\"border-width:0; float:right\" src=\"https://i.creativecommons.org/l/by-nc-nd/4.0/88x31.png\" /></a><br><br><i>Prof. Marcelo de Souza</i><br>marcelo.desouza@udesc.br</div>"
   ]
  },
  {
   "cell_type": "markdown",
   "id": "communist-colors",
   "metadata": {},
   "source": [
    "# Comandos básicos\n",
    "\n",
    "Este notebook detalha alguns comandos básicos em Python, incluindo:\n",
    "+ Impressão de conteúdo em tela\n",
    "+ Entrada de dados\n",
    "+ Comentários"
   ]
  },
  {
   "cell_type": "markdown",
   "id": "mental-advance",
   "metadata": {},
   "source": [
    "## 1. Imprimir conteúdo na tela\n",
    "\n",
    "O comando ``print`` exibe o conteúdo informado entre parêntesis na tela. Pode-se informar textos (usando áspas simples ou duplas), valores numéricos e de outros tipos (que serão estudados mais adiante). Também pode-se informar vários valores, separados por vírgula."
   ]
  },
  {
   "cell_type": "code",
   "execution_count": 3,
   "id": "endangered-spain",
   "metadata": {
    "scrolled": false
   },
   "outputs": [
    {
     "name": "stdout",
     "output_type": "stream",
     "text": [
      "Imprimindo um texto usando áspas simples\n",
      "Imprimindo um texto usando áspas duplas\n",
      "Na sequência, serão impressos alguns números\n",
      "4\n",
      "1.2\n",
      "2.5\n",
      "Veja alguns números primos: 2 3 5 7 11 13 17\n"
     ]
    }
   ],
   "source": [
    "print('Imprimindo um texto usando áspas simples')\n",
    "print(\"Imprimindo um texto usando áspas duplas\")\n",
    "print('Na sequência, serão impressos alguns números')\n",
    "print(4)\n",
    "print(1.2)\n",
    "print(10/4)\n",
    "print('Veja alguns números primos:', 2, 3, 5, 7, 11, 13, 17)"
   ]
  },
  {
   "cell_type": "markdown",
   "id": "marked-albany",
   "metadata": {},
   "source": [
    "**Note:**\n",
    "+ Os comandos são executados em sequência (de cima para baixo).\n",
    "+ É possível informar expressões matemáticas (e.g. 10/4) como argumento do comando ``print``. Neste caso, primeiro é calculado o resultado da expressão, e depois ele é exibido em tela.\n",
    "---"
   ]
  },
  {
   "cell_type": "markdown",
   "id": "65b38785",
   "metadata": {},
   "source": [
    "## 2. Entrada de dados"
   ]
  },
  {
   "cell_type": "markdown",
   "id": "ab2877eb",
   "metadata": {},
   "source": [
    "### 2.1 Solicitando dados do usuário (*na execução*)\n",
    "\n",
    "Para solicitar que o usuário digite um dado, usamos o comando ``input``, informando o texto que será exibido a ele na solicitação. O valor informado pelo usuário será armazenado em uma variável. O retorno do comando ``input`` é uma ``string`` contendo o valor digitado pelo usuário, mesmo quando ele digita um número. Por isso, o valor deve ser convertido para o tipo desejado.\n",
    "\n",
    "No exemplo abaixo, solicitamos vários dados e, em seguida, os apresentamos em tela. Também fazemos algumas operações com esses dados, já que estão armazenados em variáveis. No caso da idade, antes de fazer qualquer operação matemática, é necessário converter o valor informado pelo usuário (do tipo ``string``) para inteiro (com o comando ``int(#)``)."
   ]
  },
  {
   "cell_type": "code",
   "execution_count": null,
   "id": "e62121ac",
   "metadata": {},
   "outputs": [],
   "source": [
    "nome = input('Informe seu nome ')\n",
    "print('O nome do sujeito é', nome)\n",
    "idade = int(input('Informe sua idade '))\n",
    "print(nome, 'tem', idade, 'anos de idade!')\n",
    "anos = 20\n",
    "idade = idade + anos\n",
    "print('Daqui', anos, 'anos,', nome, 'terá', idade, 'anos de idade!')"
   ]
  },
  {
   "cell_type": "markdown",
   "id": "57d5177e",
   "metadata": {},
   "source": [
    "### 2.2 Lendo dados na chamada do programa (*na chamada*)\n",
    "\n",
    "A chamada (pelo terminal) de um programa escrito em Python é ``python programa.py``, onde ``programa.py`` é o nome do arquivo onde se encontra o código que será executado. Podemos passar quantos valores sejam necessários para a execução de ``programa.py`` na própria chamada. Por exemplo, ``python programa.py José 15`` faz a chamada informando os valores \"José\" e \"15\". Para ler esses valores, usamos o módulo ``sys`` e sua variável ``sys.argv``. Primeiro, importamos o módulo usando ``import sys`` e em seguida acessamos o primeiro valor (\"José\") usando ``sys.argv[1]`` e o segundo valor (\"15\") usando ``sys.argv[2]``. Da mesma forma, devemos converter o valor numérico para inteiro antes de qualquer operação matemática, visto que todos os valores informados na chamada são recebidos como valores textuais (``string``).\n",
    "\n",
    "O exemplo abaixo faz as mesmas operações do exemplo anterior, mas recebendo os dados pela chamada do programa.\n",
    "\n",
    "Chamada: ``python programa.py José 15``\n",
    "\n",
    "Código de ``programa.py``:\n",
    "\n",
    "```python\n",
    "import sys\n",
    "nome = sys.argv[1]\n",
    "print('O nome do sujeito é', nome)\n",
    "idade = int(sys.argv[2])\n",
    "print(nome, 'tem', idade, 'anos de idade!')\n",
    "anos = 20\n",
    "idade = idade + anos\n",
    "print('Daqui', anos, 'anos,', nome, 'terá', idade, 'anos de idade!')\n",
    "```\n",
    "\n",
    "(esse código não pode ser executado no notebook, visto que não há chamada \"externa\")\n",
    "\n",
    "---"
   ]
  },
  {
   "cell_type": "markdown",
   "id": "83fec9ea",
   "metadata": {},
   "source": [
    "## 3. Comentários\n",
    "\n",
    "Comentários simples são inseridos usando o caractere ``#``."
   ]
  },
  {
   "cell_type": "code",
   "execution_count": 3,
   "id": "5e20bee4",
   "metadata": {},
   "outputs": [
    {
     "name": "stdout",
     "output_type": "stream",
     "text": [
      "Ibirama\n"
     ]
    }
   ],
   "source": [
    "# Abaixo, vamos definir uma variável 'cidade' e em seguida exibir seu valor\n",
    "cidade = 'Ibirama'  # Aqui criamos a variável e atribuimos o valor 'Ibirama'\n",
    "print(cidade)       # Finalmente, imprimimos o conteúdo da variável em tela"
   ]
  },
  {
   "cell_type": "markdown",
   "id": "85188fc9",
   "metadata": {},
   "source": [
    "---"
   ]
  }
 ],
 "metadata": {
  "kernelspec": {
   "display_name": "Python 3 (ipykernel)",
   "language": "python",
   "name": "python3"
  },
  "language_info": {
   "codemirror_mode": {
    "name": "ipython",
    "version": 3
   },
   "file_extension": ".py",
   "mimetype": "text/x-python",
   "name": "python",
   "nbconvert_exporter": "python",
   "pygments_lexer": "ipython3",
   "version": "3.8.10"
  }
 },
 "nbformat": 4,
 "nbformat_minor": 5
}
